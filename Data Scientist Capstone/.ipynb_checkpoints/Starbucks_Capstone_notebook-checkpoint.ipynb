{
 "cells": [
  {
   "cell_type": "markdown",
   "metadata": {},
   "source": [
    "# Starbucks Capstone Challenge\n",
    "\n",
    "### Introduction\n",
    "\n",
    "This data set contains simulated data that mimics customer behavior on the Starbucks rewards mobile app. Once every few days, Starbucks sends out an offer to users of the mobile app. An offer can be merely an advertisement for a drink or an actual offer such as a discount or BOGO (buy one get one free). Some users might not receive any offer during certain weeks. \n",
    "\n",
    "Not all users receive the same offer, and that is the challenge to solve with this data set.\n",
    "\n",
    "Your task is to combine transaction, demographic and offer data to determine which demographic groups respond best to which offer type. This data set is a simplified version of the real Starbucks app because the underlying simulator only has one product whereas Starbucks actually sells dozens of products.\n",
    "\n",
    "Every offer has a validity period before the offer expires. As an example, a BOGO offer might be valid for only 5 days. You'll see in the data set that informational offers have a validity period even though these ads are merely providing information about a product; for example, if an informational offer has 7 days of validity, you can assume the customer is feeling the influence of the offer for 7 days after receiving the advertisement.\n",
    "\n",
    "You'll be given transactional data showing user purchases made on the app including the timestamp of purchase and the amount of money spent on a purchase. This transactional data also has a record for each offer that a user receives as well as a record for when a user actually views the offer. There are also records for when a user completes an offer. \n",
    "\n",
    "Keep in mind as well that someone using the app might make a purchase through the app without having received an offer or seen an offer.\n",
    "\n",
    "### Example\n",
    "\n",
    "To give an example, a user could receive a discount offer buy 10 dollars get 2 off on Monday. The offer is valid for 10 days from receipt. If the customer accumulates at least 10 dollars in purchases during the validity period, the customer completes the offer.\n",
    "\n",
    "However, there are a few things to watch out for in this data set. Customers do not opt into the offers that they receive; in other words, a user can receive an offer, never actually view the offer, and still complete the offer. For example, a user might receive the \"buy 10 dollars get 2 dollars off offer\", but the user never opens the offer during the 10 day validity period. The customer spends 15 dollars during those ten days. There will be an offer completion record in the data set; however, the customer was not influenced by the offer because the customer never viewed the offer.\n",
    "\n",
    "### Cleaning\n",
    "\n",
    "This makes data cleaning especially important and tricky.\n",
    "\n",
    "You'll also want to take into account that some demographic groups will make purchases even if they don't receive an offer. From a business perspective, if a customer is going to make a 10 dollar purchase without an offer anyway, you wouldn't want to send a buy 10 dollars get 2 dollars off offer. You'll want to try to assess what a certain demographic group will buy when not receiving any offers.\n",
    "\n",
    "### Final Advice\n",
    "\n",
    "Because this is a capstone project, you are free to analyze the data any way you see fit. For example, you could build a machine learning model that predicts how much someone will spend based on demographics and offer type. Or you could build a model that predicts whether or not someone will respond to an offer. Or, you don't need to build a machine learning model at all. You could develop a set of heuristics that determine what offer you should send to each customer (i.e., 75 percent of women customers who were 35 years old responded to offer A vs 40 percent from the same demographic to offer B, so send offer A)."
   ]
  },
  {
   "cell_type": "markdown",
   "metadata": {},
   "source": [
    "# Data Sets\n",
    "\n",
    "The data is contained in three files:\n",
    "\n",
    "* portfolio.json - containing offer ids and meta data about each offer (duration, type, etc.)\n",
    "* profile.json - demographic data for each customer\n",
    "* transcript.json - records for transactions, offers received, offers viewed, and offers completed\n",
    "\n",
    "Here is the schema and explanation of each variable in the files:\n",
    "\n",
    "**portfolio.json**\n",
    "* id (string) - offer id\n",
    "* offer_type (string) - type of offer ie BOGO, discount, informational\n",
    "* difficulty (int) - minimum required spend to complete an offer\n",
    "* reward (int) - reward given for completing an offer\n",
    "* duration (int) - time for offer to be open, in days\n",
    "* channels (list of strings)\n",
    "\n",
    "**profile.json**\n",
    "* age (int) - age of the customer \n",
    "* became_member_on (int) - date when customer created an app account\n",
    "* gender (str) - gender of the customer (note some entries contain 'O' for other rather than M or F)\n",
    "* id (str) - customer id\n",
    "* income (float) - customer's income\n",
    "\n",
    "**transcript.json**\n",
    "* event (str) - record description (ie transaction, offer received, offer viewed, etc.)\n",
    "* person (str) - customer id\n",
    "* time (int) - time in hours since start of test. The data begins at time t=0\n",
    "* value - (dict of strings) - either an offer id or transaction amount depending on the record\n",
    "\n",
    "**Note:** If you are using the workspace, you will need to go to the terminal and run the command `conda update pandas` before reading in the files. This is because the version of pandas in the workspace cannot read in the transcript.json file correctly, but the newest version of pandas can. You can access the termnal from the orange icon in the top left of this notebook.  \n",
    "\n",
    "You can see how to access the terminal and how the install works using the two images below.  First you need to access the terminal:\n",
    "\n",
    "<img src=\"pic1.png\"/>\n",
    "\n",
    "Then you will want to run the above command:\n",
    "\n",
    "<img src=\"pic2.png\"/>\n",
    "\n",
    "Finally, when you enter back into the notebook (use the jupyter icon again), you should be able to run the below cell without any errors."
   ]
  },
  {
   "cell_type": "code",
   "execution_count": 1,
   "metadata": {},
   "outputs": [],
   "source": [
    "import pandas as pd\n",
    "import numpy as np\n",
    "import math\n",
    "import json\n",
    "\n",
    "# read in the json files\n",
    "portfolio = pd.read_json('data/portfolio.json', orient='records', lines=True)\n",
    "profile = pd.read_json('data/profile.json', orient='records', lines=True)\n",
    "transcript = pd.read_json('data/transcript.json', orient='records', lines=True)"
   ]
  },
  {
   "attachments": {},
   "cell_type": "markdown",
   "metadata": {},
   "source": [
    "Problem statement\n",
    "\n",
    "In traditional marketing approach, the marketer does not know what is the offer the customer need?. \n",
    "Therefore, not only the business is not optimized but also get complained from customer. \n",
    "In this project, Customer profile, offer porfolio, and transaction data will be used to build predictive model \n",
    "for resolving the problem by predicting the chance the customer make the offer completed.\n",
    "\n",
    "Project Goal\n",
    "\n",
    "The project's purpose is data mining, data analysis, data transformation, and predicting the likelihood of customers using an offer if it is sent to a customer. Finally, improve the accuracy of the model.\n",
    "\n",
    "1. Data Exploration\n",
    "\n",
    "    1.1. Preparation\n",
    "    \n",
    "    1.2. Data Transformation\n",
    "    \n",
    "    1.3. Handle Missing Value\n",
    "\n",
    "2. Data Analysis\n",
    "\n",
    "    2.1. What is the average income of each gender group?\n",
    "  \n",
    "    2.2. How many new users each year?\n",
    "    \n",
    "    2.3. How many new users each month?\n",
    "\n",
    "    2.4. How many new users per day?\n",
    "\n",
    "    2.5. How many new users are there on weekends and other days?\n",
    "\n",
    "    2.6. If dividing users by age group such as Youth, Adults, Seniors, and Older, how many users are in each age group?\n",
    "\n",
    "    2.7. In each age group, what is the sex ratio in the age groups?\n",
    "\n",
    "    2.8. In each gender group, what is the average total amount of money the user has spent?\n",
    "\n",
    "    2.9. In each income group, what is the average amount of money the user has spent?\n",
    "\n",
    "    2.10. How many users participate in each income group in years?\n",
    "\n",
    "    2.11. If the income of each user is divided into 3 groups: Lower-income, Middle-income, and Upper-income, how much is the number of users in each group?\n",
    "\n",
    "    2.12. In each income group, what is the average amount of money the user has spent?\n",
    "\n",
    "    2.13. In each income group, what is the average amount of money the user has spent?\n",
    "\n",
    "    2.14. How many users participate in each income group in years?\n",
    "\n",
    "3. Building model\n",
    "\n",
    "    3.1. Data Preparation\n",
    "    \n",
    "    3.2. Model Implement\n",
    "    \n",
    "    3.3. Model Improvement"
   ]
  },
  {
   "cell_type": "markdown",
   "metadata": {},
   "source": [
    "<h1>1. Data Exploration</h1>"
   ]
  },
  {
   "cell_type": "markdown",
   "metadata": {},
   "source": [
    "<h3>1.1. Preparation</h3>"
   ]
  },
  {
   "cell_type": "code",
   "execution_count": 2,
   "metadata": {},
   "outputs": [
    {
     "data": {
      "text/html": [
       "<div>\n",
       "<style scoped>\n",
       "    .dataframe tbody tr th:only-of-type {\n",
       "        vertical-align: middle;\n",
       "    }\n",
       "\n",
       "    .dataframe tbody tr th {\n",
       "        vertical-align: top;\n",
       "    }\n",
       "\n",
       "    .dataframe thead th {\n",
       "        text-align: right;\n",
       "    }\n",
       "</style>\n",
       "<table border=\"1\" class=\"dataframe\">\n",
       "  <thead>\n",
       "    <tr style=\"text-align: right;\">\n",
       "      <th></th>\n",
       "      <th>reward</th>\n",
       "      <th>channels</th>\n",
       "      <th>difficulty</th>\n",
       "      <th>duration</th>\n",
       "      <th>offer_type</th>\n",
       "      <th>id</th>\n",
       "    </tr>\n",
       "  </thead>\n",
       "  <tbody>\n",
       "    <tr>\n",
       "      <th>0</th>\n",
       "      <td>10</td>\n",
       "      <td>[email, mobile, social]</td>\n",
       "      <td>10</td>\n",
       "      <td>7</td>\n",
       "      <td>bogo</td>\n",
       "      <td>ae264e3637204a6fb9bb56bc8210ddfd</td>\n",
       "    </tr>\n",
       "    <tr>\n",
       "      <th>1</th>\n",
       "      <td>10</td>\n",
       "      <td>[web, email, mobile, social]</td>\n",
       "      <td>10</td>\n",
       "      <td>5</td>\n",
       "      <td>bogo</td>\n",
       "      <td>4d5c57ea9a6940dd891ad53e9dbe8da0</td>\n",
       "    </tr>\n",
       "    <tr>\n",
       "      <th>2</th>\n",
       "      <td>0</td>\n",
       "      <td>[web, email, mobile]</td>\n",
       "      <td>0</td>\n",
       "      <td>4</td>\n",
       "      <td>informational</td>\n",
       "      <td>3f207df678b143eea3cee63160fa8bed</td>\n",
       "    </tr>\n",
       "    <tr>\n",
       "      <th>3</th>\n",
       "      <td>5</td>\n",
       "      <td>[web, email, mobile]</td>\n",
       "      <td>5</td>\n",
       "      <td>7</td>\n",
       "      <td>bogo</td>\n",
       "      <td>9b98b8c7a33c4b65b9aebfe6a799e6d9</td>\n",
       "    </tr>\n",
       "    <tr>\n",
       "      <th>4</th>\n",
       "      <td>5</td>\n",
       "      <td>[web, email]</td>\n",
       "      <td>20</td>\n",
       "      <td>10</td>\n",
       "      <td>discount</td>\n",
       "      <td>0b1e1539f2cc45b7b9fa7c272da2e1d7</td>\n",
       "    </tr>\n",
       "  </tbody>\n",
       "</table>\n",
       "</div>"
      ],
      "text/plain": [
       "   reward                      channels  difficulty  duration     offer_type  \\\n",
       "0      10       [email, mobile, social]          10         7           bogo   \n",
       "1      10  [web, email, mobile, social]          10         5           bogo   \n",
       "2       0          [web, email, mobile]           0         4  informational   \n",
       "3       5          [web, email, mobile]           5         7           bogo   \n",
       "4       5                  [web, email]          20        10       discount   \n",
       "\n",
       "                                 id  \n",
       "0  ae264e3637204a6fb9bb56bc8210ddfd  \n",
       "1  4d5c57ea9a6940dd891ad53e9dbe8da0  \n",
       "2  3f207df678b143eea3cee63160fa8bed  \n",
       "3  9b98b8c7a33c4b65b9aebfe6a799e6d9  \n",
       "4  0b1e1539f2cc45b7b9fa7c272da2e1d7  "
      ]
     },
     "execution_count": 2,
     "metadata": {},
     "output_type": "execute_result"
    }
   ],
   "source": [
    "portfolio.head()"
   ]
  },
  {
   "cell_type": "code",
   "execution_count": 3,
   "metadata": {},
   "outputs": [
    {
     "data": {
      "text/html": [
       "<div>\n",
       "<style scoped>\n",
       "    .dataframe tbody tr th:only-of-type {\n",
       "        vertical-align: middle;\n",
       "    }\n",
       "\n",
       "    .dataframe tbody tr th {\n",
       "        vertical-align: top;\n",
       "    }\n",
       "\n",
       "    .dataframe thead th {\n",
       "        text-align: right;\n",
       "    }\n",
       "</style>\n",
       "<table border=\"1\" class=\"dataframe\">\n",
       "  <thead>\n",
       "    <tr style=\"text-align: right;\">\n",
       "      <th></th>\n",
       "      <th>gender</th>\n",
       "      <th>age</th>\n",
       "      <th>id</th>\n",
       "      <th>became_member_on</th>\n",
       "      <th>income</th>\n",
       "    </tr>\n",
       "  </thead>\n",
       "  <tbody>\n",
       "    <tr>\n",
       "      <th>0</th>\n",
       "      <td>None</td>\n",
       "      <td>118</td>\n",
       "      <td>68be06ca386d4c31939f3a4f0e3dd783</td>\n",
       "      <td>20170212</td>\n",
       "      <td>NaN</td>\n",
       "    </tr>\n",
       "    <tr>\n",
       "      <th>1</th>\n",
       "      <td>F</td>\n",
       "      <td>55</td>\n",
       "      <td>0610b486422d4921ae7d2bf64640c50b</td>\n",
       "      <td>20170715</td>\n",
       "      <td>112000.0</td>\n",
       "    </tr>\n",
       "    <tr>\n",
       "      <th>2</th>\n",
       "      <td>None</td>\n",
       "      <td>118</td>\n",
       "      <td>38fe809add3b4fcf9315a9694bb96ff5</td>\n",
       "      <td>20180712</td>\n",
       "      <td>NaN</td>\n",
       "    </tr>\n",
       "    <tr>\n",
       "      <th>3</th>\n",
       "      <td>F</td>\n",
       "      <td>75</td>\n",
       "      <td>78afa995795e4d85b5d9ceeca43f5fef</td>\n",
       "      <td>20170509</td>\n",
       "      <td>100000.0</td>\n",
       "    </tr>\n",
       "    <tr>\n",
       "      <th>4</th>\n",
       "      <td>None</td>\n",
       "      <td>118</td>\n",
       "      <td>a03223e636434f42ac4c3df47e8bac43</td>\n",
       "      <td>20170804</td>\n",
       "      <td>NaN</td>\n",
       "    </tr>\n",
       "  </tbody>\n",
       "</table>\n",
       "</div>"
      ],
      "text/plain": [
       "  gender  age                                id  became_member_on    income\n",
       "0   None  118  68be06ca386d4c31939f3a4f0e3dd783          20170212       NaN\n",
       "1      F   55  0610b486422d4921ae7d2bf64640c50b          20170715  112000.0\n",
       "2   None  118  38fe809add3b4fcf9315a9694bb96ff5          20180712       NaN\n",
       "3      F   75  78afa995795e4d85b5d9ceeca43f5fef          20170509  100000.0\n",
       "4   None  118  a03223e636434f42ac4c3df47e8bac43          20170804       NaN"
      ]
     },
     "execution_count": 3,
     "metadata": {},
     "output_type": "execute_result"
    }
   ],
   "source": [
    "profile.head()"
   ]
  },
  {
   "cell_type": "code",
   "execution_count": 4,
   "metadata": {},
   "outputs": [
    {
     "data": {
      "text/html": [
       "<div>\n",
       "<style scoped>\n",
       "    .dataframe tbody tr th:only-of-type {\n",
       "        vertical-align: middle;\n",
       "    }\n",
       "\n",
       "    .dataframe tbody tr th {\n",
       "        vertical-align: top;\n",
       "    }\n",
       "\n",
       "    .dataframe thead th {\n",
       "        text-align: right;\n",
       "    }\n",
       "</style>\n",
       "<table border=\"1\" class=\"dataframe\">\n",
       "  <thead>\n",
       "    <tr style=\"text-align: right;\">\n",
       "      <th></th>\n",
       "      <th>person</th>\n",
       "      <th>event</th>\n",
       "      <th>value</th>\n",
       "      <th>time</th>\n",
       "    </tr>\n",
       "  </thead>\n",
       "  <tbody>\n",
       "    <tr>\n",
       "      <th>0</th>\n",
       "      <td>78afa995795e4d85b5d9ceeca43f5fef</td>\n",
       "      <td>offer received</td>\n",
       "      <td>{'offer id': '9b98b8c7a33c4b65b9aebfe6a799e6d9'}</td>\n",
       "      <td>0</td>\n",
       "    </tr>\n",
       "    <tr>\n",
       "      <th>1</th>\n",
       "      <td>a03223e636434f42ac4c3df47e8bac43</td>\n",
       "      <td>offer received</td>\n",
       "      <td>{'offer id': '0b1e1539f2cc45b7b9fa7c272da2e1d7'}</td>\n",
       "      <td>0</td>\n",
       "    </tr>\n",
       "    <tr>\n",
       "      <th>2</th>\n",
       "      <td>e2127556f4f64592b11af22de27a7932</td>\n",
       "      <td>offer received</td>\n",
       "      <td>{'offer id': '2906b810c7d4411798c6938adc9daaa5'}</td>\n",
       "      <td>0</td>\n",
       "    </tr>\n",
       "    <tr>\n",
       "      <th>3</th>\n",
       "      <td>8ec6ce2a7e7949b1bf142def7d0e0586</td>\n",
       "      <td>offer received</td>\n",
       "      <td>{'offer id': 'fafdcd668e3743c1bb461111dcafc2a4'}</td>\n",
       "      <td>0</td>\n",
       "    </tr>\n",
       "    <tr>\n",
       "      <th>4</th>\n",
       "      <td>68617ca6246f4fbc85e91a2a49552598</td>\n",
       "      <td>offer received</td>\n",
       "      <td>{'offer id': '4d5c57ea9a6940dd891ad53e9dbe8da0'}</td>\n",
       "      <td>0</td>\n",
       "    </tr>\n",
       "  </tbody>\n",
       "</table>\n",
       "</div>"
      ],
      "text/plain": [
       "                             person           event  \\\n",
       "0  78afa995795e4d85b5d9ceeca43f5fef  offer received   \n",
       "1  a03223e636434f42ac4c3df47e8bac43  offer received   \n",
       "2  e2127556f4f64592b11af22de27a7932  offer received   \n",
       "3  8ec6ce2a7e7949b1bf142def7d0e0586  offer received   \n",
       "4  68617ca6246f4fbc85e91a2a49552598  offer received   \n",
       "\n",
       "                                              value  time  \n",
       "0  {'offer id': '9b98b8c7a33c4b65b9aebfe6a799e6d9'}     0  \n",
       "1  {'offer id': '0b1e1539f2cc45b7b9fa7c272da2e1d7'}     0  \n",
       "2  {'offer id': '2906b810c7d4411798c6938adc9daaa5'}     0  \n",
       "3  {'offer id': 'fafdcd668e3743c1bb461111dcafc2a4'}     0  \n",
       "4  {'offer id': '4d5c57ea9a6940dd891ad53e9dbe8da0'}     0  "
      ]
     },
     "execution_count": 4,
     "metadata": {},
     "output_type": "execute_result"
    }
   ],
   "source": [
    "transcript.head()"
   ]
  },
  {
   "cell_type": "code",
   "execution_count": 5,
   "metadata": {},
   "outputs": [
    {
     "data": {
      "text/html": [
       "<div>\n",
       "<style scoped>\n",
       "    .dataframe tbody tr th:only-of-type {\n",
       "        vertical-align: middle;\n",
       "    }\n",
       "\n",
       "    .dataframe tbody tr th {\n",
       "        vertical-align: top;\n",
       "    }\n",
       "\n",
       "    .dataframe thead th {\n",
       "        text-align: right;\n",
       "    }\n",
       "</style>\n",
       "<table border=\"1\" class=\"dataframe\">\n",
       "  <thead>\n",
       "    <tr style=\"text-align: right;\">\n",
       "      <th></th>\n",
       "      <th>reward</th>\n",
       "      <th>difficulty</th>\n",
       "      <th>duration</th>\n",
       "    </tr>\n",
       "  </thead>\n",
       "  <tbody>\n",
       "    <tr>\n",
       "      <th>count</th>\n",
       "      <td>10.000000</td>\n",
       "      <td>10.000000</td>\n",
       "      <td>10.000000</td>\n",
       "    </tr>\n",
       "    <tr>\n",
       "      <th>mean</th>\n",
       "      <td>4.200000</td>\n",
       "      <td>7.700000</td>\n",
       "      <td>6.500000</td>\n",
       "    </tr>\n",
       "    <tr>\n",
       "      <th>std</th>\n",
       "      <td>3.583915</td>\n",
       "      <td>5.831905</td>\n",
       "      <td>2.321398</td>\n",
       "    </tr>\n",
       "    <tr>\n",
       "      <th>min</th>\n",
       "      <td>0.000000</td>\n",
       "      <td>0.000000</td>\n",
       "      <td>3.000000</td>\n",
       "    </tr>\n",
       "    <tr>\n",
       "      <th>25%</th>\n",
       "      <td>2.000000</td>\n",
       "      <td>5.000000</td>\n",
       "      <td>5.000000</td>\n",
       "    </tr>\n",
       "    <tr>\n",
       "      <th>50%</th>\n",
       "      <td>4.000000</td>\n",
       "      <td>8.500000</td>\n",
       "      <td>7.000000</td>\n",
       "    </tr>\n",
       "    <tr>\n",
       "      <th>75%</th>\n",
       "      <td>5.000000</td>\n",
       "      <td>10.000000</td>\n",
       "      <td>7.000000</td>\n",
       "    </tr>\n",
       "    <tr>\n",
       "      <th>max</th>\n",
       "      <td>10.000000</td>\n",
       "      <td>20.000000</td>\n",
       "      <td>10.000000</td>\n",
       "    </tr>\n",
       "  </tbody>\n",
       "</table>\n",
       "</div>"
      ],
      "text/plain": [
       "          reward  difficulty   duration\n",
       "count  10.000000   10.000000  10.000000\n",
       "mean    4.200000    7.700000   6.500000\n",
       "std     3.583915    5.831905   2.321398\n",
       "min     0.000000    0.000000   3.000000\n",
       "25%     2.000000    5.000000   5.000000\n",
       "50%     4.000000    8.500000   7.000000\n",
       "75%     5.000000   10.000000   7.000000\n",
       "max    10.000000   20.000000  10.000000"
      ]
     },
     "execution_count": 5,
     "metadata": {},
     "output_type": "execute_result"
    }
   ],
   "source": [
    "portfolio.describe()"
   ]
  },
  {
   "cell_type": "code",
   "execution_count": 6,
   "metadata": {},
   "outputs": [
    {
     "data": {
      "text/html": [
       "<div>\n",
       "<style scoped>\n",
       "    .dataframe tbody tr th:only-of-type {\n",
       "        vertical-align: middle;\n",
       "    }\n",
       "\n",
       "    .dataframe tbody tr th {\n",
       "        vertical-align: top;\n",
       "    }\n",
       "\n",
       "    .dataframe thead th {\n",
       "        text-align: right;\n",
       "    }\n",
       "</style>\n",
       "<table border=\"1\" class=\"dataframe\">\n",
       "  <thead>\n",
       "    <tr style=\"text-align: right;\">\n",
       "      <th></th>\n",
       "      <th>age</th>\n",
       "      <th>became_member_on</th>\n",
       "      <th>income</th>\n",
       "    </tr>\n",
       "  </thead>\n",
       "  <tbody>\n",
       "    <tr>\n",
       "      <th>count</th>\n",
       "      <td>17000.000000</td>\n",
       "      <td>1.700000e+04</td>\n",
       "      <td>14825.000000</td>\n",
       "    </tr>\n",
       "    <tr>\n",
       "      <th>mean</th>\n",
       "      <td>62.531412</td>\n",
       "      <td>2.016703e+07</td>\n",
       "      <td>65404.991568</td>\n",
       "    </tr>\n",
       "    <tr>\n",
       "      <th>std</th>\n",
       "      <td>26.738580</td>\n",
       "      <td>1.167750e+04</td>\n",
       "      <td>21598.299410</td>\n",
       "    </tr>\n",
       "    <tr>\n",
       "      <th>min</th>\n",
       "      <td>18.000000</td>\n",
       "      <td>2.013073e+07</td>\n",
       "      <td>30000.000000</td>\n",
       "    </tr>\n",
       "    <tr>\n",
       "      <th>25%</th>\n",
       "      <td>45.000000</td>\n",
       "      <td>2.016053e+07</td>\n",
       "      <td>49000.000000</td>\n",
       "    </tr>\n",
       "    <tr>\n",
       "      <th>50%</th>\n",
       "      <td>58.000000</td>\n",
       "      <td>2.017080e+07</td>\n",
       "      <td>64000.000000</td>\n",
       "    </tr>\n",
       "    <tr>\n",
       "      <th>75%</th>\n",
       "      <td>73.000000</td>\n",
       "      <td>2.017123e+07</td>\n",
       "      <td>80000.000000</td>\n",
       "    </tr>\n",
       "    <tr>\n",
       "      <th>max</th>\n",
       "      <td>118.000000</td>\n",
       "      <td>2.018073e+07</td>\n",
       "      <td>120000.000000</td>\n",
       "    </tr>\n",
       "  </tbody>\n",
       "</table>\n",
       "</div>"
      ],
      "text/plain": [
       "                age  became_member_on         income\n",
       "count  17000.000000      1.700000e+04   14825.000000\n",
       "mean      62.531412      2.016703e+07   65404.991568\n",
       "std       26.738580      1.167750e+04   21598.299410\n",
       "min       18.000000      2.013073e+07   30000.000000\n",
       "25%       45.000000      2.016053e+07   49000.000000\n",
       "50%       58.000000      2.017080e+07   64000.000000\n",
       "75%       73.000000      2.017123e+07   80000.000000\n",
       "max      118.000000      2.018073e+07  120000.000000"
      ]
     },
     "execution_count": 6,
     "metadata": {},
     "output_type": "execute_result"
    }
   ],
   "source": [
    "profile.describe()"
   ]
  },
  {
   "cell_type": "code",
   "execution_count": 7,
   "metadata": {},
   "outputs": [
    {
     "data": {
      "text/html": [
       "<div>\n",
       "<style scoped>\n",
       "    .dataframe tbody tr th:only-of-type {\n",
       "        vertical-align: middle;\n",
       "    }\n",
       "\n",
       "    .dataframe tbody tr th {\n",
       "        vertical-align: top;\n",
       "    }\n",
       "\n",
       "    .dataframe thead th {\n",
       "        text-align: right;\n",
       "    }\n",
       "</style>\n",
       "<table border=\"1\" class=\"dataframe\">\n",
       "  <thead>\n",
       "    <tr style=\"text-align: right;\">\n",
       "      <th></th>\n",
       "      <th>time</th>\n",
       "    </tr>\n",
       "  </thead>\n",
       "  <tbody>\n",
       "    <tr>\n",
       "      <th>count</th>\n",
       "      <td>306534.000000</td>\n",
       "    </tr>\n",
       "    <tr>\n",
       "      <th>mean</th>\n",
       "      <td>366.382940</td>\n",
       "    </tr>\n",
       "    <tr>\n",
       "      <th>std</th>\n",
       "      <td>200.326314</td>\n",
       "    </tr>\n",
       "    <tr>\n",
       "      <th>min</th>\n",
       "      <td>0.000000</td>\n",
       "    </tr>\n",
       "    <tr>\n",
       "      <th>25%</th>\n",
       "      <td>186.000000</td>\n",
       "    </tr>\n",
       "    <tr>\n",
       "      <th>50%</th>\n",
       "      <td>408.000000</td>\n",
       "    </tr>\n",
       "    <tr>\n",
       "      <th>75%</th>\n",
       "      <td>528.000000</td>\n",
       "    </tr>\n",
       "    <tr>\n",
       "      <th>max</th>\n",
       "      <td>714.000000</td>\n",
       "    </tr>\n",
       "  </tbody>\n",
       "</table>\n",
       "</div>"
      ],
      "text/plain": [
       "                time\n",
       "count  306534.000000\n",
       "mean      366.382940\n",
       "std       200.326314\n",
       "min         0.000000\n",
       "25%       186.000000\n",
       "50%       408.000000\n",
       "75%       528.000000\n",
       "max       714.000000"
      ]
     },
     "execution_count": 7,
     "metadata": {},
     "output_type": "execute_result"
    }
   ],
   "source": [
    "transcript.describe()"
   ]
  },
  {
   "cell_type": "code",
   "execution_count": 8,
   "metadata": {},
   "outputs": [
    {
     "data": {
      "text/plain": [
       "reward        0\n",
       "channels      0\n",
       "difficulty    0\n",
       "duration      0\n",
       "offer_type    0\n",
       "id            0\n",
       "dtype: int64"
      ]
     },
     "execution_count": 8,
     "metadata": {},
     "output_type": "execute_result"
    }
   ],
   "source": [
    "portfolio.isnull().sum()"
   ]
  },
  {
   "cell_type": "code",
   "execution_count": 9,
   "metadata": {},
   "outputs": [
    {
     "data": {
      "text/plain": [
       "gender              2175\n",
       "age                    0\n",
       "id                     0\n",
       "became_member_on       0\n",
       "income              2175\n",
       "dtype: int64"
      ]
     },
     "execution_count": 9,
     "metadata": {},
     "output_type": "execute_result"
    }
   ],
   "source": [
    "profile.isnull().sum()"
   ]
  },
  {
   "cell_type": "code",
   "execution_count": 10,
   "metadata": {},
   "outputs": [
    {
     "data": {
      "text/plain": [
       "person    0\n",
       "event     0\n",
       "value     0\n",
       "time      0\n",
       "dtype: int64"
      ]
     },
     "execution_count": 10,
     "metadata": {},
     "output_type": "execute_result"
    }
   ],
   "source": [
    "transcript.isnull().sum()"
   ]
  },
  {
   "cell_type": "code",
   "execution_count": 11,
   "metadata": {},
   "outputs": [
    {
     "data": {
      "text/html": [
       "<div>\n",
       "<style scoped>\n",
       "    .dataframe tbody tr th:only-of-type {\n",
       "        vertical-align: middle;\n",
       "    }\n",
       "\n",
       "    .dataframe tbody tr th {\n",
       "        vertical-align: top;\n",
       "    }\n",
       "\n",
       "    .dataframe thead th {\n",
       "        text-align: right;\n",
       "    }\n",
       "</style>\n",
       "<table border=\"1\" class=\"dataframe\">\n",
       "  <thead>\n",
       "    <tr style=\"text-align: right;\">\n",
       "      <th></th>\n",
       "      <th>email</th>\n",
       "      <th>mobile</th>\n",
       "      <th>social</th>\n",
       "      <th>web</th>\n",
       "    </tr>\n",
       "  </thead>\n",
       "  <tbody>\n",
       "    <tr>\n",
       "      <th>0</th>\n",
       "      <td>1.0</td>\n",
       "      <td>1.0</td>\n",
       "      <td>1.0</td>\n",
       "      <td>0.0</td>\n",
       "    </tr>\n",
       "  </tbody>\n",
       "</table>\n",
       "</div>"
      ],
      "text/plain": [
       "   email  mobile  social  web\n",
       "0    1.0     1.0     1.0  0.0"
      ]
     },
     "execution_count": 11,
     "metadata": {},
     "output_type": "execute_result"
    }
   ],
   "source": [
    "# Portfolior data pre-processing\n",
    "channels_df = portfolio.channels.apply(lambda x: pd.Series(dict([(c, 1) for c in x]))).fillna(0)\n",
    "channels_df.head(1)"
   ]
  },
  {
   "cell_type": "code",
   "execution_count": 12,
   "metadata": {},
   "outputs": [
    {
     "data": {
      "text/plain": [
       "10"
      ]
     },
     "execution_count": 12,
     "metadata": {},
     "output_type": "execute_result"
    }
   ],
   "source": [
    "portfolio.id.nunique()"
   ]
  },
  {
   "cell_type": "code",
   "execution_count": 13,
   "metadata": {},
   "outputs": [
    {
     "data": {
      "text/plain": [
       "(10, 6)"
      ]
     },
     "execution_count": 13,
     "metadata": {},
     "output_type": "execute_result"
    }
   ],
   "source": [
    "portfolio.shape"
   ]
  },
  {
   "cell_type": "code",
   "execution_count": 14,
   "metadata": {},
   "outputs": [],
   "source": [
    "offer_type_df = pd.get_dummies(portfolio.offer_type)"
   ]
  },
  {
   "cell_type": "code",
   "execution_count": 15,
   "metadata": {},
   "outputs": [],
   "source": [
    "portfolio_df = pd.concat([portfolio[[\"id\", \"reward\", \"difficulty\", \"duration\"]], channels_df, offer_type_df], axis=1)\n",
    "portfolio_df.rename(columns={\"id\": \"offer_id\"}, inplace=True)"
   ]
  },
  {
   "cell_type": "code",
   "execution_count": 16,
   "metadata": {},
   "outputs": [],
   "source": [
    "del portfolio\n",
    "del channels_df\n",
    "del offer_type_df"
   ]
  },
  {
   "cell_type": "code",
   "execution_count": 17,
   "metadata": {},
   "outputs": [
    {
     "data": {
      "text/html": [
       "<div>\n",
       "<style scoped>\n",
       "    .dataframe tbody tr th:only-of-type {\n",
       "        vertical-align: middle;\n",
       "    }\n",
       "\n",
       "    .dataframe tbody tr th {\n",
       "        vertical-align: top;\n",
       "    }\n",
       "\n",
       "    .dataframe thead th {\n",
       "        text-align: right;\n",
       "    }\n",
       "</style>\n",
       "<table border=\"1\" class=\"dataframe\">\n",
       "  <thead>\n",
       "    <tr style=\"text-align: right;\">\n",
       "      <th></th>\n",
       "      <th>offer_id</th>\n",
       "      <th>reward</th>\n",
       "      <th>difficulty</th>\n",
       "      <th>duration</th>\n",
       "      <th>email</th>\n",
       "      <th>mobile</th>\n",
       "      <th>social</th>\n",
       "      <th>web</th>\n",
       "      <th>bogo</th>\n",
       "      <th>discount</th>\n",
       "      <th>informational</th>\n",
       "    </tr>\n",
       "  </thead>\n",
       "  <tbody>\n",
       "    <tr>\n",
       "      <th>0</th>\n",
       "      <td>ae264e3637204a6fb9bb56bc8210ddfd</td>\n",
       "      <td>10</td>\n",
       "      <td>10</td>\n",
       "      <td>7</td>\n",
       "      <td>1.0</td>\n",
       "      <td>1.0</td>\n",
       "      <td>1.0</td>\n",
       "      <td>0.0</td>\n",
       "      <td>1</td>\n",
       "      <td>0</td>\n",
       "      <td>0</td>\n",
       "    </tr>\n",
       "    <tr>\n",
       "      <th>1</th>\n",
       "      <td>4d5c57ea9a6940dd891ad53e9dbe8da0</td>\n",
       "      <td>10</td>\n",
       "      <td>10</td>\n",
       "      <td>5</td>\n",
       "      <td>1.0</td>\n",
       "      <td>1.0</td>\n",
       "      <td>1.0</td>\n",
       "      <td>1.0</td>\n",
       "      <td>1</td>\n",
       "      <td>0</td>\n",
       "      <td>0</td>\n",
       "    </tr>\n",
       "    <tr>\n",
       "      <th>2</th>\n",
       "      <td>3f207df678b143eea3cee63160fa8bed</td>\n",
       "      <td>0</td>\n",
       "      <td>0</td>\n",
       "      <td>4</td>\n",
       "      <td>1.0</td>\n",
       "      <td>1.0</td>\n",
       "      <td>0.0</td>\n",
       "      <td>1.0</td>\n",
       "      <td>0</td>\n",
       "      <td>0</td>\n",
       "      <td>1</td>\n",
       "    </tr>\n",
       "    <tr>\n",
       "      <th>3</th>\n",
       "      <td>9b98b8c7a33c4b65b9aebfe6a799e6d9</td>\n",
       "      <td>5</td>\n",
       "      <td>5</td>\n",
       "      <td>7</td>\n",
       "      <td>1.0</td>\n",
       "      <td>1.0</td>\n",
       "      <td>0.0</td>\n",
       "      <td>1.0</td>\n",
       "      <td>1</td>\n",
       "      <td>0</td>\n",
       "      <td>0</td>\n",
       "    </tr>\n",
       "    <tr>\n",
       "      <th>4</th>\n",
       "      <td>0b1e1539f2cc45b7b9fa7c272da2e1d7</td>\n",
       "      <td>5</td>\n",
       "      <td>20</td>\n",
       "      <td>10</td>\n",
       "      <td>1.0</td>\n",
       "      <td>0.0</td>\n",
       "      <td>0.0</td>\n",
       "      <td>1.0</td>\n",
       "      <td>0</td>\n",
       "      <td>1</td>\n",
       "      <td>0</td>\n",
       "    </tr>\n",
       "    <tr>\n",
       "      <th>5</th>\n",
       "      <td>2298d6c36e964ae4a3e7e9706d1fb8c2</td>\n",
       "      <td>3</td>\n",
       "      <td>7</td>\n",
       "      <td>7</td>\n",
       "      <td>1.0</td>\n",
       "      <td>1.0</td>\n",
       "      <td>1.0</td>\n",
       "      <td>1.0</td>\n",
       "      <td>0</td>\n",
       "      <td>1</td>\n",
       "      <td>0</td>\n",
       "    </tr>\n",
       "    <tr>\n",
       "      <th>6</th>\n",
       "      <td>fafdcd668e3743c1bb461111dcafc2a4</td>\n",
       "      <td>2</td>\n",
       "      <td>10</td>\n",
       "      <td>10</td>\n",
       "      <td>1.0</td>\n",
       "      <td>1.0</td>\n",
       "      <td>1.0</td>\n",
       "      <td>1.0</td>\n",
       "      <td>0</td>\n",
       "      <td>1</td>\n",
       "      <td>0</td>\n",
       "    </tr>\n",
       "    <tr>\n",
       "      <th>7</th>\n",
       "      <td>5a8bc65990b245e5a138643cd4eb9837</td>\n",
       "      <td>0</td>\n",
       "      <td>0</td>\n",
       "      <td>3</td>\n",
       "      <td>1.0</td>\n",
       "      <td>1.0</td>\n",
       "      <td>1.0</td>\n",
       "      <td>0.0</td>\n",
       "      <td>0</td>\n",
       "      <td>0</td>\n",
       "      <td>1</td>\n",
       "    </tr>\n",
       "    <tr>\n",
       "      <th>8</th>\n",
       "      <td>f19421c1d4aa40978ebb69ca19b0e20d</td>\n",
       "      <td>5</td>\n",
       "      <td>5</td>\n",
       "      <td>5</td>\n",
       "      <td>1.0</td>\n",
       "      <td>1.0</td>\n",
       "      <td>1.0</td>\n",
       "      <td>1.0</td>\n",
       "      <td>1</td>\n",
       "      <td>0</td>\n",
       "      <td>0</td>\n",
       "    </tr>\n",
       "    <tr>\n",
       "      <th>9</th>\n",
       "      <td>2906b810c7d4411798c6938adc9daaa5</td>\n",
       "      <td>2</td>\n",
       "      <td>10</td>\n",
       "      <td>7</td>\n",
       "      <td>1.0</td>\n",
       "      <td>1.0</td>\n",
       "      <td>0.0</td>\n",
       "      <td>1.0</td>\n",
       "      <td>0</td>\n",
       "      <td>1</td>\n",
       "      <td>0</td>\n",
       "    </tr>\n",
       "  </tbody>\n",
       "</table>\n",
       "</div>"
      ],
      "text/plain": [
       "                           offer_id  reward  difficulty  duration  email  \\\n",
       "0  ae264e3637204a6fb9bb56bc8210ddfd      10          10         7    1.0   \n",
       "1  4d5c57ea9a6940dd891ad53e9dbe8da0      10          10         5    1.0   \n",
       "2  3f207df678b143eea3cee63160fa8bed       0           0         4    1.0   \n",
       "3  9b98b8c7a33c4b65b9aebfe6a799e6d9       5           5         7    1.0   \n",
       "4  0b1e1539f2cc45b7b9fa7c272da2e1d7       5          20        10    1.0   \n",
       "5  2298d6c36e964ae4a3e7e9706d1fb8c2       3           7         7    1.0   \n",
       "6  fafdcd668e3743c1bb461111dcafc2a4       2          10        10    1.0   \n",
       "7  5a8bc65990b245e5a138643cd4eb9837       0           0         3    1.0   \n",
       "8  f19421c1d4aa40978ebb69ca19b0e20d       5           5         5    1.0   \n",
       "9  2906b810c7d4411798c6938adc9daaa5       2          10         7    1.0   \n",
       "\n",
       "   mobile  social  web  bogo  discount  informational  \n",
       "0     1.0     1.0  0.0     1         0              0  \n",
       "1     1.0     1.0  1.0     1         0              0  \n",
       "2     1.0     0.0  1.0     0         0              1  \n",
       "3     1.0     0.0  1.0     1         0              0  \n",
       "4     0.0     0.0  1.0     0         1              0  \n",
       "5     1.0     1.0  1.0     0         1              0  \n",
       "6     1.0     1.0  1.0     0         1              0  \n",
       "7     1.0     1.0  0.0     0         0              1  \n",
       "8     1.0     1.0  1.0     1         0              0  \n",
       "9     1.0     0.0  1.0     0         1              0  "
      ]
     },
     "execution_count": 17,
     "metadata": {},
     "output_type": "execute_result"
    }
   ],
   "source": [
    "portfolio_df"
   ]
  },
  {
   "cell_type": "code",
   "execution_count": 18,
   "metadata": {},
   "outputs": [],
   "source": [
    "# Profile data pre-processing\n",
    "profile.rename(columns={\"id\": \"user_id\"}, inplace=True)\n",
    "profile.became_member_on = pd.to_datetime(profile.became_member_on, format=\"%Y%m%d\")"
   ]
  },
  {
   "cell_type": "code",
   "execution_count": 19,
   "metadata": {},
   "outputs": [],
   "source": [
    "profile[\"dayofweek\"] = profile.became_member_on.dt.dayofweek\n",
    "profile[\"is_weekend\"] = profile[\"dayofweek\"].apply(lambda x: 1 if x >=5 else 0)\n",
    "profile[\"day\"] = profile.became_member_on.dt.day\n",
    "profile[\"month\"] = profile.became_member_on.dt.month\n",
    "profile[\"year\"] = profile.became_member_on.dt.year"
   ]
  },
  {
   "cell_type": "code",
   "execution_count": 20,
   "metadata": {},
   "outputs": [
    {
     "data": {
      "text/html": [
       "<div>\n",
       "<style scoped>\n",
       "    .dataframe tbody tr th:only-of-type {\n",
       "        vertical-align: middle;\n",
       "    }\n",
       "\n",
       "    .dataframe tbody tr th {\n",
       "        vertical-align: top;\n",
       "    }\n",
       "\n",
       "    .dataframe thead th {\n",
       "        text-align: right;\n",
       "    }\n",
       "</style>\n",
       "<table border=\"1\" class=\"dataframe\">\n",
       "  <thead>\n",
       "    <tr style=\"text-align: right;\">\n",
       "      <th></th>\n",
       "      <th>gender</th>\n",
       "      <th>age</th>\n",
       "      <th>user_id</th>\n",
       "      <th>became_member_on</th>\n",
       "      <th>income</th>\n",
       "      <th>dayofweek</th>\n",
       "      <th>is_weekend</th>\n",
       "      <th>day</th>\n",
       "      <th>month</th>\n",
       "      <th>year</th>\n",
       "    </tr>\n",
       "  </thead>\n",
       "  <tbody>\n",
       "    <tr>\n",
       "      <th>0</th>\n",
       "      <td>None</td>\n",
       "      <td>118</td>\n",
       "      <td>68be06ca386d4c31939f3a4f0e3dd783</td>\n",
       "      <td>2017-02-12</td>\n",
       "      <td>NaN</td>\n",
       "      <td>6</td>\n",
       "      <td>1</td>\n",
       "      <td>12</td>\n",
       "      <td>2</td>\n",
       "      <td>2017</td>\n",
       "    </tr>\n",
       "    <tr>\n",
       "      <th>1</th>\n",
       "      <td>F</td>\n",
       "      <td>55</td>\n",
       "      <td>0610b486422d4921ae7d2bf64640c50b</td>\n",
       "      <td>2017-07-15</td>\n",
       "      <td>112000.0</td>\n",
       "      <td>5</td>\n",
       "      <td>1</td>\n",
       "      <td>15</td>\n",
       "      <td>7</td>\n",
       "      <td>2017</td>\n",
       "    </tr>\n",
       "  </tbody>\n",
       "</table>\n",
       "</div>"
      ],
      "text/plain": [
       "  gender  age                           user_id became_member_on    income  \\\n",
       "0   None  118  68be06ca386d4c31939f3a4f0e3dd783       2017-02-12       NaN   \n",
       "1      F   55  0610b486422d4921ae7d2bf64640c50b       2017-07-15  112000.0   \n",
       "\n",
       "   dayofweek  is_weekend  day  month  year  \n",
       "0          6           1   12      2  2017  \n",
       "1          5           1   15      7  2017  "
      ]
     },
     "execution_count": 20,
     "metadata": {},
     "output_type": "execute_result"
    }
   ],
   "source": [
    "profile.head(2)"
   ]
  },
  {
   "cell_type": "code",
   "execution_count": 21,
   "metadata": {},
   "outputs": [
    {
     "data": {
      "text/plain": [
       "array(['offer received', 'offer viewed', 'transaction', 'offer completed'],\n",
       "      dtype=object)"
      ]
     },
     "execution_count": 21,
     "metadata": {},
     "output_type": "execute_result"
    }
   ],
   "source": [
    "# transcript data pre-processing\n",
    "transcript.event.unique()"
   ]
  },
  {
   "cell_type": "code",
   "execution_count": 22,
   "metadata": {},
   "outputs": [
    {
     "data": {
      "text/html": [
       "<div>\n",
       "<style scoped>\n",
       "    .dataframe tbody tr th:only-of-type {\n",
       "        vertical-align: middle;\n",
       "    }\n",
       "\n",
       "    .dataframe tbody tr th {\n",
       "        vertical-align: top;\n",
       "    }\n",
       "\n",
       "    .dataframe thead th {\n",
       "        text-align: right;\n",
       "    }\n",
       "</style>\n",
       "<table border=\"1\" class=\"dataframe\">\n",
       "  <thead>\n",
       "    <tr style=\"text-align: right;\">\n",
       "      <th></th>\n",
       "      <th>person</th>\n",
       "      <th>event</th>\n",
       "      <th>value</th>\n",
       "      <th>time</th>\n",
       "    </tr>\n",
       "  </thead>\n",
       "  <tbody>\n",
       "    <tr>\n",
       "      <th>0</th>\n",
       "      <td>78afa995795e4d85b5d9ceeca43f5fef</td>\n",
       "      <td>offer received</td>\n",
       "      <td>{'offer id': '9b98b8c7a33c4b65b9aebfe6a799e6d9'}</td>\n",
       "      <td>0</td>\n",
       "    </tr>\n",
       "    <tr>\n",
       "      <th>1</th>\n",
       "      <td>a03223e636434f42ac4c3df47e8bac43</td>\n",
       "      <td>offer received</td>\n",
       "      <td>{'offer id': '0b1e1539f2cc45b7b9fa7c272da2e1d7'}</td>\n",
       "      <td>0</td>\n",
       "    </tr>\n",
       "    <tr>\n",
       "      <th>2</th>\n",
       "      <td>e2127556f4f64592b11af22de27a7932</td>\n",
       "      <td>offer received</td>\n",
       "      <td>{'offer id': '2906b810c7d4411798c6938adc9daaa5'}</td>\n",
       "      <td>0</td>\n",
       "    </tr>\n",
       "    <tr>\n",
       "      <th>3</th>\n",
       "      <td>8ec6ce2a7e7949b1bf142def7d0e0586</td>\n",
       "      <td>offer received</td>\n",
       "      <td>{'offer id': 'fafdcd668e3743c1bb461111dcafc2a4'}</td>\n",
       "      <td>0</td>\n",
       "    </tr>\n",
       "    <tr>\n",
       "      <th>4</th>\n",
       "      <td>68617ca6246f4fbc85e91a2a49552598</td>\n",
       "      <td>offer received</td>\n",
       "      <td>{'offer id': '4d5c57ea9a6940dd891ad53e9dbe8da0'}</td>\n",
       "      <td>0</td>\n",
       "    </tr>\n",
       "  </tbody>\n",
       "</table>\n",
       "</div>"
      ],
      "text/plain": [
       "                             person           event  \\\n",
       "0  78afa995795e4d85b5d9ceeca43f5fef  offer received   \n",
       "1  a03223e636434f42ac4c3df47e8bac43  offer received   \n",
       "2  e2127556f4f64592b11af22de27a7932  offer received   \n",
       "3  8ec6ce2a7e7949b1bf142def7d0e0586  offer received   \n",
       "4  68617ca6246f4fbc85e91a2a49552598  offer received   \n",
       "\n",
       "                                              value  time  \n",
       "0  {'offer id': '9b98b8c7a33c4b65b9aebfe6a799e6d9'}     0  \n",
       "1  {'offer id': '0b1e1539f2cc45b7b9fa7c272da2e1d7'}     0  \n",
       "2  {'offer id': '2906b810c7d4411798c6938adc9daaa5'}     0  \n",
       "3  {'offer id': 'fafdcd668e3743c1bb461111dcafc2a4'}     0  \n",
       "4  {'offer id': '4d5c57ea9a6940dd891ad53e9dbe8da0'}     0  "
      ]
     },
     "execution_count": 22,
     "metadata": {},
     "output_type": "execute_result"
    }
   ],
   "source": [
    "transcript.head()"
   ]
  },
  {
   "cell_type": "code",
   "execution_count": 23,
   "metadata": {},
   "outputs": [],
   "source": [
    "# rename col person to user_id\n",
    "transcript.rename(columns={\"person\": \"user_id\"}, inplace=True)"
   ]
  },
  {
   "cell_type": "markdown",
   "metadata": {},
   "source": [
    "<h3> 1.2 Data Transformation </h3>"
   ]
  },
  {
   "cell_type": "code",
   "execution_count": 24,
   "metadata": {},
   "outputs": [],
   "source": [
    "# Separate transcript into transaction and other event type\n",
    "transactions_df = transcript[transcript[\"event\"] == \"transaction\"]\n",
    "offers_df = transcript[transcript[\"event\"] != \"transaction\"]"
   ]
  },
  {
   "cell_type": "code",
   "execution_count": 25,
   "metadata": {},
   "outputs": [],
   "source": [
    "# convert nested dict in value cells\n",
    "def trans_preprocess(x):\n",
    "    \"\"\"\n",
    "    Apply function to replace data in dict cell.\n",
    "  \n",
    "    Parameters:\n",
    "    x (GroupByDataFrame): Groupby data Frame\n",
    "  \n",
    "    Returns:\n",
    "    DataFrame: with new column\n",
    "    \"\"\"\n",
    "    for k, v in x.value.items():\n",
    "        key = str(k).replace(\" \", \"_\")\n",
    "        x[key] = v\n",
    "    return x\n",
    "\n",
    "transactions_df = transactions_df.apply(trans_preprocess, axis=1)\n",
    "offers_df = offers_df.apply(trans_preprocess, axis=1)"
   ]
  },
  {
   "cell_type": "code",
   "execution_count": 26,
   "metadata": {},
   "outputs": [
    {
     "data": {
      "text/html": [
       "<div>\n",
       "<style scoped>\n",
       "    .dataframe tbody tr th:only-of-type {\n",
       "        vertical-align: middle;\n",
       "    }\n",
       "\n",
       "    .dataframe tbody tr th {\n",
       "        vertical-align: top;\n",
       "    }\n",
       "\n",
       "    .dataframe thead th {\n",
       "        text-align: right;\n",
       "    }\n",
       "</style>\n",
       "<table border=\"1\" class=\"dataframe\">\n",
       "  <thead>\n",
       "    <tr style=\"text-align: right;\">\n",
       "      <th></th>\n",
       "      <th>user_id</th>\n",
       "      <th>event</th>\n",
       "      <th>value</th>\n",
       "      <th>time</th>\n",
       "      <th>amount</th>\n",
       "    </tr>\n",
       "  </thead>\n",
       "  <tbody>\n",
       "    <tr>\n",
       "      <th>12654</th>\n",
       "      <td>02c083884c7d45b39cc68e1314fec56c</td>\n",
       "      <td>transaction</td>\n",
       "      <td>{'amount': 0.8300000000000001}</td>\n",
       "      <td>0</td>\n",
       "      <td>0.83</td>\n",
       "    </tr>\n",
       "    <tr>\n",
       "      <th>12657</th>\n",
       "      <td>9fa9ae8f57894cc9a3b8a9bbe0fc1b2f</td>\n",
       "      <td>transaction</td>\n",
       "      <td>{'amount': 34.56}</td>\n",
       "      <td>0</td>\n",
       "      <td>34.56</td>\n",
       "    </tr>\n",
       "  </tbody>\n",
       "</table>\n",
       "</div>"
      ],
      "text/plain": [
       "                                user_id        event  \\\n",
       "12654  02c083884c7d45b39cc68e1314fec56c  transaction   \n",
       "12657  9fa9ae8f57894cc9a3b8a9bbe0fc1b2f  transaction   \n",
       "\n",
       "                                value  time  amount  \n",
       "12654  {'amount': 0.8300000000000001}     0    0.83  \n",
       "12657               {'amount': 34.56}     0   34.56  "
      ]
     },
     "execution_count": 26,
     "metadata": {},
     "output_type": "execute_result"
    }
   ],
   "source": [
    "transactions_df.head(2)"
   ]
  },
  {
   "cell_type": "code",
   "execution_count": 27,
   "metadata": {},
   "outputs": [
    {
     "data": {
      "text/html": [
       "<div>\n",
       "<style scoped>\n",
       "    .dataframe tbody tr th:only-of-type {\n",
       "        vertical-align: middle;\n",
       "    }\n",
       "\n",
       "    .dataframe tbody tr th {\n",
       "        vertical-align: top;\n",
       "    }\n",
       "\n",
       "    .dataframe thead th {\n",
       "        text-align: right;\n",
       "    }\n",
       "</style>\n",
       "<table border=\"1\" class=\"dataframe\">\n",
       "  <thead>\n",
       "    <tr style=\"text-align: right;\">\n",
       "      <th></th>\n",
       "      <th>event</th>\n",
       "      <th>offer_id</th>\n",
       "      <th>reward</th>\n",
       "      <th>time</th>\n",
       "      <th>user_id</th>\n",
       "      <th>value</th>\n",
       "    </tr>\n",
       "  </thead>\n",
       "  <tbody>\n",
       "    <tr>\n",
       "      <th>0</th>\n",
       "      <td>offer received</td>\n",
       "      <td>9b98b8c7a33c4b65b9aebfe6a799e6d9</td>\n",
       "      <td>NaN</td>\n",
       "      <td>0</td>\n",
       "      <td>78afa995795e4d85b5d9ceeca43f5fef</td>\n",
       "      <td>{'offer id': '9b98b8c7a33c4b65b9aebfe6a799e6d9'}</td>\n",
       "    </tr>\n",
       "    <tr>\n",
       "      <th>1</th>\n",
       "      <td>offer received</td>\n",
       "      <td>0b1e1539f2cc45b7b9fa7c272da2e1d7</td>\n",
       "      <td>NaN</td>\n",
       "      <td>0</td>\n",
       "      <td>a03223e636434f42ac4c3df47e8bac43</td>\n",
       "      <td>{'offer id': '0b1e1539f2cc45b7b9fa7c272da2e1d7'}</td>\n",
       "    </tr>\n",
       "  </tbody>\n",
       "</table>\n",
       "</div>"
      ],
      "text/plain": [
       "            event                          offer_id  reward  time  \\\n",
       "0  offer received  9b98b8c7a33c4b65b9aebfe6a799e6d9     NaN     0   \n",
       "1  offer received  0b1e1539f2cc45b7b9fa7c272da2e1d7     NaN     0   \n",
       "\n",
       "                            user_id  \\\n",
       "0  78afa995795e4d85b5d9ceeca43f5fef   \n",
       "1  a03223e636434f42ac4c3df47e8bac43   \n",
       "\n",
       "                                              value  \n",
       "0  {'offer id': '9b98b8c7a33c4b65b9aebfe6a799e6d9'}  \n",
       "1  {'offer id': '0b1e1539f2cc45b7b9fa7c272da2e1d7'}  "
      ]
     },
     "execution_count": 27,
     "metadata": {},
     "output_type": "execute_result"
    }
   ],
   "source": [
    "offers_df.head(2)"
   ]
  },
  {
   "cell_type": "code",
   "execution_count": 28,
   "metadata": {},
   "outputs": [],
   "source": [
    "transactions_df[\"time\"] = transactions_df[\"time\"].astype(float)\n",
    "offers_df[\"time\"] = offers_df[\"time\"].astype(float)\n",
    "\n",
    "transactions_df[\"time\"] = np.ceil(transactions_df[\"time\"]/24)\n",
    "offers_df[\"time\"] = np.ceil(offers_df[\"time\"]/24)"
   ]
  },
  {
   "cell_type": "code",
   "execution_count": 29,
   "metadata": {},
   "outputs": [
    {
     "data": {
      "text/html": [
       "<div>\n",
       "<style scoped>\n",
       "    .dataframe tbody tr th:only-of-type {\n",
       "        vertical-align: middle;\n",
       "    }\n",
       "\n",
       "    .dataframe tbody tr th {\n",
       "        vertical-align: top;\n",
       "    }\n",
       "\n",
       "    .dataframe thead th {\n",
       "        text-align: right;\n",
       "    }\n",
       "</style>\n",
       "<table border=\"1\" class=\"dataframe\">\n",
       "  <thead>\n",
       "    <tr style=\"text-align: right;\">\n",
       "      <th></th>\n",
       "      <th>user_id</th>\n",
       "      <th>event</th>\n",
       "      <th>value</th>\n",
       "      <th>time</th>\n",
       "      <th>amount</th>\n",
       "    </tr>\n",
       "  </thead>\n",
       "  <tbody>\n",
       "    <tr>\n",
       "      <th>12654</th>\n",
       "      <td>02c083884c7d45b39cc68e1314fec56c</td>\n",
       "      <td>transaction</td>\n",
       "      <td>{'amount': 0.8300000000000001}</td>\n",
       "      <td>0.0</td>\n",
       "      <td>0.83</td>\n",
       "    </tr>\n",
       "    <tr>\n",
       "      <th>12657</th>\n",
       "      <td>9fa9ae8f57894cc9a3b8a9bbe0fc1b2f</td>\n",
       "      <td>transaction</td>\n",
       "      <td>{'amount': 34.56}</td>\n",
       "      <td>0.0</td>\n",
       "      <td>34.56</td>\n",
       "    </tr>\n",
       "  </tbody>\n",
       "</table>\n",
       "</div>"
      ],
      "text/plain": [
       "                                user_id        event  \\\n",
       "12654  02c083884c7d45b39cc68e1314fec56c  transaction   \n",
       "12657  9fa9ae8f57894cc9a3b8a9bbe0fc1b2f  transaction   \n",
       "\n",
       "                                value  time  amount  \n",
       "12654  {'amount': 0.8300000000000001}   0.0    0.83  \n",
       "12657               {'amount': 34.56}   0.0   34.56  "
      ]
     },
     "execution_count": 29,
     "metadata": {},
     "output_type": "execute_result"
    }
   ],
   "source": [
    "transactions_df.head(2)"
   ]
  },
  {
   "cell_type": "code",
   "execution_count": 30,
   "metadata": {},
   "outputs": [
    {
     "data": {
      "text/html": [
       "<div>\n",
       "<style scoped>\n",
       "    .dataframe tbody tr th:only-of-type {\n",
       "        vertical-align: middle;\n",
       "    }\n",
       "\n",
       "    .dataframe tbody tr th {\n",
       "        vertical-align: top;\n",
       "    }\n",
       "\n",
       "    .dataframe thead th {\n",
       "        text-align: right;\n",
       "    }\n",
       "</style>\n",
       "<table border=\"1\" class=\"dataframe\">\n",
       "  <thead>\n",
       "    <tr style=\"text-align: right;\">\n",
       "      <th></th>\n",
       "      <th>user_id</th>\n",
       "      <th>user_transactions</th>\n",
       "    </tr>\n",
       "  </thead>\n",
       "  <tbody>\n",
       "    <tr>\n",
       "      <th>0</th>\n",
       "      <td>0009655768c64bdeb2e877511632db8f</td>\n",
       "      <td>[{'user_id': '0009655768c64bdeb2e877511632db8f...</td>\n",
       "    </tr>\n",
       "    <tr>\n",
       "      <th>1</th>\n",
       "      <td>00116118485d4dfda04fdbaba9a87b5c</td>\n",
       "      <td>[{'user_id': '00116118485d4dfda04fdbaba9a87b5c...</td>\n",
       "    </tr>\n",
       "  </tbody>\n",
       "</table>\n",
       "</div>"
      ],
      "text/plain": [
       "                            user_id  \\\n",
       "0  0009655768c64bdeb2e877511632db8f   \n",
       "1  00116118485d4dfda04fdbaba9a87b5c   \n",
       "\n",
       "                                   user_transactions  \n",
       "0  [{'user_id': '0009655768c64bdeb2e877511632db8f...  \n",
       "1  [{'user_id': '00116118485d4dfda04fdbaba9a87b5c...  "
      ]
     },
     "execution_count": 30,
     "metadata": {},
     "output_type": "execute_result"
    }
   ],
   "source": [
    "user_transactions_df = transactions_df.groupby(\"user_id\").apply(lambda x: x.to_dict(orient=\"records\")).reset_index(name=\"user_transactions\")\n",
    "user_transactions_df.head(2)"
   ]
  },
  {
   "cell_type": "markdown",
   "metadata": {},
   "source": [
    "<h3>1.3. Handle Missing Value</h3>"
   ]
  },
  {
   "cell_type": "code",
   "execution_count": 31,
   "metadata": {},
   "outputs": [],
   "source": [
    "import matplotlib.pyplot as plt"
   ]
  },
  {
   "cell_type": "code",
   "execution_count": 32,
   "metadata": {},
   "outputs": [
    {
     "data": {
      "text/plain": [
       "gender              0.127941\n",
       "age                 0.000000\n",
       "user_id             0.000000\n",
       "became_member_on    0.000000\n",
       "income              0.127941\n",
       "dayofweek           0.000000\n",
       "is_weekend          0.000000\n",
       "day                 0.000000\n",
       "month               0.000000\n",
       "year                0.000000\n",
       "dtype: float64"
      ]
     },
     "execution_count": 32,
     "metadata": {},
     "output_type": "execute_result"
    }
   ],
   "source": [
    "profile.isna().mean()"
   ]
  },
  {
   "cell_type": "code",
   "execution_count": 33,
   "metadata": {},
   "outputs": [
    {
     "data": {
      "text/plain": [
       "event       0.000000\n",
       "offer_id    0.000000\n",
       "reward      0.799625\n",
       "time        0.000000\n",
       "user_id     0.000000\n",
       "value       0.000000\n",
       "dtype: float64"
      ]
     },
     "execution_count": 33,
     "metadata": {},
     "output_type": "execute_result"
    }
   ],
   "source": [
    "offers_df.isna().mean()"
   ]
  },
  {
   "cell_type": "code",
   "execution_count": 34,
   "metadata": {},
   "outputs": [
    {
     "data": {
      "text/plain": [
       "user_id    0.0\n",
       "event      0.0\n",
       "value      0.0\n",
       "time       0.0\n",
       "amount     0.0\n",
       "dtype: float64"
      ]
     },
     "execution_count": 34,
     "metadata": {},
     "output_type": "execute_result"
    }
   ],
   "source": [
    "transactions_df.isna().mean()"
   ]
  },
  {
   "cell_type": "code",
   "execution_count": 35,
   "metadata": {},
   "outputs": [
    {
     "data": {
      "text/plain": [
       "offer_id         0.0\n",
       "reward           0.0\n",
       "difficulty       0.0\n",
       "duration         0.0\n",
       "email            0.0\n",
       "mobile           0.0\n",
       "social           0.0\n",
       "web              0.0\n",
       "bogo             0.0\n",
       "discount         0.0\n",
       "informational    0.0\n",
       "dtype: float64"
      ]
     },
     "execution_count": 35,
     "metadata": {},
     "output_type": "execute_result"
    }
   ],
   "source": [
    "portfolio_df.isna().mean()"
   ]
  },
  {
   "cell_type": "markdown",
   "metadata": {},
   "source": [
    "<h1>Data Analysis</h1>"
   ]
  },
  {
   "cell_type": "code",
   "execution_count": 36,
   "metadata": {},
   "outputs": [
    {
     "data": {
      "image/png": "[encoded data removed]",
      "text/plain": [
       "<Figure size 432x288 with 1 Axes>"
      ]
     },
     "metadata": {
      "needs_background": "light"
     },
     "output_type": "display_data"
    }
   ],
   "source": [
    "# Average income of each gender group\n",
    "profile.groupby(\"gender\")[\"income\"].mean().plot.bar()\n",
    "plt.show()"
   ]
  },
  {
   "attachments": {},
   "cell_type": "markdown",
   "metadata": {},
   "source": [
    "1. What is the average income of each gender group?\n",
    "The average income of those surveyed is above 60000. In which the highest average income is female. We expect that this attribute will have an impact on the customer's offer-receiving behavior that the higher the income, the more demand for the service."
   ]
  },
  {
   "cell_type": "code",
   "execution_count": 37,
   "metadata": {},
   "outputs": [
    {
     "data": {
      "image/png": "[encoded data removed]",
      "text/plain": [
       "<Figure size 432x288 with 1 Axes>"
      ]
     },
     "metadata": {
      "needs_background": "light"
     },
     "output_type": "display_data"
    }
   ],
   "source": [
    "# How many users have participated in each year?\n",
    "profile[\"year\"].value_counts().sort_index().plot.bar()\n",
    "plt.show()"
   ]
  },
  {
   "attachments": {},
   "cell_type": "markdown",
   "metadata": {},
   "source": [
    "2.\tHow many new users each year?\n",
    "  \n",
    "The number of users in the years has a statistical essence to see the development of the business, the chart shows that over the years the number of new users is increasing. The strongest increase was in 2017 with the number of new users nearly doubling in 2016."
   ]
  },
  {
   "cell_type": "code",
   "execution_count": 38,
   "metadata": {},
   "outputs": [
    {
     "data": {
      "image/png": "[encoded data removed]",
      "text/plain": [
       "<Figure size 432x288 with 1 Axes>"
      ]
     },
     "metadata": {
      "needs_background": "light"
     },
     "output_type": "display_data"
    }
   ],
   "source": [
    "# How many users have participated in each month?\n",
    "profile[\"month\"].value_counts().sort_index().plot.bar()\n",
    "plt.show()"
   ]
  },
  {
   "attachments": {},
   "cell_type": "markdown",
   "metadata": {},
   "source": [
    "3.\tHow many new users each month?\n",
    "  \n",
    "The chart above shows that the high number of new users on January, 8, 9, and December is over 1500 people. In which, the lowest month is February, only 1200 new people are added."
   ]
  },
  {
   "cell_type": "code",
   "execution_count": 39,
   "metadata": {},
   "outputs": [
    {
     "data": {
      "image/png": "[encoded data removed]",
      "text/plain": [
       "<Figure size 432x288 with 1 Axes>"
      ]
     },
     "metadata": {
      "needs_background": "light"
     },
     "output_type": "display_data"
    }
   ],
   "source": [
    "# How many users have participated in each day of week?\n",
    "profile[\"dayofweek\"].value_counts().sort_index().plot.bar()\n",
    "plt.show()"
   ]
  },
  {
   "attachments": {},
   "cell_type": "markdown",
   "metadata": {},
   "source": [
    "4.\tHow many new users per day?\n",
    " \n",
    "The chart above shows the number of new users added with no difference by day of the week."
   ]
  },
  {
   "cell_type": "code",
   "execution_count": 40,
   "metadata": {},
   "outputs": [
    {
     "data": {
      "image/png": "[encoded data removed]",
      "text/plain": [
       "<Figure size 432x288 with 1 Axes>"
      ]
     },
     "metadata": {
      "needs_background": "light"
     },
     "output_type": "display_data"
    }
   ],
   "source": [
    "# How many people have participated in weekend and weekday?\n",
    "profile.groupby([\"is_weekend\", \"gender\"])[\"user_id\"].count().unstack().plot(kind='bar', stacked=True)\n",
    "plt.show()"
   ]
  },
  {
   "attachments": {},
   "cell_type": "markdown",
   "metadata": {},
   "source": [
    "5.\tHow many new users are there on weekends and other days?\n",
    "  \n",
    "In the chart above, the number of users participating on weekdays is much higher than on weekends. The two graphs showing the day of the week and the weekends don't match my expectations that weekends will have more participants than weekdays."
   ]
  },
  {
   "cell_type": "code",
   "execution_count": 41,
   "metadata": {},
   "outputs": [
    {
     "data": {
      "image/png": "[encoded data removed]",
      "text/plain": [
       "<Figure size 432x288 with 1 Axes>"
      ]
     },
     "metadata": {
      "needs_background": "light"
     },
     "output_type": "display_data"
    }
   ],
   "source": [
    "# Age distribution\n",
    "profile.age.hist()\n",
    "plt.show()"
   ]
  },
  {
   "cell_type": "markdown",
   "metadata": {},
   "source": [
    "Visualize Age distribution"
   ]
  },
  {
   "cell_type": "code",
   "execution_count": 42,
   "metadata": {},
   "outputs": [
    {
     "data": {
      "image/png": "[encoded data removed]",
      "text/plain": [
       "<Figure size 432x288 with 1 Axes>"
      ]
     },
     "metadata": {
      "needs_background": "light"
     },
     "output_type": "display_data"
    }
   ],
   "source": [
    "profile.boxplot(column=[\"age\"])\n",
    "plt.show()"
   ]
  },
  {
   "cell_type": "markdown",
   "metadata": {},
   "source": [
    "Visualize Age distribution"
   ]
  },
  {
   "cell_type": "code",
   "execution_count": 43,
   "metadata": {},
   "outputs": [
    {
     "data": {
      "text/plain": [
       "(3.0, 115.0)"
      ]
     },
     "execution_count": 43,
     "metadata": {},
     "output_type": "execute_result"
    }
   ],
   "source": [
    "# Age Outlier threshold\n",
    "age_q1 = profile.age.quantile(0.25)\n",
    "age_q3 = profile.age.quantile(0.75)\n",
    "IQR = age_q3 - age_q1\n",
    "lower_bounary = age_q1 - 1.5*IQR\n",
    "upper_bounary = age_q3 + 1.5*IQR\n",
    "lower_bounary, upper_bounary"
   ]
  },
  {
   "cell_type": "code",
   "execution_count": 44,
   "metadata": {},
   "outputs": [
    {
     "data": {
      "text/html": [
       "<div>\n",
       "<style scoped>\n",
       "    .dataframe tbody tr th:only-of-type {\n",
       "        vertical-align: middle;\n",
       "    }\n",
       "\n",
       "    .dataframe tbody tr th {\n",
       "        vertical-align: top;\n",
       "    }\n",
       "\n",
       "    .dataframe thead th {\n",
       "        text-align: right;\n",
       "    }\n",
       "</style>\n",
       "<table border=\"1\" class=\"dataframe\">\n",
       "  <thead>\n",
       "    <tr style=\"text-align: right;\">\n",
       "      <th></th>\n",
       "      <th>age</th>\n",
       "    </tr>\n",
       "  </thead>\n",
       "  <tbody>\n",
       "    <tr>\n",
       "      <th>count</th>\n",
       "      <td>17000.000000</td>\n",
       "    </tr>\n",
       "    <tr>\n",
       "      <th>mean</th>\n",
       "      <td>62.531412</td>\n",
       "    </tr>\n",
       "    <tr>\n",
       "      <th>std</th>\n",
       "      <td>26.738580</td>\n",
       "    </tr>\n",
       "    <tr>\n",
       "      <th>min</th>\n",
       "      <td>18.000000</td>\n",
       "    </tr>\n",
       "    <tr>\n",
       "      <th>25%</th>\n",
       "      <td>45.000000</td>\n",
       "    </tr>\n",
       "    <tr>\n",
       "      <th>50%</th>\n",
       "      <td>58.000000</td>\n",
       "    </tr>\n",
       "    <tr>\n",
       "      <th>75%</th>\n",
       "      <td>73.000000</td>\n",
       "    </tr>\n",
       "    <tr>\n",
       "      <th>max</th>\n",
       "      <td>118.000000</td>\n",
       "    </tr>\n",
       "  </tbody>\n",
       "</table>\n",
       "</div>"
      ],
      "text/plain": [
       "                age\n",
       "count  17000.000000\n",
       "mean      62.531412\n",
       "std       26.738580\n",
       "min       18.000000\n",
       "25%       45.000000\n",
       "50%       58.000000\n",
       "75%       73.000000\n",
       "max      118.000000"
      ]
     },
     "execution_count": 44,
     "metadata": {},
     "output_type": "execute_result"
    }
   ],
   "source": [
    "profile[[\"age\"]].describe()"
   ]
  },
  {
   "cell_type": "code",
   "execution_count": 45,
   "metadata": {},
   "outputs": [],
   "source": [
    "# Categorizing customer's age into 4 group Youth, Adults, Senior, Older\n",
    "profile[\"age_categories\"] = pd.cut(profile[\"age\"], bins=[18, 35, 55, 64, 200], labels=[\"Youth\", \"Adults\", \"Seniors\", \"Older\"])"
   ]
  },
  {
   "cell_type": "code",
   "execution_count": 46,
   "metadata": {},
   "outputs": [
    {
     "data": {
      "text/plain": [
       "<AxesSubplot:>"
      ]
     },
     "execution_count": 46,
     "metadata": {},
     "output_type": "execute_result"
    },
    {
     "data": {
      "image/png": "[encoded data removed]",
      "text/plain": [
       "<Figure size 432x288 with 1 Axes>"
      ]
     },
     "metadata": {
      "needs_background": "light"
     },
     "output_type": "display_data"
    }
   ],
   "source": [
    "# How many customer in each age-category group\n",
    "profile[\"age_categories\"].value_counts().sort_index().plot(kind=\"bar\")"
   ]
  },
  {
   "attachments": {},
   "cell_type": "markdown",
   "metadata": {},
   "source": [
    "6.\tIf dividing users by age group such as Youth, Adults, Seniors, and Older, how many users are in each age group?\n",
    "\n",
    "  \n",
    "If we divide users by the above groups, the Adults and Older groups account for a high percentage of the data."
   ]
  },
  {
   "cell_type": "code",
   "execution_count": 47,
   "metadata": {},
   "outputs": [
    {
     "data": {
      "image/png": "[encoded data removed]",
      "text/plain": [
       "<Figure size 432x288 with 1 Axes>"
      ]
     },
     "metadata": {
      "needs_background": "light"
     },
     "output_type": "display_data"
    }
   ],
   "source": [
    "# How many customer in each age-category group?\n",
    "profile.groupby([\"age_categories\", \"gender\"])[\"user_id\"].count().unstack().plot(kind='bar', stacked=True)\n",
    "plt.show()"
   ]
  },
  {
   "attachments": {},
   "cell_type": "markdown",
   "metadata": {},
   "source": [
    "7.\tIn each age group, what is the sex ratio in the age groups?\n",
    "  \n",
    "Among age groups, the largest proportion of Males is followed by females and finally other."
   ]
  },
  {
   "cell_type": "code",
   "execution_count": 48,
   "metadata": {},
   "outputs": [],
   "source": [
    "# Calculate total spent of each customer based on transaction event\n",
    "profile[\"total_spent\"] = profile[\"user_id\"].map(transactions_df.groupby(\"user_id\")[\"amount\"].sum().to_dict())"
   ]
  },
  {
   "cell_type": "code",
   "execution_count": 49,
   "metadata": {},
   "outputs": [
    {
     "data": {
      "text/plain": [
       "<AxesSubplot:>"
      ]
     },
     "execution_count": 49,
     "metadata": {},
     "output_type": "execute_result"
    },
    {
     "data": {
      "image/png": "[encoded data removed]",
      "text/plain": [
       "<Figure size 432x288 with 1 Axes>"
      ]
     },
     "metadata": {
      "needs_background": "light"
     },
     "output_type": "display_data"
    }
   ],
   "source": [
    "# total spent distribution\n",
    "profile[\"total_spent\"].hist()"
   ]
  },
  {
   "cell_type": "markdown",
   "metadata": {},
   "source": [
    "Total money-spent distribution"
   ]
  },
  {
   "cell_type": "code",
   "execution_count": 50,
   "metadata": {
    "scrolled": true
   },
   "outputs": [
    {
     "data": {
      "image/png": "[encoded data removed]",
      "text/plain": [
       "<Figure size 432x288 with 1 Axes>"
      ]
     },
     "metadata": {
      "needs_background": "light"
     },
     "output_type": "display_data"
    }
   ],
   "source": [
    "# Average money-spent in each gender-group\n",
    "# The female group pays the most on average compared to the rest \n",
    "profile.groupby(\"gender\")[\"total_spent\"].mean().plot.bar()\n",
    "plt.show()"
   ]
  },
  {
   "attachments": {},
   "cell_type": "markdown",
   "metadata": {},
   "source": [
    "8.\tIn each gender group, what is the average total amount of money the user has spent?\n",
    "\n",
    "  \n",
    "In the above, we know that the number of female users is the largest. In this chart we see, the average amount of women is also the most."
   ]
  },
  {
   "cell_type": "code",
   "execution_count": 51,
   "metadata": {},
   "outputs": [
    {
     "data": {
      "image/png": "[encoded data removed]",
      "text/plain": [
       "<Figure size 432x288 with 1 Axes>"
      ]
     },
     "metadata": {
      "needs_background": "light"
     },
     "output_type": "display_data"
    }
   ],
   "source": [
    "# Average money-spent in each age-category\n",
    "# The seniors's age group pays the most on average compared to the rest \n",
    "profile.groupby(\"age_categories\")[\"total_spent\"].mean().plot.bar()\n",
    "plt.show()"
   ]
  },
  {
   "attachments": {},
   "cell_type": "markdown",
   "metadata": {},
   "source": [
    "9.\tIn each income group, what is the average amount of money the user has spent?\n",
    "  \n",
    "In the previous chart, the Older age group has the most users, but they have the least amount of spending on average. In contrast, the Seniors and Youth groups accounted for a smaller proportion of the population but had a higher average amount."
   ]
  },
  {
   "cell_type": "code",
   "execution_count": 52,
   "metadata": {},
   "outputs": [
    {
     "data": {
      "image/png": "[encoded data removed]",
      "text/plain": [
       "<Figure size 432x288 with 1 Axes>"
      ]
     },
     "metadata": {
      "needs_background": "light"
     },
     "output_type": "display_data"
    }
   ],
   "source": [
    "profile.groupby([\"age_categories\", \"gender\"])[\"total_spent\"].mean().unstack().plot(kind='bar')\n",
    "plt.show()"
   ]
  },
  {
   "attachments": {},
   "cell_type": "markdown",
   "metadata": {},
   "source": [
    "10.\tHow many users participate in each income group in years?\n",
    " \n",
    " \n",
    "Complementing the chart above are most age groups. Women have the highest average payout."
   ]
  },
  {
   "cell_type": "code",
   "execution_count": 53,
   "metadata": {},
   "outputs": [
    {
     "data": {
      "image/png": "[encoded data removed]",
      "text/plain": [
       "<Figure size 432x288 with 1 Axes>"
      ]
     },
     "metadata": {
      "needs_background": "light"
     },
     "output_type": "display_data"
    }
   ],
   "source": [
    "# Income distribution\n",
    "profile[\"income\"].hist()\n",
    "plt.title(\"income distribution\")\n",
    "plt.show()"
   ]
  },
  {
   "cell_type": "markdown",
   "metadata": {},
   "source": [
    "Income distribution"
   ]
  },
  {
   "cell_type": "code",
   "execution_count": 54,
   "metadata": {},
   "outputs": [],
   "source": [
    "# Split customer income into 3 categories such as lower, middle, upper\n",
    "profile[\"income_categories\"] = pd.qcut(profile[\"income\"], q=[0, 0.30, 0.80, 1], labels=[\"Lower-income\", \"Middle-income\", \"Upper-income\"])"
   ]
  },
  {
   "cell_type": "code",
   "execution_count": 55,
   "metadata": {},
   "outputs": [
    {
     "data": {
      "image/png": "[encoded data removed]",
      "text/plain": [
       "<Figure size 432x288 with 1 Axes>"
      ]
     },
     "metadata": {
      "needs_background": "light"
     },
     "output_type": "display_data"
    }
   ],
   "source": [
    "# Number of customer in each income group\n",
    "profile[\"income_categories\"].value_counts().plot(kind=\"bar\")\n",
    "plt.show()"
   ]
  },
  {
   "attachments": {},
   "cell_type": "markdown",
   "metadata": {},
   "source": [
    "11.\tIf the income of each user is divided into 3 groups: Lower-income, Middle-income, and Upper-income, how much is the number of users in each group?\n",
    "  \n",
    "The group of people divided by average income has the largest number of people in the middle, followed by lower and upper."
   ]
  },
  {
   "cell_type": "code",
   "execution_count": 56,
   "metadata": {},
   "outputs": [
    {
     "data": {
      "image/png": "[encoded data removed]",
      "text/plain": [
       "<Figure size 432x288 with 1 Axes>"
      ]
     },
     "metadata": {
      "needs_background": "light"
     },
     "output_type": "display_data"
    }
   ],
   "source": [
    "# The group of upper-income people has a smaller number but spends more money on average than other groups\n",
    "profile.groupby(\"income_categories\")[\"total_spent\"].mean().plot(kind=\"bar\")\n",
    "plt.show()"
   ]
  },
  {
   "attachments": {},
   "cell_type": "markdown",
   "metadata": {},
   "source": [
    "12.\tIn each income group, what is the average amount of money the user has spent?\n",
    "  \n",
    "Complementing the chart above, although the number of people with upper income is low, the average amount of money spent is the highest, almost equal to that of the lower and middle groups combined."
   ]
  },
  {
   "cell_type": "code",
   "execution_count": 57,
   "metadata": {},
   "outputs": [
    {
     "data": {
      "image/png": "[encoded data removed]",
      "text/plain": [
       "<Figure size 1080x360 with 2 Axes>"
      ]
     },
     "metadata": {
      "needs_background": "light"
     },
     "output_type": "display_data"
    }
   ],
   "source": [
    "fig, (ax1, ax2) = plt.subplots(1, 2, figsize=(15, 5))\n",
    "profile.groupby([\"year\", \"income_categories\"])[\"total_spent\"].sum().unstack().plot(kind=\"bar\", ax = ax1)\n",
    "profile.groupby(\"year\")[\"income_categories\"].value_counts().unstack().plot(kind=\"bar\", ax = ax2)\n",
    "ax1.set_title(\"Total amount spent by the income-group customers in each year\")\n",
    "ax1.set_xlabel(\"Year\")\n",
    "ax1.set_ylabel(\"Amount\")\n",
    "\n",
    "ax2.set_title(\"Number of the income-group customers have participated in each year\")\n",
    "ax2.set_xlabel(\"Year\")\n",
    "ax2.set_ylabel(\"Number of Users\")\n",
    "plt.show()"
   ]
  },
  {
   "cell_type": "markdown",
   "metadata": {},
   "source": [
    "13.\tIn each income group, what is the average amount of money the user has spent?\n",
    "  \n",
    "The highest number of participants by year was middle, followed by lower and upper."
   ]
  },
  {
   "cell_type": "code",
   "execution_count": 58,
   "metadata": {},
   "outputs": [],
   "source": [
    "# transcript analysis"
   ]
  },
  {
   "cell_type": "code",
   "execution_count": 59,
   "metadata": {},
   "outputs": [
    {
     "data": {
      "image/png": "[encoded data removed]",
      "text/plain": [
       "<Figure size 1440x720 with 2 Axes>"
      ]
     },
     "metadata": {
      "needs_background": "light"
     },
     "output_type": "display_data"
    }
   ],
   "source": [
    "# Event types volume\n",
    "fig, (ax1, ax2) = plt.subplots(1, 2, figsize=(20, 10))\n",
    "explode = (0.01, 0.01, 0.01, 0.01)\n",
    "transcript.event.value_counts(normalize=True).plot(kind=\"pie\", autopct='%1.0f%%', radius=0.6, \n",
    "                                                   explode=explode, ax=ax1, wedgeprops=dict(width=0.4, edgecolor='w'))\n",
    "transcript.event.value_counts().plot(kind=\"bar\", ax=ax2)\n",
    "\n",
    "ax1.set_title(\"Event percentages distribution\")\n",
    "ax2.set_title(\"Event distribution\")\n",
    "\n",
    "plt.show()"
   ]
  },
  {
   "cell_type": "markdown",
   "metadata": {},
   "source": [
    "14.\tHow many users participate in each income group in years?\n",
    "  \n",
    "\n",
    "By the type of offer, the sending rate is 25%, which is considered 19%, and the completion rate is 11%. In fact, this percentage is quite high.\n"
   ]
  },
  {
   "cell_type": "code",
   "execution_count": 60,
   "metadata": {},
   "outputs": [
    {
     "data": {
      "image/png": "[encoded data removed]",
      "text/plain": [
       "<Figure size 432x288 with 1 Axes>"
      ]
     },
     "metadata": {
      "needs_background": "light"
     },
     "output_type": "display_data"
    }
   ],
   "source": [
    "# Offers transcript reward distribution\n",
    "offers_df.reward.hist()\n",
    "plt.title(\"Offer reward distribution\")\n",
    "plt.show()"
   ]
  },
  {
   "cell_type": "markdown",
   "metadata": {},
   "source": [
    "Offer reward distribution"
   ]
  },
  {
   "cell_type": "code",
   "execution_count": 61,
   "metadata": {},
   "outputs": [
    {
     "data": {
      "text/html": [
       "<div>\n",
       "<style scoped>\n",
       "    .dataframe tbody tr th:only-of-type {\n",
       "        vertical-align: middle;\n",
       "    }\n",
       "\n",
       "    .dataframe tbody tr th {\n",
       "        vertical-align: top;\n",
       "    }\n",
       "\n",
       "    .dataframe thead th {\n",
       "        text-align: right;\n",
       "    }\n",
       "</style>\n",
       "<table border=\"1\" class=\"dataframe\">\n",
       "  <thead>\n",
       "    <tr style=\"text-align: right;\">\n",
       "      <th></th>\n",
       "      <th>amount</th>\n",
       "    </tr>\n",
       "  </thead>\n",
       "  <tbody>\n",
       "    <tr>\n",
       "      <th>count</th>\n",
       "      <td>138953.000000</td>\n",
       "    </tr>\n",
       "    <tr>\n",
       "      <th>mean</th>\n",
       "      <td>12.777356</td>\n",
       "    </tr>\n",
       "    <tr>\n",
       "      <th>std</th>\n",
       "      <td>30.250529</td>\n",
       "    </tr>\n",
       "    <tr>\n",
       "      <th>min</th>\n",
       "      <td>0.050000</td>\n",
       "    </tr>\n",
       "    <tr>\n",
       "      <th>25%</th>\n",
       "      <td>2.780000</td>\n",
       "    </tr>\n",
       "    <tr>\n",
       "      <th>50%</th>\n",
       "      <td>8.890000</td>\n",
       "    </tr>\n",
       "    <tr>\n",
       "      <th>75%</th>\n",
       "      <td>18.070000</td>\n",
       "    </tr>\n",
       "    <tr>\n",
       "      <th>max</th>\n",
       "      <td>1062.280000</td>\n",
       "    </tr>\n",
       "  </tbody>\n",
       "</table>\n",
       "</div>"
      ],
      "text/plain": [
       "              amount\n",
       "count  138953.000000\n",
       "mean       12.777356\n",
       "std        30.250529\n",
       "min         0.050000\n",
       "25%         2.780000\n",
       "50%         8.890000\n",
       "75%        18.070000\n",
       "max      1062.280000"
      ]
     },
     "execution_count": 61,
     "metadata": {},
     "output_type": "execute_result"
    }
   ],
   "source": [
    "# transactions_df.boxplot(column=[\"amount\"])\n",
    "transactions_df[[\"amount\"]].describe()"
   ]
  },
  {
   "cell_type": "code",
   "execution_count": 62,
   "metadata": {},
   "outputs": [
    {
     "data": {
      "image/png": "[encoded data removed]",
      "text/plain": [
       "<Figure size 432x288 with 1 Axes>"
      ]
     },
     "metadata": {
      "needs_background": "light"
     },
     "output_type": "display_data"
    }
   ],
   "source": [
    "# Offers transcript time distribution\n",
    "offers_df.time.hist()\n",
    "plt.title(\"Offer time distribution\")\n",
    "plt.show()"
   ]
  },
  {
   "cell_type": "markdown",
   "metadata": {},
   "source": [
    "Offer time distribution"
   ]
  },
  {
   "cell_type": "code",
   "execution_count": 63,
   "metadata": {},
   "outputs": [
    {
     "data": {
      "image/png": "[encoded data removed]",
      "text/plain": [
       "<Figure size 432x288 with 1 Axes>"
      ]
     },
     "metadata": {
      "needs_background": "light"
     },
     "output_type": "display_data"
    }
   ],
   "source": [
    "# Transaction transcript time distribution\n",
    "transactions_df.time.hist()\n",
    "plt.title(\"Transaction time distribution\")\n",
    "plt.show()"
   ]
  },
  {
   "cell_type": "markdown",
   "metadata": {},
   "source": [
    "Transaction time distribution"
   ]
  },
  {
   "cell_type": "code",
   "execution_count": 64,
   "metadata": {},
   "outputs": [
    {
     "data": {
      "image/png": "[encoded data removed]",
      "text/plain": [
       "<Figure size 432x288 with 1 Axes>"
      ]
     },
     "metadata": {
      "needs_background": "light"
     },
     "output_type": "display_data"
    }
   ],
   "source": [
    "# The distribution of the mumber of offer transcript for each customer\n",
    "offers_df.groupby(\"user_id\")[\"offer_id\"].count().hist()\n",
    "plt.title(\"The distribution of the number offer the customer received during the time\")\n",
    "plt.show()"
   ]
  },
  {
   "cell_type": "markdown",
   "metadata": {},
   "source": [
    "The distribution of the number offer the customer received during the time"
   ]
  },
  {
   "cell_type": "code",
   "execution_count": 65,
   "metadata": {},
   "outputs": [
    {
     "data": {
      "image/png": "[encoded data removed]",
      "text/plain": [
       "<Figure size 432x288 with 1 Axes>"
      ]
     },
     "metadata": {
      "needs_background": "light"
     },
     "output_type": "display_data"
    }
   ],
   "source": [
    "# The distribution of the numbe of event per customer in tracsaction transcript\n",
    "transactions_df.groupby(\"user_id\")[\"event\"].count().hist()\n",
    "plt.title(\"The distribution of the number transaction\")\n",
    "plt.show()"
   ]
  },
  {
   "cell_type": "markdown",
   "metadata": {},
   "source": [
    "The distribution of the number transaction"
   ]
  },
  {
   "cell_type": "code",
   "execution_count": 66,
   "metadata": {},
   "outputs": [
    {
     "data": {
      "text/plain": [
       "array([10,  0,  5,  3,  2])"
      ]
     },
     "execution_count": 66,
     "metadata": {},
     "output_type": "execute_result"
    }
   ],
   "source": [
    "portfolio_df.reward.unique()"
   ]
  },
  {
   "cell_type": "code",
   "execution_count": 67,
   "metadata": {},
   "outputs": [
    {
     "data": {
      "text/plain": [
       "array([10,  0,  5, 20,  7])"
      ]
     },
     "execution_count": 67,
     "metadata": {},
     "output_type": "execute_result"
    }
   ],
   "source": [
    "portfolio_df.difficulty.unique()"
   ]
  },
  {
   "cell_type": "code",
   "execution_count": 68,
   "metadata": {},
   "outputs": [
    {
     "data": {
      "text/plain": [
       "array([ 7,  5,  4, 10,  3])"
      ]
     },
     "execution_count": 68,
     "metadata": {},
     "output_type": "execute_result"
    }
   ],
   "source": [
    "portfolio_df.duration.unique()"
   ]
  },
  {
   "cell_type": "markdown",
   "metadata": {},
   "source": [
    "<h2>Building model</h2>"
   ]
  },
  {
   "cell_type": "markdown",
   "metadata": {},
   "source": [
    "<h3>3.1. Data Preparation</h3>"
   ]
  },
  {
   "cell_type": "code",
   "execution_count": 69,
   "metadata": {},
   "outputs": [],
   "source": [
    "# The model will predict the chance offer completed after the customer received?\n",
    "offers_df[\"event_level\"] = offers_df[\"event\"].map({'offer received': 0, 'offer viewed': 1, 'offer completed': 2})"
   ]
  },
  {
   "cell_type": "code",
   "execution_count": 70,
   "metadata": {},
   "outputs": [
    {
     "data": {
      "text/html": [
       "<div>\n",
       "<style scoped>\n",
       "    .dataframe tbody tr th:only-of-type {\n",
       "        vertical-align: middle;\n",
       "    }\n",
       "\n",
       "    .dataframe tbody tr th {\n",
       "        vertical-align: top;\n",
       "    }\n",
       "\n",
       "    .dataframe thead th {\n",
       "        text-align: right;\n",
       "    }\n",
       "</style>\n",
       "<table border=\"1\" class=\"dataframe\">\n",
       "  <thead>\n",
       "    <tr style=\"text-align: right;\">\n",
       "      <th></th>\n",
       "      <th>user_id</th>\n",
       "      <th>offer_id</th>\n",
       "      <th>is_success</th>\n",
       "    </tr>\n",
       "  </thead>\n",
       "  <tbody>\n",
       "    <tr>\n",
       "      <th>0</th>\n",
       "      <td>0009655768c64bdeb2e877511632db8f</td>\n",
       "      <td>2906b810c7d4411798c6938adc9daaa5</td>\n",
       "      <td>1</td>\n",
       "    </tr>\n",
       "    <tr>\n",
       "      <th>1</th>\n",
       "      <td>0009655768c64bdeb2e877511632db8f</td>\n",
       "      <td>3f207df678b143eea3cee63160fa8bed</td>\n",
       "      <td>0</td>\n",
       "    </tr>\n",
       "    <tr>\n",
       "      <th>2</th>\n",
       "      <td>0009655768c64bdeb2e877511632db8f</td>\n",
       "      <td>5a8bc65990b245e5a138643cd4eb9837</td>\n",
       "      <td>0</td>\n",
       "    </tr>\n",
       "    <tr>\n",
       "      <th>3</th>\n",
       "      <td>0009655768c64bdeb2e877511632db8f</td>\n",
       "      <td>f19421c1d4aa40978ebb69ca19b0e20d</td>\n",
       "      <td>1</td>\n",
       "    </tr>\n",
       "    <tr>\n",
       "      <th>4</th>\n",
       "      <td>0009655768c64bdeb2e877511632db8f</td>\n",
       "      <td>fafdcd668e3743c1bb461111dcafc2a4</td>\n",
       "      <td>1</td>\n",
       "    </tr>\n",
       "    <tr>\n",
       "      <th>...</th>\n",
       "      <td>...</td>\n",
       "      <td>...</td>\n",
       "      <td>...</td>\n",
       "    </tr>\n",
       "    <tr>\n",
       "      <th>63283</th>\n",
       "      <td>fffad4f4828548d1b5583907f2e9906b</td>\n",
       "      <td>f19421c1d4aa40978ebb69ca19b0e20d</td>\n",
       "      <td>1</td>\n",
       "    </tr>\n",
       "    <tr>\n",
       "      <th>63284</th>\n",
       "      <td>ffff82501cea40309d5fdd7edcca4a07</td>\n",
       "      <td>0b1e1539f2cc45b7b9fa7c272da2e1d7</td>\n",
       "      <td>1</td>\n",
       "    </tr>\n",
       "    <tr>\n",
       "      <th>63285</th>\n",
       "      <td>ffff82501cea40309d5fdd7edcca4a07</td>\n",
       "      <td>2906b810c7d4411798c6938adc9daaa5</td>\n",
       "      <td>1</td>\n",
       "    </tr>\n",
       "    <tr>\n",
       "      <th>63286</th>\n",
       "      <td>ffff82501cea40309d5fdd7edcca4a07</td>\n",
       "      <td>9b98b8c7a33c4b65b9aebfe6a799e6d9</td>\n",
       "      <td>1</td>\n",
       "    </tr>\n",
       "    <tr>\n",
       "      <th>63287</th>\n",
       "      <td>ffff82501cea40309d5fdd7edcca4a07</td>\n",
       "      <td>fafdcd668e3743c1bb461111dcafc2a4</td>\n",
       "      <td>1</td>\n",
       "    </tr>\n",
       "  </tbody>\n",
       "</table>\n",
       "<p>63288 rows × 3 columns</p>\n",
       "</div>"
      ],
      "text/plain": [
       "                                user_id                          offer_id  \\\n",
       "0      0009655768c64bdeb2e877511632db8f  2906b810c7d4411798c6938adc9daaa5   \n",
       "1      0009655768c64bdeb2e877511632db8f  3f207df678b143eea3cee63160fa8bed   \n",
       "2      0009655768c64bdeb2e877511632db8f  5a8bc65990b245e5a138643cd4eb9837   \n",
       "3      0009655768c64bdeb2e877511632db8f  f19421c1d4aa40978ebb69ca19b0e20d   \n",
       "4      0009655768c64bdeb2e877511632db8f  fafdcd668e3743c1bb461111dcafc2a4   \n",
       "...                                 ...                               ...   \n",
       "63283  fffad4f4828548d1b5583907f2e9906b  f19421c1d4aa40978ebb69ca19b0e20d   \n",
       "63284  ffff82501cea40309d5fdd7edcca4a07  0b1e1539f2cc45b7b9fa7c272da2e1d7   \n",
       "63285  ffff82501cea40309d5fdd7edcca4a07  2906b810c7d4411798c6938adc9daaa5   \n",
       "63286  ffff82501cea40309d5fdd7edcca4a07  9b98b8c7a33c4b65b9aebfe6a799e6d9   \n",
       "63287  ffff82501cea40309d5fdd7edcca4a07  fafdcd668e3743c1bb461111dcafc2a4   \n",
       "\n",
       "       is_success  \n",
       "0               1  \n",
       "1               0  \n",
       "2               0  \n",
       "3               1  \n",
       "4               1  \n",
       "...           ...  \n",
       "63283           1  \n",
       "63284           1  \n",
       "63285           1  \n",
       "63286           1  \n",
       "63287           1  \n",
       "\n",
       "[63288 rows x 3 columns]"
      ]
     },
     "execution_count": 70,
     "metadata": {},
     "output_type": "execute_result"
    }
   ],
   "source": [
    "offers_results = offers_df.groupby([\"user_id\", \"offer_id\"])[\"event_level\"].max().apply(lambda x: 1 if x > 1 else 0).reset_index(name=\"is_success\")\n",
    "offers_results"
   ]
  },
  {
   "cell_type": "code",
   "execution_count": 71,
   "metadata": {},
   "outputs": [
    {
     "data": {
      "image/png": "[encoded data removed]",
      "text/plain": [
       "<Figure size 432x288 with 1 Axes>"
      ]
     },
     "metadata": {},
     "output_type": "display_data"
    }
   ],
   "source": [
    "# unsuccessful and successfull offers will be 54.18%, 45.82% respectively\n",
    "offers_results[\"is_success\"].value_counts().plot(kind=\"pie\", autopct='%.2f', labels=['Unsuccessful','Successful'])\n",
    "plt.show()"
   ]
  },
  {
   "cell_type": "markdown",
   "metadata": {},
   "source": [
    "Successful/UnSuccessful Rate"
   ]
  },
  {
   "cell_type": "code",
   "execution_count": 72,
   "metadata": {},
   "outputs": [
    {
     "data": {
      "image/png": "[encoded data removed]",
      "text/plain": [
       "<Figure size 432x288 with 1 Axes>"
      ]
     },
     "metadata": {
      "needs_background": "light"
     },
     "output_type": "display_data"
    }
   ],
   "source": [
    "# Distribution of successful rate\n",
    "offers_results.groupby('user_id')[\"is_success\"].mean().hist()\n",
    "plt.title(\"Successful rate distribution\")\n",
    "plt.show()"
   ]
  },
  {
   "cell_type": "markdown",
   "metadata": {},
   "source": [
    "Successful rate distribution"
   ]
  },
  {
   "cell_type": "code",
   "execution_count": 73,
   "metadata": {},
   "outputs": [],
   "source": [
    "# ignore informational offer for training data\n",
    "offers_results_without_informational_df = offers_results[~offers_results.offer_id.isin([\"3f207df678b143eea3cee63160fa8bed\", \"5a8bc65990b245e5a138643cd4eb9837\"])]"
   ]
  },
  {
   "cell_type": "code",
   "execution_count": 74,
   "metadata": {},
   "outputs": [],
   "source": [
    "# Merge offer porfolio to offers df\n",
    "portfolio_cols = [\"offer_id\", \"reward\", \"difficulty\", \"duration\", \"email\", \"mobile\", \"social\", \"web\", \"bogo\", \"discount\"]\n",
    "\n",
    "merged_df = pd.merge(left=offers_results_without_informational_df, right=portfolio_df, on=\"offer_id\", how=\"left\")"
   ]
  },
  {
   "cell_type": "code",
   "execution_count": 75,
   "metadata": {},
   "outputs": [
    {
     "data": {
      "text/html": [
       "<div>\n",
       "<style scoped>\n",
       "    .dataframe tbody tr th:only-of-type {\n",
       "        vertical-align: middle;\n",
       "    }\n",
       "\n",
       "    .dataframe tbody tr th {\n",
       "        vertical-align: top;\n",
       "    }\n",
       "\n",
       "    .dataframe thead th {\n",
       "        text-align: right;\n",
       "    }\n",
       "</style>\n",
       "<table border=\"1\" class=\"dataframe\">\n",
       "  <thead>\n",
       "    <tr style=\"text-align: right;\">\n",
       "      <th></th>\n",
       "      <th>user_id</th>\n",
       "      <th>offer_id</th>\n",
       "      <th>is_success</th>\n",
       "      <th>reward</th>\n",
       "      <th>difficulty</th>\n",
       "      <th>duration</th>\n",
       "      <th>email</th>\n",
       "      <th>mobile</th>\n",
       "      <th>social</th>\n",
       "      <th>web</th>\n",
       "      <th>bogo</th>\n",
       "      <th>discount</th>\n",
       "      <th>informational</th>\n",
       "    </tr>\n",
       "  </thead>\n",
       "  <tbody>\n",
       "    <tr>\n",
       "      <th>0</th>\n",
       "      <td>0009655768c64bdeb2e877511632db8f</td>\n",
       "      <td>2906b810c7d4411798c6938adc9daaa5</td>\n",
       "      <td>1</td>\n",
       "      <td>2</td>\n",
       "      <td>10</td>\n",
       "      <td>7</td>\n",
       "      <td>1.0</td>\n",
       "      <td>1.0</td>\n",
       "      <td>0.0</td>\n",
       "      <td>1.0</td>\n",
       "      <td>0</td>\n",
       "      <td>1</td>\n",
       "      <td>0</td>\n",
       "    </tr>\n",
       "    <tr>\n",
       "      <th>1</th>\n",
       "      <td>0009655768c64bdeb2e877511632db8f</td>\n",
       "      <td>f19421c1d4aa40978ebb69ca19b0e20d</td>\n",
       "      <td>1</td>\n",
       "      <td>5</td>\n",
       "      <td>5</td>\n",
       "      <td>5</td>\n",
       "      <td>1.0</td>\n",
       "      <td>1.0</td>\n",
       "      <td>1.0</td>\n",
       "      <td>1.0</td>\n",
       "      <td>1</td>\n",
       "      <td>0</td>\n",
       "      <td>0</td>\n",
       "    </tr>\n",
       "  </tbody>\n",
       "</table>\n",
       "</div>"
      ],
      "text/plain": [
       "                            user_id                          offer_id  \\\n",
       "0  0009655768c64bdeb2e877511632db8f  2906b810c7d4411798c6938adc9daaa5   \n",
       "1  0009655768c64bdeb2e877511632db8f  f19421c1d4aa40978ebb69ca19b0e20d   \n",
       "\n",
       "   is_success  reward  difficulty  duration  email  mobile  social  web  bogo  \\\n",
       "0           1       2          10         7    1.0     1.0     0.0  1.0     0   \n",
       "1           1       5           5         5    1.0     1.0     1.0  1.0     1   \n",
       "\n",
       "   discount  informational  \n",
       "0         1              0  \n",
       "1         0              0  "
      ]
     },
     "execution_count": 75,
     "metadata": {},
     "output_type": "execute_result"
    }
   ],
   "source": [
    "merged_df.head(2)"
   ]
  },
  {
   "cell_type": "code",
   "execution_count": 76,
   "metadata": {},
   "outputs": [
    {
     "data": {
      "text/plain": [
       "0.5365901820623198"
      ]
     },
     "execution_count": 76,
     "metadata": {},
     "output_type": "execute_result"
    }
   ],
   "source": [
    "# BOGO rate\n",
    "merged_df[merged_df[\"bogo\"] > 0].is_success.mean()"
   ]
  },
  {
   "cell_type": "code",
   "execution_count": 77,
   "metadata": {},
   "outputs": [
    {
     "data": {
      "text/plain": [
       "0.608666455996208"
      ]
     },
     "execution_count": 77,
     "metadata": {},
     "output_type": "execute_result"
    }
   ],
   "source": [
    "# discount rate\n",
    "merged_df[merged_df[\"discount\"] > 0].is_success.mean()"
   ]
  },
  {
   "cell_type": "code",
   "execution_count": 78,
   "metadata": {},
   "outputs": [
    {
     "data": {
      "image/png": "[encoded data removed]",
      "text/plain": [
       "<Figure size 432x288 with 1 Axes>"
      ]
     },
     "metadata": {
      "needs_background": "light"
     },
     "output_type": "display_data"
    }
   ],
   "source": [
    "merged_df.groupby(\"difficulty\")[\"is_success\"].mean().plot(kind=\"bar\")\n",
    "plt.title(\"Relationship between offer difficulty and successful rate\")\n",
    "plt.ylabel(\"successful rate\")\n",
    "plt.show()"
   ]
  },
  {
   "cell_type": "markdown",
   "metadata": {},
   "source": [
    "Relationship between offer difficulty and successful rate"
   ]
  },
  {
   "cell_type": "code",
   "execution_count": 79,
   "metadata": {},
   "outputs": [
    {
     "data": {
      "image/png": "[encoded data removed]",
      "text/plain": [
       "<Figure size 432x288 with 1 Axes>"
      ]
     },
     "metadata": {
      "needs_background": "light"
     },
     "output_type": "display_data"
    }
   ],
   "source": [
    "merged_df.groupby(\"reward\")[\"is_success\"].mean().plot(kind=\"bar\")\n",
    "plt.title(\"Relationship between offer reward and successful rate\")\n",
    "plt.ylabel(\"successful rate\")\n",
    "plt.show()"
   ]
  },
  {
   "cell_type": "markdown",
   "metadata": {},
   "source": [
    "Relationship between offer reward and successful rate"
   ]
  },
  {
   "cell_type": "code",
   "execution_count": 80,
   "metadata": {},
   "outputs": [
    {
     "data": {
      "image/png": "[encoded data removed]",
      "text/plain": [
       "<Figure size 432x288 with 1 Axes>"
      ]
     },
     "metadata": {
      "needs_background": "light"
     },
     "output_type": "display_data"
    }
   ],
   "source": [
    "merged_df.groupby(\"duration\")[\"is_success\"].mean().plot(kind=\"bar\")\n",
    "plt.title(\"Relationship between offer duration and successful rate\")\n",
    "plt.ylabel(\"successful rate\")\n",
    "plt.show()"
   ]
  },
  {
   "cell_type": "markdown",
   "metadata": {},
   "source": [
    "Relationship between offer duration and successful rate"
   ]
  },
  {
   "cell_type": "code",
   "execution_count": 81,
   "metadata": {},
   "outputs": [],
   "source": [
    "# Merge profile df into offer df\n",
    "merged_df = pd.merge(left=merged_df, right=profile, on=\"user_id\", how=\"left\")"
   ]
  },
  {
   "cell_type": "code",
   "execution_count": 82,
   "metadata": {},
   "outputs": [
    {
     "data": {
      "text/html": [
       "<div>\n",
       "<style scoped>\n",
       "    .dataframe tbody tr th:only-of-type {\n",
       "        vertical-align: middle;\n",
       "    }\n",
       "\n",
       "    .dataframe tbody tr th {\n",
       "        vertical-align: top;\n",
       "    }\n",
       "\n",
       "    .dataframe thead th {\n",
       "        text-align: right;\n",
       "    }\n",
       "</style>\n",
       "<table border=\"1\" class=\"dataframe\">\n",
       "  <thead>\n",
       "    <tr style=\"text-align: right;\">\n",
       "      <th></th>\n",
       "      <th>user_id</th>\n",
       "      <th>offer_id</th>\n",
       "      <th>is_success</th>\n",
       "      <th>reward</th>\n",
       "      <th>difficulty</th>\n",
       "      <th>duration</th>\n",
       "      <th>email</th>\n",
       "      <th>mobile</th>\n",
       "      <th>social</th>\n",
       "      <th>web</th>\n",
       "      <th>...</th>\n",
       "      <th>became_member_on</th>\n",
       "      <th>income</th>\n",
       "      <th>dayofweek</th>\n",
       "      <th>is_weekend</th>\n",
       "      <th>day</th>\n",
       "      <th>month</th>\n",
       "      <th>year</th>\n",
       "      <th>age_categories</th>\n",
       "      <th>total_spent</th>\n",
       "      <th>income_categories</th>\n",
       "    </tr>\n",
       "  </thead>\n",
       "  <tbody>\n",
       "    <tr>\n",
       "      <th>0</th>\n",
       "      <td>0009655768c64bdeb2e877511632db8f</td>\n",
       "      <td>2906b810c7d4411798c6938adc9daaa5</td>\n",
       "      <td>1</td>\n",
       "      <td>2</td>\n",
       "      <td>10</td>\n",
       "      <td>7</td>\n",
       "      <td>1.0</td>\n",
       "      <td>1.0</td>\n",
       "      <td>0.0</td>\n",
       "      <td>1.0</td>\n",
       "      <td>...</td>\n",
       "      <td>2017-04-21</td>\n",
       "      <td>72000.0</td>\n",
       "      <td>4</td>\n",
       "      <td>0</td>\n",
       "      <td>21</td>\n",
       "      <td>4</td>\n",
       "      <td>2017</td>\n",
       "      <td>Youth</td>\n",
       "      <td>127.6</td>\n",
       "      <td>Middle-income</td>\n",
       "    </tr>\n",
       "    <tr>\n",
       "      <th>1</th>\n",
       "      <td>0009655768c64bdeb2e877511632db8f</td>\n",
       "      <td>f19421c1d4aa40978ebb69ca19b0e20d</td>\n",
       "      <td>1</td>\n",
       "      <td>5</td>\n",
       "      <td>5</td>\n",
       "      <td>5</td>\n",
       "      <td>1.0</td>\n",
       "      <td>1.0</td>\n",
       "      <td>1.0</td>\n",
       "      <td>1.0</td>\n",
       "      <td>...</td>\n",
       "      <td>2017-04-21</td>\n",
       "      <td>72000.0</td>\n",
       "      <td>4</td>\n",
       "      <td>0</td>\n",
       "      <td>21</td>\n",
       "      <td>4</td>\n",
       "      <td>2017</td>\n",
       "      <td>Youth</td>\n",
       "      <td>127.6</td>\n",
       "      <td>Middle-income</td>\n",
       "    </tr>\n",
       "  </tbody>\n",
       "</table>\n",
       "<p>2 rows × 25 columns</p>\n",
       "</div>"
      ],
      "text/plain": [
       "                            user_id                          offer_id  \\\n",
       "0  0009655768c64bdeb2e877511632db8f  2906b810c7d4411798c6938adc9daaa5   \n",
       "1  0009655768c64bdeb2e877511632db8f  f19421c1d4aa40978ebb69ca19b0e20d   \n",
       "\n",
       "   is_success  reward  difficulty  duration  email  mobile  social  web  ...  \\\n",
       "0           1       2          10         7    1.0     1.0     0.0  1.0  ...   \n",
       "1           1       5           5         5    1.0     1.0     1.0  1.0  ...   \n",
       "\n",
       "   became_member_on   income  dayofweek is_weekend  day month  year  \\\n",
       "0        2017-04-21  72000.0          4          0   21     4  2017   \n",
       "1        2017-04-21  72000.0          4          0   21     4  2017   \n",
       "\n",
       "   age_categories  total_spent  income_categories  \n",
       "0           Youth        127.6      Middle-income  \n",
       "1           Youth        127.6      Middle-income  \n",
       "\n",
       "[2 rows x 25 columns]"
      ]
     },
     "execution_count": 82,
     "metadata": {},
     "output_type": "execute_result"
    }
   ],
   "source": [
    "merged_df.head(2)"
   ]
  },
  {
   "cell_type": "code",
   "execution_count": 83,
   "metadata": {},
   "outputs": [
    {
     "data": {
      "image/png": "[encoded data removed]",
      "text/plain": [
       "<Figure size 432x288 with 1 Axes>"
      ]
     },
     "metadata": {
      "needs_background": "light"
     },
     "output_type": "display_data"
    }
   ],
   "source": [
    "merged_df.groupby(\"gender\")[\"is_success\"].mean().plot(kind=\"bar\")\n",
    "plt.title(\"Relationship between user gender and successful rate\")\n",
    "plt.ylabel(\"successful rate\")\n",
    "plt.show()"
   ]
  },
  {
   "cell_type": "markdown",
   "metadata": {},
   "source": [
    "Relationship between user gender and successful rate"
   ]
  },
  {
   "cell_type": "code",
   "execution_count": 84,
   "metadata": {},
   "outputs": [
    {
     "data": {
      "image/png": "[encoded data removed]",
      "text/plain": [
       "<Figure size 432x288 with 1 Axes>"
      ]
     },
     "metadata": {
      "needs_background": "light"
     },
     "output_type": "display_data"
    }
   ],
   "source": [
    "merged_df.groupby(\"age_categories\")[\"is_success\"].mean().plot(kind=\"bar\")\n",
    "plt.title(\"Relationship between user age and successful rate\")\n",
    "plt.ylabel(\"successful rate\")\n",
    "plt.show()"
   ]
  },
  {
   "cell_type": "code",
   "execution_count": 85,
   "metadata": {},
   "outputs": [
    {
     "data": {
      "image/png": "[encoded data removed]",
      "text/plain": [
       "<Figure size 432x288 with 1 Axes>"
      ]
     },
     "metadata": {
      "needs_background": "light"
     },
     "output_type": "display_data"
    }
   ],
   "source": [
    "merged_df.groupby(\"income_categories\")[\"is_success\"].mean().plot(kind=\"bar\")\n",
    "plt.title(\"Relationship between user income and successful rate\")\n",
    "plt.ylabel(\"successful rate\")\n",
    "plt.show()"
   ]
  },
  {
   "cell_type": "markdown",
   "metadata": {},
   "source": [
    "Relationship between user income and successful rate"
   ]
  },
  {
   "cell_type": "code",
   "execution_count": 86,
   "metadata": {},
   "outputs": [
    {
     "data": {
      "image/png": "[encoded data removed]",
      "text/plain": [
       "<Figure size 432x288 with 1 Axes>"
      ]
     },
     "metadata": {
      "needs_background": "light"
     },
     "output_type": "display_data"
    }
   ],
   "source": [
    "merged_df.groupby(\"year\")[\"is_success\"].mean().plot(kind=\"bar\")\n",
    "plt.ylabel(\"successful rate\")\n",
    "plt.show()"
   ]
  },
  {
   "cell_type": "markdown",
   "metadata": {},
   "source": [
    "Successful rate"
   ]
  },
  {
   "cell_type": "code",
   "execution_count": 87,
   "metadata": {},
   "outputs": [],
   "source": [
    "age_onehot_df = pd.get_dummies(merged_df[\"age_categories\"])\n",
    "income_onehot = pd.get_dummies(merged_df[\"income_categories\"])\n",
    "year_onehot = pd.get_dummies(merged_df[\"year\"])"
   ]
  },
  {
   "cell_type": "code",
   "execution_count": 88,
   "metadata": {},
   "outputs": [],
   "source": [
    "input_df = pd.concat([merged_df[[\n",
    "    'user_id', 'offer_id', 'is_success', 'reward', 'difficulty', 'duration',\n",
    "    'email', 'mobile', 'social', 'web', 'bogo', 'discount', 'age', 'income']], age_onehot_df, income_onehot, year_onehot], axis=1)"
   ]
  },
  {
   "cell_type": "code",
   "execution_count": 89,
   "metadata": {},
   "outputs": [
    {
     "data": {
      "text/plain": [
       "user_id             0\n",
       "offer_id            0\n",
       "is_success          0\n",
       "reward              0\n",
       "difficulty          0\n",
       "duration            0\n",
       "email               0\n",
       "mobile              0\n",
       "social              0\n",
       "web                 0\n",
       "bogo                0\n",
       "discount            0\n",
       "age                 0\n",
       "income           6456\n",
       "Youth               0\n",
       "Adults              0\n",
       "Seniors             0\n",
       "Older               0\n",
       "Lower-income        0\n",
       "Middle-income       0\n",
       "Upper-income        0\n",
       "2013                0\n",
       "2014                0\n",
       "2015                0\n",
       "2016                0\n",
       "2017                0\n",
       "2018                0\n",
       "dtype: int64"
      ]
     },
     "execution_count": 89,
     "metadata": {},
     "output_type": "execute_result"
    }
   ],
   "source": [
    "input_df.isna().sum()"
   ]
  },
  {
   "cell_type": "code",
   "execution_count": 90,
   "metadata": {},
   "outputs": [],
   "source": [
    "input_df['income'].fillna(value=input_df['income'].mean(), inplace=True)\n",
    "merged_df['gender'].fillna(value=\"O\", inplace=True)"
   ]
  },
  {
   "cell_type": "code",
   "execution_count": 91,
   "metadata": {},
   "outputs": [],
   "source": [
    "gender_onehot = pd.get_dummies(merged_df[\"gender\"])"
   ]
  },
  {
   "cell_type": "code",
   "execution_count": 92,
   "metadata": {},
   "outputs": [],
   "source": [
    "input_df = pd.concat([input_df, gender_onehot], axis=1)"
   ]
  },
  {
   "cell_type": "code",
   "execution_count": 93,
   "metadata": {},
   "outputs": [
    {
     "data": {
      "text/html": [
       "<div>\n",
       "<style scoped>\n",
       "    .dataframe tbody tr th:only-of-type {\n",
       "        vertical-align: middle;\n",
       "    }\n",
       "\n",
       "    .dataframe tbody tr th {\n",
       "        vertical-align: top;\n",
       "    }\n",
       "\n",
       "    .dataframe thead th {\n",
       "        text-align: right;\n",
       "    }\n",
       "</style>\n",
       "<table border=\"1\" class=\"dataframe\">\n",
       "  <thead>\n",
       "    <tr style=\"text-align: right;\">\n",
       "      <th></th>\n",
       "      <th>is_success</th>\n",
       "      <th>reward</th>\n",
       "      <th>difficulty</th>\n",
       "      <th>duration</th>\n",
       "      <th>email</th>\n",
       "      <th>mobile</th>\n",
       "      <th>social</th>\n",
       "      <th>web</th>\n",
       "      <th>bogo</th>\n",
       "      <th>discount</th>\n",
       "      <th>...</th>\n",
       "      <th>Upper-income</th>\n",
       "      <th>2013</th>\n",
       "      <th>2014</th>\n",
       "      <th>2015</th>\n",
       "      <th>2016</th>\n",
       "      <th>2017</th>\n",
       "      <th>2018</th>\n",
       "      <th>F</th>\n",
       "      <th>M</th>\n",
       "      <th>O</th>\n",
       "    </tr>\n",
       "  </thead>\n",
       "  <tbody>\n",
       "    <tr>\n",
       "      <th>count</th>\n",
       "      <td>50637.000000</td>\n",
       "      <td>50637.000000</td>\n",
       "      <td>50637.000000</td>\n",
       "      <td>50637.000000</td>\n",
       "      <td>50637.0</td>\n",
       "      <td>50637.000000</td>\n",
       "      <td>50637.000000</td>\n",
       "      <td>50637.000000</td>\n",
       "      <td>50637.000000</td>\n",
       "      <td>50637.000000</td>\n",
       "      <td>...</td>\n",
       "      <td>50637.000000</td>\n",
       "      <td>50637.000000</td>\n",
       "      <td>50637.000000</td>\n",
       "      <td>50637.000000</td>\n",
       "      <td>50637.000000</td>\n",
       "      <td>50637.000000</td>\n",
       "      <td>50637.000000</td>\n",
       "      <td>50637.000000</td>\n",
       "      <td>50637.000000</td>\n",
       "      <td>50637.000000</td>\n",
       "    </tr>\n",
       "    <tr>\n",
       "      <th>mean</th>\n",
       "      <td>0.572625</td>\n",
       "      <td>5.257104</td>\n",
       "      <td>9.638209</td>\n",
       "      <td>7.255426</td>\n",
       "      <td>1.0</td>\n",
       "      <td>0.874124</td>\n",
       "      <td>0.624504</td>\n",
       "      <td>0.874124</td>\n",
       "      <td>0.500049</td>\n",
       "      <td>0.499951</td>\n",
       "      <td>...</td>\n",
       "      <td>0.169204</td>\n",
       "      <td>0.016806</td>\n",
       "      <td>0.040682</td>\n",
       "      <td>0.107273</td>\n",
       "      <td>0.206233</td>\n",
       "      <td>0.380058</td>\n",
       "      <td>0.248948</td>\n",
       "      <td>0.359559</td>\n",
       "      <td>0.500978</td>\n",
       "      <td>0.139463</td>\n",
       "    </tr>\n",
       "    <tr>\n",
       "      <th>std</th>\n",
       "      <td>0.494702</td>\n",
       "      <td>2.991370</td>\n",
       "      <td>4.450893</td>\n",
       "      <td>1.785446</td>\n",
       "      <td>0.0</td>\n",
       "      <td>0.331713</td>\n",
       "      <td>0.484256</td>\n",
       "      <td>0.331713</td>\n",
       "      <td>0.500005</td>\n",
       "      <td>0.500005</td>\n",
       "      <td>...</td>\n",
       "      <td>0.374936</td>\n",
       "      <td>0.128545</td>\n",
       "      <td>0.197554</td>\n",
       "      <td>0.309464</td>\n",
       "      <td>0.404603</td>\n",
       "      <td>0.485406</td>\n",
       "      <td>0.432408</td>\n",
       "      <td>0.479876</td>\n",
       "      <td>0.500004</td>\n",
       "      <td>0.346433</td>\n",
       "    </tr>\n",
       "    <tr>\n",
       "      <th>min</th>\n",
       "      <td>0.000000</td>\n",
       "      <td>2.000000</td>\n",
       "      <td>5.000000</td>\n",
       "      <td>5.000000</td>\n",
       "      <td>1.0</td>\n",
       "      <td>0.000000</td>\n",
       "      <td>0.000000</td>\n",
       "      <td>0.000000</td>\n",
       "      <td>0.000000</td>\n",
       "      <td>0.000000</td>\n",
       "      <td>...</td>\n",
       "      <td>0.000000</td>\n",
       "      <td>0.000000</td>\n",
       "      <td>0.000000</td>\n",
       "      <td>0.000000</td>\n",
       "      <td>0.000000</td>\n",
       "      <td>0.000000</td>\n",
       "      <td>0.000000</td>\n",
       "      <td>0.000000</td>\n",
       "      <td>0.000000</td>\n",
       "      <td>0.000000</td>\n",
       "    </tr>\n",
       "    <tr>\n",
       "      <th>25%</th>\n",
       "      <td>0.000000</td>\n",
       "      <td>3.000000</td>\n",
       "      <td>7.000000</td>\n",
       "      <td>7.000000</td>\n",
       "      <td>1.0</td>\n",
       "      <td>1.000000</td>\n",
       "      <td>0.000000</td>\n",
       "      <td>1.000000</td>\n",
       "      <td>0.000000</td>\n",
       "      <td>0.000000</td>\n",
       "      <td>...</td>\n",
       "      <td>0.000000</td>\n",
       "      <td>0.000000</td>\n",
       "      <td>0.000000</td>\n",
       "      <td>0.000000</td>\n",
       "      <td>0.000000</td>\n",
       "      <td>0.000000</td>\n",
       "      <td>0.000000</td>\n",
       "      <td>0.000000</td>\n",
       "      <td>0.000000</td>\n",
       "      <td>0.000000</td>\n",
       "    </tr>\n",
       "    <tr>\n",
       "      <th>50%</th>\n",
       "      <td>1.000000</td>\n",
       "      <td>5.000000</td>\n",
       "      <td>10.000000</td>\n",
       "      <td>7.000000</td>\n",
       "      <td>1.0</td>\n",
       "      <td>1.000000</td>\n",
       "      <td>1.000000</td>\n",
       "      <td>1.000000</td>\n",
       "      <td>1.000000</td>\n",
       "      <td>0.000000</td>\n",
       "      <td>...</td>\n",
       "      <td>0.000000</td>\n",
       "      <td>0.000000</td>\n",
       "      <td>0.000000</td>\n",
       "      <td>0.000000</td>\n",
       "      <td>0.000000</td>\n",
       "      <td>0.000000</td>\n",
       "      <td>0.000000</td>\n",
       "      <td>0.000000</td>\n",
       "      <td>1.000000</td>\n",
       "      <td>0.000000</td>\n",
       "    </tr>\n",
       "    <tr>\n",
       "      <th>75%</th>\n",
       "      <td>1.000000</td>\n",
       "      <td>10.000000</td>\n",
       "      <td>10.000000</td>\n",
       "      <td>10.000000</td>\n",
       "      <td>1.0</td>\n",
       "      <td>1.000000</td>\n",
       "      <td>1.000000</td>\n",
       "      <td>1.000000</td>\n",
       "      <td>1.000000</td>\n",
       "      <td>1.000000</td>\n",
       "      <td>...</td>\n",
       "      <td>0.000000</td>\n",
       "      <td>0.000000</td>\n",
       "      <td>0.000000</td>\n",
       "      <td>0.000000</td>\n",
       "      <td>0.000000</td>\n",
       "      <td>1.000000</td>\n",
       "      <td>0.000000</td>\n",
       "      <td>1.000000</td>\n",
       "      <td>1.000000</td>\n",
       "      <td>0.000000</td>\n",
       "    </tr>\n",
       "    <tr>\n",
       "      <th>max</th>\n",
       "      <td>1.000000</td>\n",
       "      <td>10.000000</td>\n",
       "      <td>20.000000</td>\n",
       "      <td>10.000000</td>\n",
       "      <td>1.0</td>\n",
       "      <td>1.000000</td>\n",
       "      <td>1.000000</td>\n",
       "      <td>1.000000</td>\n",
       "      <td>1.000000</td>\n",
       "      <td>1.000000</td>\n",
       "      <td>...</td>\n",
       "      <td>1.000000</td>\n",
       "      <td>1.000000</td>\n",
       "      <td>1.000000</td>\n",
       "      <td>1.000000</td>\n",
       "      <td>1.000000</td>\n",
       "      <td>1.000000</td>\n",
       "      <td>1.000000</td>\n",
       "      <td>1.000000</td>\n",
       "      <td>1.000000</td>\n",
       "      <td>1.000000</td>\n",
       "    </tr>\n",
       "  </tbody>\n",
       "</table>\n",
       "<p>8 rows × 28 columns</p>\n",
       "</div>"
      ],
      "text/plain": [
       "         is_success        reward    difficulty      duration    email  \\\n",
       "count  50637.000000  50637.000000  50637.000000  50637.000000  50637.0   \n",
       "mean       0.572625      5.257104      9.638209      7.255426      1.0   \n",
       "std        0.494702      2.991370      4.450893      1.785446      0.0   \n",
       "min        0.000000      2.000000      5.000000      5.000000      1.0   \n",
       "25%        0.000000      3.000000      7.000000      7.000000      1.0   \n",
       "50%        1.000000      5.000000     10.000000      7.000000      1.0   \n",
       "75%        1.000000     10.000000     10.000000     10.000000      1.0   \n",
       "max        1.000000     10.000000     20.000000     10.000000      1.0   \n",
       "\n",
       "             mobile        social           web          bogo      discount  \\\n",
       "count  50637.000000  50637.000000  50637.000000  50637.000000  50637.000000   \n",
       "mean       0.874124      0.624504      0.874124      0.500049      0.499951   \n",
       "std        0.331713      0.484256      0.331713      0.500005      0.500005   \n",
       "min        0.000000      0.000000      0.000000      0.000000      0.000000   \n",
       "25%        1.000000      0.000000      1.000000      0.000000      0.000000   \n",
       "50%        1.000000      1.000000      1.000000      1.000000      0.000000   \n",
       "75%        1.000000      1.000000      1.000000      1.000000      1.000000   \n",
       "max        1.000000      1.000000      1.000000      1.000000      1.000000   \n",
       "\n",
       "       ...  Upper-income          2013          2014          2015  \\\n",
       "count  ...  50637.000000  50637.000000  50637.000000  50637.000000   \n",
       "mean   ...      0.169204      0.016806      0.040682      0.107273   \n",
       "std    ...      0.374936      0.128545      0.197554      0.309464   \n",
       "min    ...      0.000000      0.000000      0.000000      0.000000   \n",
       "25%    ...      0.000000      0.000000      0.000000      0.000000   \n",
       "50%    ...      0.000000      0.000000      0.000000      0.000000   \n",
       "75%    ...      0.000000      0.000000      0.000000      0.000000   \n",
       "max    ...      1.000000      1.000000      1.000000      1.000000   \n",
       "\n",
       "               2016          2017          2018             F             M  \\\n",
       "count  50637.000000  50637.000000  50637.000000  50637.000000  50637.000000   \n",
       "mean       0.206233      0.380058      0.248948      0.359559      0.500978   \n",
       "std        0.404603      0.485406      0.432408      0.479876      0.500004   \n",
       "min        0.000000      0.000000      0.000000      0.000000      0.000000   \n",
       "25%        0.000000      0.000000      0.000000      0.000000      0.000000   \n",
       "50%        0.000000      0.000000      0.000000      0.000000      1.000000   \n",
       "75%        0.000000      1.000000      0.000000      1.000000      1.000000   \n",
       "max        1.000000      1.000000      1.000000      1.000000      1.000000   \n",
       "\n",
       "                  O  \n",
       "count  50637.000000  \n",
       "mean       0.139463  \n",
       "std        0.346433  \n",
       "min        0.000000  \n",
       "25%        0.000000  \n",
       "50%        0.000000  \n",
       "75%        0.000000  \n",
       "max        1.000000  \n",
       "\n",
       "[8 rows x 28 columns]"
      ]
     },
     "execution_count": 93,
     "metadata": {},
     "output_type": "execute_result"
    }
   ],
   "source": [
    "input_df.describe()"
   ]
  },
  {
   "cell_type": "code",
   "execution_count": 94,
   "metadata": {},
   "outputs": [],
   "source": [
    "# Multivariate analysis"
   ]
  },
  {
   "cell_type": "code",
   "execution_count": 95,
   "metadata": {},
   "outputs": [
    {
     "name": "stderr",
     "output_type": "stream",
     "text": [
      "/var/folders/7w/n7r1lgrs3rs7nd9fk1xqh6wh0000gn/T/ipykernel_78307/757817765.py:5: FutureWarning: this method is deprecated in favour of `Styler.format(precision=..)`\n",
      "  (corr\n"
     ]
    },
    {
     "data": {
      "text/html": [
       "<style type=\"text/css\">\n",
       "#T_2f6de_row0_col0, #T_2f6de_row0_col1, #T_2f6de_row0_col2, #T_2f6de_row0_col3, #T_2f6de_row0_col4, #T_2f6de_row0_col5, #T_2f6de_row0_col6, #T_2f6de_row0_col7, #T_2f6de_row0_col8, #T_2f6de_row0_col9, #T_2f6de_row0_col10, #T_2f6de_row0_col11, #T_2f6de_row0_col12, #T_2f6de_row0_col13, #T_2f6de_row0_col14, #T_2f6de_row0_col15, #T_2f6de_row0_col16, #T_2f6de_row0_col17, #T_2f6de_row0_col18, #T_2f6de_row0_col19, #T_2f6de_row0_col20, #T_2f6de_row0_col21, #T_2f6de_row0_col22, #T_2f6de_row0_col23, #T_2f6de_row0_col24, #T_2f6de_row0_col25, #T_2f6de_row0_col26, #T_2f6de_row0_col27, #T_2f6de_row1_col1, #T_2f6de_row1_col2, #T_2f6de_row1_col3, #T_2f6de_row1_col4, #T_2f6de_row1_col5, #T_2f6de_row1_col6, #T_2f6de_row1_col7, #T_2f6de_row1_col8, #T_2f6de_row1_col9, #T_2f6de_row1_col10, #T_2f6de_row1_col11, #T_2f6de_row1_col12, #T_2f6de_row1_col13, #T_2f6de_row1_col14, #T_2f6de_row1_col15, #T_2f6de_row1_col16, #T_2f6de_row1_col17, #T_2f6de_row1_col18, #T_2f6de_row1_col19, #T_2f6de_row1_col20, #T_2f6de_row1_col21, #T_2f6de_row1_col22, #T_2f6de_row1_col23, #T_2f6de_row1_col24, #T_2f6de_row1_col25, #T_2f6de_row1_col26, #T_2f6de_row1_col27, #T_2f6de_row2_col2, #T_2f6de_row2_col3, #T_2f6de_row2_col4, #T_2f6de_row2_col5, #T_2f6de_row2_col6, #T_2f6de_row2_col7, #T_2f6de_row2_col8, #T_2f6de_row2_col9, #T_2f6de_row2_col10, #T_2f6de_row2_col11, #T_2f6de_row2_col12, #T_2f6de_row2_col13, #T_2f6de_row2_col14, #T_2f6de_row2_col15, #T_2f6de_row2_col16, #T_2f6de_row2_col17, #T_2f6de_row2_col18, #T_2f6de_row2_col19, #T_2f6de_row2_col20, #T_2f6de_row2_col21, #T_2f6de_row2_col22, #T_2f6de_row2_col23, #T_2f6de_row2_col24, #T_2f6de_row2_col25, #T_2f6de_row2_col26, #T_2f6de_row2_col27, #T_2f6de_row3_col3, #T_2f6de_row3_col4, #T_2f6de_row3_col5, #T_2f6de_row3_col6, #T_2f6de_row3_col7, #T_2f6de_row3_col8, #T_2f6de_row3_col9, #T_2f6de_row3_col10, #T_2f6de_row3_col11, #T_2f6de_row3_col12, #T_2f6de_row3_col13, #T_2f6de_row3_col14, #T_2f6de_row3_col15, #T_2f6de_row3_col16, #T_2f6de_row3_col17, #T_2f6de_row3_col18, #T_2f6de_row3_col19, #T_2f6de_row3_col20, #T_2f6de_row3_col21, #T_2f6de_row3_col22, #T_2f6de_row3_col23, #T_2f6de_row3_col24, #T_2f6de_row3_col25, #T_2f6de_row3_col26, #T_2f6de_row3_col27, #T_2f6de_row4_col0, #T_2f6de_row4_col1, #T_2f6de_row4_col2, #T_2f6de_row4_col3, #T_2f6de_row4_col4, #T_2f6de_row4_col5, #T_2f6de_row4_col6, #T_2f6de_row4_col7, #T_2f6de_row4_col8, #T_2f6de_row4_col9, #T_2f6de_row4_col10, #T_2f6de_row4_col11, #T_2f6de_row4_col12, #T_2f6de_row4_col13, #T_2f6de_row4_col14, #T_2f6de_row4_col15, #T_2f6de_row4_col16, #T_2f6de_row4_col17, #T_2f6de_row4_col18, #T_2f6de_row4_col19, #T_2f6de_row4_col20, #T_2f6de_row4_col21, #T_2f6de_row4_col22, #T_2f6de_row4_col23, #T_2f6de_row4_col24, #T_2f6de_row4_col25, #T_2f6de_row4_col26, #T_2f6de_row4_col27, #T_2f6de_row5_col4, #T_2f6de_row5_col5, #T_2f6de_row5_col6, #T_2f6de_row5_col7, #T_2f6de_row5_col8, #T_2f6de_row5_col9, #T_2f6de_row5_col10, #T_2f6de_row5_col11, #T_2f6de_row5_col12, #T_2f6de_row5_col13, #T_2f6de_row5_col14, #T_2f6de_row5_col15, #T_2f6de_row5_col16, #T_2f6de_row5_col17, #T_2f6de_row5_col18, #T_2f6de_row5_col19, #T_2f6de_row5_col20, #T_2f6de_row5_col21, #T_2f6de_row5_col22, #T_2f6de_row5_col23, #T_2f6de_row5_col24, #T_2f6de_row5_col25, #T_2f6de_row5_col26, #T_2f6de_row5_col27, #T_2f6de_row6_col4, #T_2f6de_row6_col6, #T_2f6de_row6_col7, #T_2f6de_row6_col8, #T_2f6de_row6_col9, #T_2f6de_row6_col10, #T_2f6de_row6_col11, #T_2f6de_row6_col12, #T_2f6de_row6_col13, #T_2f6de_row6_col14, #T_2f6de_row6_col15, #T_2f6de_row6_col16, #T_2f6de_row6_col17, #T_2f6de_row6_col18, #T_2f6de_row6_col19, #T_2f6de_row6_col20, #T_2f6de_row6_col21, #T_2f6de_row6_col22, #T_2f6de_row6_col23, #T_2f6de_row6_col24, #T_2f6de_row6_col25, #T_2f6de_row6_col26, #T_2f6de_row6_col27, #T_2f6de_row7_col4, #T_2f6de_row7_col7, #T_2f6de_row7_col8, #T_2f6de_row7_col9, #T_2f6de_row7_col10, #T_2f6de_row7_col11, #T_2f6de_row7_col12, #T_2f6de_row7_col13, #T_2f6de_row7_col14, #T_2f6de_row7_col15, #T_2f6de_row7_col16, #T_2f6de_row7_col17, #T_2f6de_row7_col18, #T_2f6de_row7_col19, #T_2f6de_row7_col20, #T_2f6de_row7_col21, #T_2f6de_row7_col22, #T_2f6de_row7_col23, #T_2f6de_row7_col24, #T_2f6de_row7_col25, #T_2f6de_row7_col26, #T_2f6de_row7_col27, #T_2f6de_row8_col4, #T_2f6de_row8_col8, #T_2f6de_row8_col9, #T_2f6de_row8_col10, #T_2f6de_row8_col11, #T_2f6de_row8_col12, #T_2f6de_row8_col13, #T_2f6de_row8_col14, #T_2f6de_row8_col15, #T_2f6de_row8_col16, #T_2f6de_row8_col17, #T_2f6de_row8_col18, #T_2f6de_row8_col19, #T_2f6de_row8_col20, #T_2f6de_row8_col21, #T_2f6de_row8_col22, #T_2f6de_row8_col23, #T_2f6de_row8_col24, #T_2f6de_row8_col25, #T_2f6de_row8_col26, #T_2f6de_row8_col27, #T_2f6de_row9_col4, #T_2f6de_row9_col9, #T_2f6de_row9_col10, #T_2f6de_row9_col11, #T_2f6de_row9_col12, #T_2f6de_row9_col13, #T_2f6de_row9_col14, #T_2f6de_row9_col15, #T_2f6de_row9_col16, #T_2f6de_row9_col17, #T_2f6de_row9_col18, #T_2f6de_row9_col19, #T_2f6de_row9_col20, #T_2f6de_row9_col21, #T_2f6de_row9_col22, #T_2f6de_row9_col23, #T_2f6de_row9_col24, #T_2f6de_row9_col25, #T_2f6de_row9_col26, #T_2f6de_row9_col27, #T_2f6de_row10_col4, #T_2f6de_row10_col10, #T_2f6de_row10_col11, #T_2f6de_row10_col12, #T_2f6de_row10_col13, #T_2f6de_row10_col14, #T_2f6de_row10_col15, #T_2f6de_row10_col16, #T_2f6de_row10_col17, #T_2f6de_row10_col18, #T_2f6de_row10_col19, #T_2f6de_row10_col20, #T_2f6de_row10_col21, #T_2f6de_row10_col22, #T_2f6de_row10_col23, #T_2f6de_row10_col24, #T_2f6de_row10_col25, #T_2f6de_row10_col26, #T_2f6de_row10_col27, #T_2f6de_row11_col4, #T_2f6de_row11_col11, #T_2f6de_row11_col12, #T_2f6de_row11_col13, #T_2f6de_row11_col14, #T_2f6de_row11_col15, #T_2f6de_row11_col16, #T_2f6de_row11_col17, #T_2f6de_row11_col18, #T_2f6de_row11_col19, #T_2f6de_row11_col20, #T_2f6de_row11_col21, #T_2f6de_row11_col22, #T_2f6de_row11_col23, #T_2f6de_row11_col24, #T_2f6de_row11_col25, #T_2f6de_row11_col26, #T_2f6de_row11_col27, #T_2f6de_row12_col4, #T_2f6de_row12_col12, #T_2f6de_row12_col13, #T_2f6de_row12_col14, #T_2f6de_row12_col15, #T_2f6de_row12_col16, #T_2f6de_row12_col17, #T_2f6de_row12_col18, #T_2f6de_row12_col19, #T_2f6de_row12_col20, #T_2f6de_row12_col21, #T_2f6de_row12_col22, #T_2f6de_row12_col23, #T_2f6de_row12_col24, #T_2f6de_row12_col25, #T_2f6de_row12_col26, #T_2f6de_row12_col27, #T_2f6de_row13_col4, #T_2f6de_row13_col13, #T_2f6de_row13_col14, #T_2f6de_row13_col15, #T_2f6de_row13_col16, #T_2f6de_row13_col17, #T_2f6de_row13_col18, #T_2f6de_row13_col19, #T_2f6de_row13_col20, #T_2f6de_row13_col21, #T_2f6de_row13_col22, #T_2f6de_row13_col23, #T_2f6de_row13_col24, #T_2f6de_row13_col25, #T_2f6de_row13_col26, #T_2f6de_row13_col27, #T_2f6de_row14_col4, #T_2f6de_row14_col14, #T_2f6de_row14_col15, #T_2f6de_row14_col16, #T_2f6de_row14_col17, #T_2f6de_row14_col18, #T_2f6de_row14_col19, #T_2f6de_row14_col20, #T_2f6de_row14_col21, #T_2f6de_row14_col22, #T_2f6de_row14_col23, #T_2f6de_row14_col24, #T_2f6de_row14_col25, #T_2f6de_row14_col26, #T_2f6de_row14_col27, #T_2f6de_row15_col4, #T_2f6de_row15_col15, #T_2f6de_row15_col16, #T_2f6de_row15_col17, #T_2f6de_row15_col18, #T_2f6de_row15_col19, #T_2f6de_row15_col20, #T_2f6de_row15_col21, #T_2f6de_row15_col22, #T_2f6de_row15_col23, #T_2f6de_row15_col24, #T_2f6de_row15_col25, #T_2f6de_row15_col26, #T_2f6de_row15_col27, #T_2f6de_row16_col4, #T_2f6de_row16_col16, #T_2f6de_row16_col17, #T_2f6de_row16_col18, #T_2f6de_row16_col19, #T_2f6de_row16_col20, #T_2f6de_row16_col21, #T_2f6de_row16_col22, #T_2f6de_row16_col23, #T_2f6de_row16_col24, #T_2f6de_row16_col25, #T_2f6de_row16_col26, #T_2f6de_row16_col27, #T_2f6de_row17_col4, #T_2f6de_row17_col17, #T_2f6de_row17_col18, #T_2f6de_row17_col19, #T_2f6de_row17_col20, #T_2f6de_row17_col21, #T_2f6de_row17_col22, #T_2f6de_row17_col23, #T_2f6de_row17_col24, #T_2f6de_row17_col25, #T_2f6de_row17_col26, #T_2f6de_row17_col27, #T_2f6de_row18_col4, #T_2f6de_row18_col18, #T_2f6de_row18_col19, #T_2f6de_row18_col20, #T_2f6de_row18_col21, #T_2f6de_row18_col22, #T_2f6de_row18_col23, #T_2f6de_row18_col24, #T_2f6de_row18_col25, #T_2f6de_row18_col26, #T_2f6de_row18_col27, #T_2f6de_row19_col4, #T_2f6de_row19_col19, #T_2f6de_row19_col20, #T_2f6de_row19_col21, #T_2f6de_row19_col22, #T_2f6de_row19_col23, #T_2f6de_row19_col24, #T_2f6de_row19_col25, #T_2f6de_row19_col26, #T_2f6de_row19_col27, #T_2f6de_row20_col4, #T_2f6de_row20_col20, #T_2f6de_row20_col21, #T_2f6de_row20_col22, #T_2f6de_row20_col23, #T_2f6de_row20_col24, #T_2f6de_row20_col25, #T_2f6de_row20_col26, #T_2f6de_row20_col27, #T_2f6de_row21_col4, #T_2f6de_row21_col21, #T_2f6de_row21_col22, #T_2f6de_row21_col23, #T_2f6de_row21_col24, #T_2f6de_row21_col25, #T_2f6de_row21_col26, #T_2f6de_row21_col27, #T_2f6de_row22_col4, #T_2f6de_row22_col22, #T_2f6de_row22_col23, #T_2f6de_row22_col24, #T_2f6de_row22_col25, #T_2f6de_row22_col26, #T_2f6de_row22_col27, #T_2f6de_row23_col4, #T_2f6de_row23_col23, #T_2f6de_row23_col24, #T_2f6de_row23_col25, #T_2f6de_row23_col26, #T_2f6de_row23_col27, #T_2f6de_row24_col4, #T_2f6de_row24_col24, #T_2f6de_row24_col25, #T_2f6de_row24_col26, #T_2f6de_row24_col27, #T_2f6de_row25_col4, #T_2f6de_row25_col25, #T_2f6de_row25_col26, #T_2f6de_row25_col27, #T_2f6de_row26_col4, #T_2f6de_row26_col26, #T_2f6de_row26_col27, #T_2f6de_row27_col4, #T_2f6de_row27_col27 {\n",
       "  background-color: #000000;\n",
       "  color: #f1f1f1;\n",
       "  background-color: #f1f1f1;\n",
       "}\n",
       "#T_2f6de_row1_col0, #T_2f6de_row25_col10 {\n",
       "  background-color: #cad8ef;\n",
       "  color: #000000;\n",
       "}\n",
       "#T_2f6de_row2_col0 {\n",
       "  background-color: #cfdaea;\n",
       "  color: #000000;\n",
       "}\n",
       "#T_2f6de_row2_col1, #T_2f6de_row25_col22 {\n",
       "  background-color: #e5d8d1;\n",
       "  color: #000000;\n",
       "}\n",
       "#T_2f6de_row3_col0, #T_2f6de_row16_col13, #T_2f6de_row20_col12, #T_2f6de_row20_col16, #T_2f6de_row26_col19 {\n",
       "  background-color: #e2dad5;\n",
       "  color: #000000;\n",
       "}\n",
       "#T_2f6de_row3_col1 {\n",
       "  background-color: #94b6ff;\n",
       "  color: #000000;\n",
       "}\n",
       "#T_2f6de_row3_col2 {\n",
       "  background-color: #e97a5f;\n",
       "  color: #f1f1f1;\n",
       "}\n",
       "#T_2f6de_row5_col0, #T_2f6de_row13_col0, #T_2f6de_row17_col11, #T_2f6de_row22_col18 {\n",
       "  background-color: #e7d7ce;\n",
       "  color: #000000;\n",
       "}\n",
       "#T_2f6de_row5_col1, #T_2f6de_row19_col16, #T_2f6de_row20_col17, #T_2f6de_row22_col15, #T_2f6de_row24_col12, #T_2f6de_row25_col13, #T_2f6de_row26_col14 {\n",
       "  background-color: #e1dad6;\n",
       "  color: #000000;\n",
       "}\n",
       "#T_2f6de_row5_col2 {\n",
       "  background-color: #4b64d5;\n",
       "  color: #f1f1f1;\n",
       "}\n",
       "#T_2f6de_row5_col3 {\n",
       "  background-color: #7ea1fa;\n",
       "  color: #f1f1f1;\n",
       "}\n",
       "#T_2f6de_row6_col0, #T_2f6de_row7_col3, #T_2f6de_row22_col10 {\n",
       "  background-color: #e3d9d3;\n",
       "  color: #000000;\n",
       "}\n",
       "#T_2f6de_row6_col1 {\n",
       "  background-color: #f7b99e;\n",
       "  color: #000000;\n",
       "}\n",
       "#T_2f6de_row6_col2 {\n",
       "  background-color: #a6c4fe;\n",
       "  color: #000000;\n",
       "}\n",
       "#T_2f6de_row6_col3 {\n",
       "  background-color: #abc8fd;\n",
       "  color: #000000;\n",
       "}\n",
       "#T_2f6de_row6_col5 {\n",
       "  background-color: #f59c7d;\n",
       "  color: #000000;\n",
       "}\n",
       "#T_2f6de_row7_col0, #T_2f6de_row17_col14, #T_2f6de_row24_col16, #T_2f6de_row26_col24 {\n",
       "  background-color: #e4d9d2;\n",
       "  color: #000000;\n",
       "}\n",
       "#T_2f6de_row7_col1 {\n",
       "  background-color: #7a9df8;\n",
       "  color: #f1f1f1;\n",
       "}\n",
       "#T_2f6de_row7_col2, #T_2f6de_row13_col11, #T_2f6de_row19_col18, #T_2f6de_row20_col19, #T_2f6de_row21_col16, #T_2f6de_row24_col10, #T_2f6de_row25_col19 {\n",
       "  background-color: #d9dce1;\n",
       "  color: #000000;\n",
       "}\n",
       "#T_2f6de_row7_col5, #T_2f6de_row27_col12 {\n",
       "  background-color: #c9d7f0;\n",
       "  color: #000000;\n",
       "}\n",
       "#T_2f6de_row7_col6, #T_2f6de_row24_col22, #T_2f6de_row27_col0 {\n",
       "  background-color: #b1cbfc;\n",
       "  color: #000000;\n",
       "}\n",
       "#T_2f6de_row8_col0, #T_2f6de_row21_col20, #T_2f6de_row22_col16, #T_2f6de_row24_col19, #T_2f6de_row25_col20, #T_2f6de_row26_col22 {\n",
       "  background-color: #d3dbe7;\n",
       "  color: #000000;\n",
       "}\n",
       "#T_2f6de_row8_col1, #T_2f6de_row27_col10 {\n",
       "  background-color: #dd5f4b;\n",
       "  color: #f1f1f1;\n",
       "}\n",
       "#T_2f6de_row8_col2 {\n",
       "  background-color: #90b2fe;\n",
       "  color: #000000;\n",
       "}\n",
       "#T_2f6de_row8_col3 {\n",
       "  background-color: #6a8bef;\n",
       "  color: #f1f1f1;\n",
       "}\n",
       "#T_2f6de_row8_col5, #T_2f6de_row9_col7 {\n",
       "  background-color: #f7b093;\n",
       "  color: #000000;\n",
       "}\n",
       "#T_2f6de_row8_col6 {\n",
       "  background-color: #f5c4ac;\n",
       "  color: #000000;\n",
       "}\n",
       "#T_2f6de_row8_col7, #T_2f6de_row9_col5, #T_2f6de_row13_col10 {\n",
       "  background-color: #a2c1ff;\n",
       "  color: #000000;\n",
       "}\n",
       "#T_2f6de_row9_col0 {\n",
       "  background-color: #e6d7cf;\n",
       "  color: #000000;\n",
       "}\n",
       "#T_2f6de_row9_col1, #T_2f6de_row26_col25 {\n",
       "  background-color: #6180e9;\n",
       "  color: #f1f1f1;\n",
       "}\n",
       "#T_2f6de_row9_col2 {\n",
       "  background-color: #f59d7e;\n",
       "  color: #000000;\n",
       "}\n",
       "#T_2f6de_row9_col3 {\n",
       "  background-color: #e36c55;\n",
       "  color: #f1f1f1;\n",
       "}\n",
       "#T_2f6de_row9_col6 {\n",
       "  background-color: #b7cff9;\n",
       "  color: #000000;\n",
       "}\n",
       "#T_2f6de_row9_col8 {\n",
       "  background-color: #3b4cc0;\n",
       "  color: #f1f1f1;\n",
       "}\n",
       "#T_2f6de_row10_col0, #T_2f6de_row14_col12 {\n",
       "  background-color: #c1d4f4;\n",
       "  color: #000000;\n",
       "}\n",
       "#T_2f6de_row10_col1, #T_2f6de_row10_col5, #T_2f6de_row10_col6, #T_2f6de_row10_col7, #T_2f6de_row10_col8, #T_2f6de_row11_col1, #T_2f6de_row11_col5, #T_2f6de_row11_col6, #T_2f6de_row11_col9, #T_2f6de_row12_col1, #T_2f6de_row12_col2, #T_2f6de_row12_col5, #T_2f6de_row12_col6, #T_2f6de_row12_col7, #T_2f6de_row12_col9, #T_2f6de_row13_col1, #T_2f6de_row13_col2, #T_2f6de_row13_col3, #T_2f6de_row13_col8, #T_2f6de_row14_col2, #T_2f6de_row14_col3, #T_2f6de_row14_col9, #T_2f6de_row15_col5, #T_2f6de_row15_col6, #T_2f6de_row15_col7, #T_2f6de_row15_col8, #T_2f6de_row16_col1, #T_2f6de_row16_col2, #T_2f6de_row16_col3, #T_2f6de_row16_col7, #T_2f6de_row16_col8, #T_2f6de_row17_col2, #T_2f6de_row17_col3, #T_2f6de_row17_col6, #T_2f6de_row17_col7, #T_2f6de_row17_col9, #T_2f6de_row18_col1, #T_2f6de_row18_col5, #T_2f6de_row18_col6, #T_2f6de_row18_col8, #T_2f6de_row18_col10, #T_2f6de_row18_col13, #T_2f6de_row19_col0, #T_2f6de_row19_col1, #T_2f6de_row19_col5, #T_2f6de_row19_col6, #T_2f6de_row19_col8, #T_2f6de_row20_col2, #T_2f6de_row20_col3, #T_2f6de_row20_col6, #T_2f6de_row20_col7, #T_2f6de_row20_col9, #T_2f6de_row21_col1, #T_2f6de_row21_col2, #T_2f6de_row21_col3, #T_2f6de_row21_col8, #T_2f6de_row21_col10, #T_2f6de_row21_col15, #T_2f6de_row21_col18, #T_2f6de_row22_col1, #T_2f6de_row22_col2, #T_2f6de_row22_col3, #T_2f6de_row22_col6, #T_2f6de_row22_col8, #T_2f6de_row23_col1, #T_2f6de_row23_col5, #T_2f6de_row23_col6, #T_2f6de_row23_col7, #T_2f6de_row23_col8, #T_2f6de_row23_col12, #T_2f6de_row23_col13, #T_2f6de_row24_col3, #T_2f6de_row24_col6, #T_2f6de_row24_col7, #T_2f6de_row24_col9, #T_2f6de_row25_col1, #T_2f6de_row25_col2, #T_2f6de_row25_col3, #T_2f6de_row25_col7, #T_2f6de_row25_col9, #T_2f6de_row25_col21, #T_2f6de_row26_col2, #T_2f6de_row26_col3, #T_2f6de_row26_col5, #T_2f6de_row26_col6, #T_2f6de_row26_col9, #T_2f6de_row27_col1, #T_2f6de_row27_col5, #T_2f6de_row27_col6, #T_2f6de_row27_col7, #T_2f6de_row27_col8, #T_2f6de_row27_col21 {\n",
       "  background-color: #dddcdc;\n",
       "  color: #000000;\n",
       "}\n",
       "#T_2f6de_row10_col2, #T_2f6de_row10_col3, #T_2f6de_row10_col9, #T_2f6de_row11_col2, #T_2f6de_row11_col3, #T_2f6de_row11_col7, #T_2f6de_row11_col8, #T_2f6de_row12_col3, #T_2f6de_row12_col8, #T_2f6de_row13_col5, #T_2f6de_row13_col6, #T_2f6de_row13_col7, #T_2f6de_row13_col9, #T_2f6de_row14_col1, #T_2f6de_row14_col5, #T_2f6de_row14_col6, #T_2f6de_row14_col7, #T_2f6de_row14_col8, #T_2f6de_row15_col1, #T_2f6de_row15_col2, #T_2f6de_row15_col3, #T_2f6de_row15_col9, #T_2f6de_row16_col5, #T_2f6de_row16_col6, #T_2f6de_row16_col9, #T_2f6de_row17_col1, #T_2f6de_row17_col5, #T_2f6de_row17_col8, #T_2f6de_row18_col2, #T_2f6de_row18_col3, #T_2f6de_row18_col7, #T_2f6de_row18_col9, #T_2f6de_row19_col2, #T_2f6de_row19_col3, #T_2f6de_row19_col7, #T_2f6de_row19_col9, #T_2f6de_row19_col14, #T_2f6de_row20_col0, #T_2f6de_row20_col1, #T_2f6de_row20_col5, #T_2f6de_row20_col8, #T_2f6de_row21_col5, #T_2f6de_row21_col7, #T_2f6de_row21_col9, #T_2f6de_row21_col14, #T_2f6de_row22_col5, #T_2f6de_row22_col7, #T_2f6de_row22_col9, #T_2f6de_row22_col17, #T_2f6de_row23_col2, #T_2f6de_row23_col9, #T_2f6de_row23_col16, #T_2f6de_row24_col1, #T_2f6de_row24_col2, #T_2f6de_row24_col5, #T_2f6de_row24_col8, #T_2f6de_row24_col13, #T_2f6de_row24_col14, #T_2f6de_row24_col17, #T_2f6de_row25_col5, #T_2f6de_row25_col6, #T_2f6de_row25_col8, #T_2f6de_row26_col1, #T_2f6de_row26_col7, #T_2f6de_row26_col8, #T_2f6de_row27_col2, #T_2f6de_row27_col3, #T_2f6de_row27_col9, #T_2f6de_row27_col11, #T_2f6de_row27_col24 {\n",
       "  background-color: #dcdddd;\n",
       "  color: #000000;\n",
       "}\n",
       "#T_2f6de_row11_col0, #T_2f6de_row25_col11, #T_2f6de_row25_col18 {\n",
       "  background-color: #f2c9b4;\n",
       "  color: #000000;\n",
       "}\n",
       "#T_2f6de_row11_col10 {\n",
       "  background-color: #f1cdba;\n",
       "  color: #000000;\n",
       "}\n",
       "#T_2f6de_row12_col0, #T_2f6de_row19_col11, #T_2f6de_row20_col15, #T_2f6de_row20_col18 {\n",
       "  background-color: #d6dce4;\n",
       "  color: #000000;\n",
       "}\n",
       "#T_2f6de_row12_col10 {\n",
       "  background-color: #88abfd;\n",
       "  color: #000000;\n",
       "}\n",
       "#T_2f6de_row12_col11 {\n",
       "  background-color: #b2ccfb;\n",
       "  color: #000000;\n",
       "}\n",
       "#T_2f6de_row13_col12, #T_2f6de_row17_col10, #T_2f6de_row26_col15 {\n",
       "  background-color: #b6cefa;\n",
       "  color: #000000;\n",
       "}\n",
       "#T_2f6de_row14_col0, #T_2f6de_row21_col0, #T_2f6de_row25_col14 {\n",
       "  background-color: #e8d6cc;\n",
       "  color: #000000;\n",
       "}\n",
       "#T_2f6de_row14_col10, #T_2f6de_row21_col19 {\n",
       "  background-color: #d7dce3;\n",
       "  color: #000000;\n",
       "}\n",
       "#T_2f6de_row14_col11, #T_2f6de_row17_col13 {\n",
       "  background-color: #ebd3c6;\n",
       "  color: #000000;\n",
       "}\n",
       "#T_2f6de_row14_col13, #T_2f6de_row15_col12 {\n",
       "  background-color: #aec9fc;\n",
       "  color: #000000;\n",
       "}\n",
       "#T_2f6de_row15_col0 {\n",
       "  background-color: #cdd9ec;\n",
       "  color: #000000;\n",
       "}\n",
       "#T_2f6de_row15_col10 {\n",
       "  background-color: #d85646;\n",
       "  color: #f1f1f1;\n",
       "}\n",
       "#T_2f6de_row15_col11 {\n",
       "  background-color: #edd2c3;\n",
       "  color: #000000;\n",
       "}\n",
       "#T_2f6de_row15_col13 {\n",
       "  background-color: #8caffe;\n",
       "  color: #000000;\n",
       "}\n",
       "#T_2f6de_row15_col14 {\n",
       "  background-color: #a3c2fe;\n",
       "  color: #000000;\n",
       "}\n",
       "#T_2f6de_row16_col0, #T_2f6de_row22_col20, #T_2f6de_row23_col19 {\n",
       "  background-color: #cedaeb;\n",
       "  color: #000000;\n",
       "}\n",
       "#T_2f6de_row16_col10, #T_2f6de_row27_col17 {\n",
       "  background-color: #adc9fd;\n",
       "  color: #000000;\n",
       "}\n",
       "#T_2f6de_row16_col11 {\n",
       "  background-color: #6687ed;\n",
       "  color: #f1f1f1;\n",
       "}\n",
       "#T_2f6de_row16_col12 {\n",
       "  background-color: #f4c5ad;\n",
       "  color: #000000;\n",
       "}\n",
       "#T_2f6de_row16_col14, #T_2f6de_row19_col10, #T_2f6de_row26_col23, #T_2f6de_row27_col19 {\n",
       "  background-color: #d8dce2;\n",
       "  color: #000000;\n",
       "}\n",
       "#T_2f6de_row16_col15, #T_2f6de_row24_col21 {\n",
       "  background-color: #c0d4f5;\n",
       "  color: #000000;\n",
       "}\n",
       "#T_2f6de_row17_col0 {\n",
       "  background-color: #efcfbf;\n",
       "  color: #000000;\n",
       "}\n",
       "#T_2f6de_row17_col12, #T_2f6de_row18_col15, #T_2f6de_row19_col12, #T_2f6de_row21_col11, #T_2f6de_row21_col17, #T_2f6de_row27_col23 {\n",
       "  background-color: #dfdbd9;\n",
       "  color: #000000;\n",
       "}\n",
       "#T_2f6de_row17_col15, #T_2f6de_row27_col14, #T_2f6de_row27_col18 {\n",
       "  background-color: #c5d6f2;\n",
       "  color: #000000;\n",
       "}\n",
       "#T_2f6de_row17_col16 {\n",
       "  background-color: #86a9fc;\n",
       "  color: #f1f1f1;\n",
       "}\n",
       "#T_2f6de_row18_col0 {\n",
       "  background-color: #f2cbb7;\n",
       "  color: #000000;\n",
       "}\n",
       "#T_2f6de_row18_col11 {\n",
       "  background-color: #de614d;\n",
       "  color: #f1f1f1;\n",
       "}\n",
       "#T_2f6de_row18_col12 {\n",
       "  background-color: #c3d5f4;\n",
       "  color: #000000;\n",
       "}\n",
       "#T_2f6de_row18_col14, #T_2f6de_row26_col13 {\n",
       "  background-color: #ecd3c5;\n",
       "  color: #000000;\n",
       "}\n",
       "#T_2f6de_row18_col16 {\n",
       "  background-color: #b3cdfb;\n",
       "  color: #000000;\n",
       "}\n",
       "#T_2f6de_row18_col17 {\n",
       "  background-color: #9fbfff;\n",
       "  color: #000000;\n",
       "}\n",
       "#T_2f6de_row19_col13, #T_2f6de_row19_col17, #T_2f6de_row20_col13, #T_2f6de_row20_col14, #T_2f6de_row21_col13, #T_2f6de_row23_col10, #T_2f6de_row23_col11, #T_2f6de_row23_col15, #T_2f6de_row23_col18, #T_2f6de_row27_col22 {\n",
       "  background-color: #dedcdb;\n",
       "  color: #000000;\n",
       "}\n",
       "#T_2f6de_row19_col15, #T_2f6de_row23_col17, #T_2f6de_row24_col15, #T_2f6de_row26_col0 {\n",
       "  background-color: #dadce0;\n",
       "  color: #000000;\n",
       "}\n",
       "#T_2f6de_row20_col10, #T_2f6de_row20_col11, #T_2f6de_row22_col19, #T_2f6de_row25_col15 {\n",
       "  background-color: #d4dbe6;\n",
       "  color: #000000;\n",
       "}\n",
       "#T_2f6de_row21_col6, #T_2f6de_row21_col12, #T_2f6de_row22_col13, #T_2f6de_row23_col0, #T_2f6de_row23_col3, #T_2f6de_row23_col14, #T_2f6de_row26_col21 {\n",
       "  background-color: #dbdcde;\n",
       "  color: #000000;\n",
       "}\n",
       "#T_2f6de_row22_col0 {\n",
       "  background-color: #f1ccb8;\n",
       "  color: #000000;\n",
       "}\n",
       "#T_2f6de_row22_col11, #T_2f6de_row26_col17 {\n",
       "  background-color: #ead4c8;\n",
       "  color: #000000;\n",
       "}\n",
       "#T_2f6de_row22_col12, #T_2f6de_row24_col18, #T_2f6de_row25_col12, #T_2f6de_row25_col24, #T_2f6de_row27_col20 {\n",
       "  background-color: #d5dbe5;\n",
       "  color: #000000;\n",
       "}\n",
       "#T_2f6de_row22_col14, #T_2f6de_row25_col23 {\n",
       "  background-color: #e0dbd8;\n",
       "  color: #000000;\n",
       "}\n",
       "#T_2f6de_row22_col21 {\n",
       "  background-color: #c4d5f3;\n",
       "  color: #000000;\n",
       "}\n",
       "#T_2f6de_row23_col20 {\n",
       "  background-color: #c6d6f1;\n",
       "  color: #000000;\n",
       "}\n",
       "#T_2f6de_row23_col21 {\n",
       "  background-color: #b5cdfa;\n",
       "  color: #000000;\n",
       "}\n",
       "#T_2f6de_row23_col22, #T_2f6de_row27_col26 {\n",
       "  background-color: #9ebeff;\n",
       "  color: #000000;\n",
       "}\n",
       "#T_2f6de_row24_col0 {\n",
       "  background-color: #bbd1f8;\n",
       "  color: #000000;\n",
       "}\n",
       "#T_2f6de_row24_col11, #T_2f6de_row25_col16 {\n",
       "  background-color: #d2dbe8;\n",
       "  color: #000000;\n",
       "}\n",
       "#T_2f6de_row24_col20 {\n",
       "  background-color: #ccd9ed;\n",
       "  color: #000000;\n",
       "}\n",
       "#T_2f6de_row24_col23 {\n",
       "  background-color: #96b7ff;\n",
       "  color: #000000;\n",
       "}\n",
       "#T_2f6de_row25_col0 {\n",
       "  background-color: #f4c6af;\n",
       "  color: #000000;\n",
       "}\n",
       "#T_2f6de_row25_col17, #T_2f6de_row26_col20 {\n",
       "  background-color: #ead5c9;\n",
       "  color: #000000;\n",
       "}\n",
       "#T_2f6de_row26_col10 {\n",
       "  background-color: #a1c0ff;\n",
       "  color: #000000;\n",
       "}\n",
       "#T_2f6de_row26_col11 {\n",
       "  background-color: #bfd3f6;\n",
       "  color: #000000;\n",
       "}\n",
       "#T_2f6de_row26_col12 {\n",
       "  background-color: #eed0c0;\n",
       "  color: #000000;\n",
       "}\n",
       "#T_2f6de_row26_col16 {\n",
       "  background-color: #f3c7b1;\n",
       "  color: #000000;\n",
       "}\n",
       "#T_2f6de_row26_col18 {\n",
       "  background-color: #d1dae9;\n",
       "  color: #000000;\n",
       "}\n",
       "#T_2f6de_row27_col13 {\n",
       "  background-color: #bad0f8;\n",
       "  color: #000000;\n",
       "}\n",
       "#T_2f6de_row27_col15 {\n",
       "  background-color: #f5a081;\n",
       "  color: #000000;\n",
       "}\n",
       "#T_2f6de_row27_col16 {\n",
       "  background-color: #bcd2f7;\n",
       "  color: #000000;\n",
       "}\n",
       "#T_2f6de_row27_col25 {\n",
       "  background-color: #afcafc;\n",
       "  color: #000000;\n",
       "}\n",
       "</style>\n",
       "<table id=\"T_2f6de_\">\n",
       "  <thead>\n",
       "    <tr>\n",
       "      <th class=\"blank level0\" >&nbsp;</th>\n",
       "      <th class=\"col_heading level0 col0\" >is_success</th>\n",
       "      <th class=\"col_heading level0 col1\" >reward</th>\n",
       "      <th class=\"col_heading level0 col2\" >difficulty</th>\n",
       "      <th class=\"col_heading level0 col3\" >duration</th>\n",
       "      <th class=\"col_heading level0 col4\" >email</th>\n",
       "      <th class=\"col_heading level0 col5\" >mobile</th>\n",
       "      <th class=\"col_heading level0 col6\" >social</th>\n",
       "      <th class=\"col_heading level0 col7\" >web</th>\n",
       "      <th class=\"col_heading level0 col8\" >bogo</th>\n",
       "      <th class=\"col_heading level0 col9\" >discount</th>\n",
       "      <th class=\"col_heading level0 col10\" >age</th>\n",
       "      <th class=\"col_heading level0 col11\" >income</th>\n",
       "      <th class=\"col_heading level0 col12\" >Youth</th>\n",
       "      <th class=\"col_heading level0 col13\" >Adults</th>\n",
       "      <th class=\"col_heading level0 col14\" >Seniors</th>\n",
       "      <th class=\"col_heading level0 col15\" >Older</th>\n",
       "      <th class=\"col_heading level0 col16\" >Lower-income</th>\n",
       "      <th class=\"col_heading level0 col17\" >Middle-income</th>\n",
       "      <th class=\"col_heading level0 col18\" >Upper-income</th>\n",
       "      <th class=\"col_heading level0 col19\" >2013</th>\n",
       "      <th class=\"col_heading level0 col20\" >2014</th>\n",
       "      <th class=\"col_heading level0 col21\" >2015</th>\n",
       "      <th class=\"col_heading level0 col22\" >2016</th>\n",
       "      <th class=\"col_heading level0 col23\" >2017</th>\n",
       "      <th class=\"col_heading level0 col24\" >2018</th>\n",
       "      <th class=\"col_heading level0 col25\" >F</th>\n",
       "      <th class=\"col_heading level0 col26\" >M</th>\n",
       "      <th class=\"col_heading level0 col27\" >O</th>\n",
       "    </tr>\n",
       "  </thead>\n",
       "  <tbody>\n",
       "    <tr>\n",
       "      <th id=\"T_2f6de_level0_row0\" class=\"row_heading level0 row0\" >is_success</th>\n",
       "      <td id=\"T_2f6de_row0_col0\" class=\"data row0 col0\" >nan</td>\n",
       "      <td id=\"T_2f6de_row0_col1\" class=\"data row0 col1\" >nan</td>\n",
       "      <td id=\"T_2f6de_row0_col2\" class=\"data row0 col2\" >nan</td>\n",
       "      <td id=\"T_2f6de_row0_col3\" class=\"data row0 col3\" >nan</td>\n",
       "      <td id=\"T_2f6de_row0_col4\" class=\"data row0 col4\" >nan</td>\n",
       "      <td id=\"T_2f6de_row0_col5\" class=\"data row0 col5\" >nan</td>\n",
       "      <td id=\"T_2f6de_row0_col6\" class=\"data row0 col6\" >nan</td>\n",
       "      <td id=\"T_2f6de_row0_col7\" class=\"data row0 col7\" >nan</td>\n",
       "      <td id=\"T_2f6de_row0_col8\" class=\"data row0 col8\" >nan</td>\n",
       "      <td id=\"T_2f6de_row0_col9\" class=\"data row0 col9\" >nan</td>\n",
       "      <td id=\"T_2f6de_row0_col10\" class=\"data row0 col10\" >nan</td>\n",
       "      <td id=\"T_2f6de_row0_col11\" class=\"data row0 col11\" >nan</td>\n",
       "      <td id=\"T_2f6de_row0_col12\" class=\"data row0 col12\" >nan</td>\n",
       "      <td id=\"T_2f6de_row0_col13\" class=\"data row0 col13\" >nan</td>\n",
       "      <td id=\"T_2f6de_row0_col14\" class=\"data row0 col14\" >nan</td>\n",
       "      <td id=\"T_2f6de_row0_col15\" class=\"data row0 col15\" >nan</td>\n",
       "      <td id=\"T_2f6de_row0_col16\" class=\"data row0 col16\" >nan</td>\n",
       "      <td id=\"T_2f6de_row0_col17\" class=\"data row0 col17\" >nan</td>\n",
       "      <td id=\"T_2f6de_row0_col18\" class=\"data row0 col18\" >nan</td>\n",
       "      <td id=\"T_2f6de_row0_col19\" class=\"data row0 col19\" >nan</td>\n",
       "      <td id=\"T_2f6de_row0_col20\" class=\"data row0 col20\" >nan</td>\n",
       "      <td id=\"T_2f6de_row0_col21\" class=\"data row0 col21\" >nan</td>\n",
       "      <td id=\"T_2f6de_row0_col22\" class=\"data row0 col22\" >nan</td>\n",
       "      <td id=\"T_2f6de_row0_col23\" class=\"data row0 col23\" >nan</td>\n",
       "      <td id=\"T_2f6de_row0_col24\" class=\"data row0 col24\" >nan</td>\n",
       "      <td id=\"T_2f6de_row0_col25\" class=\"data row0 col25\" >nan</td>\n",
       "      <td id=\"T_2f6de_row0_col26\" class=\"data row0 col26\" >nan</td>\n",
       "      <td id=\"T_2f6de_row0_col27\" class=\"data row0 col27\" >nan</td>\n",
       "    </tr>\n",
       "    <tr>\n",
       "      <th id=\"T_2f6de_level0_row1\" class=\"row_heading level0 row1\" >reward</th>\n",
       "      <td id=\"T_2f6de_row1_col0\" class=\"data row1 col0\" >-0.13</td>\n",
       "      <td id=\"T_2f6de_row1_col1\" class=\"data row1 col1\" >nan</td>\n",
       "      <td id=\"T_2f6de_row1_col2\" class=\"data row1 col2\" >nan</td>\n",
       "      <td id=\"T_2f6de_row1_col3\" class=\"data row1 col3\" >nan</td>\n",
       "      <td id=\"T_2f6de_row1_col4\" class=\"data row1 col4\" >nan</td>\n",
       "      <td id=\"T_2f6de_row1_col5\" class=\"data row1 col5\" >nan</td>\n",
       "      <td id=\"T_2f6de_row1_col6\" class=\"data row1 col6\" >nan</td>\n",
       "      <td id=\"T_2f6de_row1_col7\" class=\"data row1 col7\" >nan</td>\n",
       "      <td id=\"T_2f6de_row1_col8\" class=\"data row1 col8\" >nan</td>\n",
       "      <td id=\"T_2f6de_row1_col9\" class=\"data row1 col9\" >nan</td>\n",
       "      <td id=\"T_2f6de_row1_col10\" class=\"data row1 col10\" >nan</td>\n",
       "      <td id=\"T_2f6de_row1_col11\" class=\"data row1 col11\" >nan</td>\n",
       "      <td id=\"T_2f6de_row1_col12\" class=\"data row1 col12\" >nan</td>\n",
       "      <td id=\"T_2f6de_row1_col13\" class=\"data row1 col13\" >nan</td>\n",
       "      <td id=\"T_2f6de_row1_col14\" class=\"data row1 col14\" >nan</td>\n",
       "      <td id=\"T_2f6de_row1_col15\" class=\"data row1 col15\" >nan</td>\n",
       "      <td id=\"T_2f6de_row1_col16\" class=\"data row1 col16\" >nan</td>\n",
       "      <td id=\"T_2f6de_row1_col17\" class=\"data row1 col17\" >nan</td>\n",
       "      <td id=\"T_2f6de_row1_col18\" class=\"data row1 col18\" >nan</td>\n",
       "      <td id=\"T_2f6de_row1_col19\" class=\"data row1 col19\" >nan</td>\n",
       "      <td id=\"T_2f6de_row1_col20\" class=\"data row1 col20\" >nan</td>\n",
       "      <td id=\"T_2f6de_row1_col21\" class=\"data row1 col21\" >nan</td>\n",
       "      <td id=\"T_2f6de_row1_col22\" class=\"data row1 col22\" >nan</td>\n",
       "      <td id=\"T_2f6de_row1_col23\" class=\"data row1 col23\" >nan</td>\n",
       "      <td id=\"T_2f6de_row1_col24\" class=\"data row1 col24\" >nan</td>\n",
       "      <td id=\"T_2f6de_row1_col25\" class=\"data row1 col25\" >nan</td>\n",
       "      <td id=\"T_2f6de_row1_col26\" class=\"data row1 col26\" >nan</td>\n",
       "      <td id=\"T_2f6de_row1_col27\" class=\"data row1 col27\" >nan</td>\n",
       "    </tr>\n",
       "    <tr>\n",
       "      <th id=\"T_2f6de_level0_row2\" class=\"row_heading level0 row2\" >difficulty</th>\n",
       "      <td id=\"T_2f6de_row2_col0\" class=\"data row2 col0\" >-0.10</td>\n",
       "      <td id=\"T_2f6de_row2_col1\" class=\"data row2 col1\" >0.06</td>\n",
       "      <td id=\"T_2f6de_row2_col2\" class=\"data row2 col2\" >nan</td>\n",
       "      <td id=\"T_2f6de_row2_col3\" class=\"data row2 col3\" >nan</td>\n",
       "      <td id=\"T_2f6de_row2_col4\" class=\"data row2 col4\" >nan</td>\n",
       "      <td id=\"T_2f6de_row2_col5\" class=\"data row2 col5\" >nan</td>\n",
       "      <td id=\"T_2f6de_row2_col6\" class=\"data row2 col6\" >nan</td>\n",
       "      <td id=\"T_2f6de_row2_col7\" class=\"data row2 col7\" >nan</td>\n",
       "      <td id=\"T_2f6de_row2_col8\" class=\"data row2 col8\" >nan</td>\n",
       "      <td id=\"T_2f6de_row2_col9\" class=\"data row2 col9\" >nan</td>\n",
       "      <td id=\"T_2f6de_row2_col10\" class=\"data row2 col10\" >nan</td>\n",
       "      <td id=\"T_2f6de_row2_col11\" class=\"data row2 col11\" >nan</td>\n",
       "      <td id=\"T_2f6de_row2_col12\" class=\"data row2 col12\" >nan</td>\n",
       "      <td id=\"T_2f6de_row2_col13\" class=\"data row2 col13\" >nan</td>\n",
       "      <td id=\"T_2f6de_row2_col14\" class=\"data row2 col14\" >nan</td>\n",
       "      <td id=\"T_2f6de_row2_col15\" class=\"data row2 col15\" >nan</td>\n",
       "      <td id=\"T_2f6de_row2_col16\" class=\"data row2 col16\" >nan</td>\n",
       "      <td id=\"T_2f6de_row2_col17\" class=\"data row2 col17\" >nan</td>\n",
       "      <td id=\"T_2f6de_row2_col18\" class=\"data row2 col18\" >nan</td>\n",
       "      <td id=\"T_2f6de_row2_col19\" class=\"data row2 col19\" >nan</td>\n",
       "      <td id=\"T_2f6de_row2_col20\" class=\"data row2 col20\" >nan</td>\n",
       "      <td id=\"T_2f6de_row2_col21\" class=\"data row2 col21\" >nan</td>\n",
       "      <td id=\"T_2f6de_row2_col22\" class=\"data row2 col22\" >nan</td>\n",
       "      <td id=\"T_2f6de_row2_col23\" class=\"data row2 col23\" >nan</td>\n",
       "      <td id=\"T_2f6de_row2_col24\" class=\"data row2 col24\" >nan</td>\n",
       "      <td id=\"T_2f6de_row2_col25\" class=\"data row2 col25\" >nan</td>\n",
       "      <td id=\"T_2f6de_row2_col26\" class=\"data row2 col26\" >nan</td>\n",
       "      <td id=\"T_2f6de_row2_col27\" class=\"data row2 col27\" >nan</td>\n",
       "    </tr>\n",
       "    <tr>\n",
       "      <th id=\"T_2f6de_level0_row3\" class=\"row_heading level0 row3\" >duration</th>\n",
       "      <td id=\"T_2f6de_row3_col0\" class=\"data row3 col0\" >0.04</td>\n",
       "      <td id=\"T_2f6de_row3_col1\" class=\"data row3 col1\" >-0.46</td>\n",
       "      <td id=\"T_2f6de_row3_col2\" class=\"data row3 col2\" >0.64</td>\n",
       "      <td id=\"T_2f6de_row3_col3\" class=\"data row3 col3\" >nan</td>\n",
       "      <td id=\"T_2f6de_row3_col4\" class=\"data row3 col4\" >nan</td>\n",
       "      <td id=\"T_2f6de_row3_col5\" class=\"data row3 col5\" >nan</td>\n",
       "      <td id=\"T_2f6de_row3_col6\" class=\"data row3 col6\" >nan</td>\n",
       "      <td id=\"T_2f6de_row3_col7\" class=\"data row3 col7\" >nan</td>\n",
       "      <td id=\"T_2f6de_row3_col8\" class=\"data row3 col8\" >nan</td>\n",
       "      <td id=\"T_2f6de_row3_col9\" class=\"data row3 col9\" >nan</td>\n",
       "      <td id=\"T_2f6de_row3_col10\" class=\"data row3 col10\" >nan</td>\n",
       "      <td id=\"T_2f6de_row3_col11\" class=\"data row3 col11\" >nan</td>\n",
       "      <td id=\"T_2f6de_row3_col12\" class=\"data row3 col12\" >nan</td>\n",
       "      <td id=\"T_2f6de_row3_col13\" class=\"data row3 col13\" >nan</td>\n",
       "      <td id=\"T_2f6de_row3_col14\" class=\"data row3 col14\" >nan</td>\n",
       "      <td id=\"T_2f6de_row3_col15\" class=\"data row3 col15\" >nan</td>\n",
       "      <td id=\"T_2f6de_row3_col16\" class=\"data row3 col16\" >nan</td>\n",
       "      <td id=\"T_2f6de_row3_col17\" class=\"data row3 col17\" >nan</td>\n",
       "      <td id=\"T_2f6de_row3_col18\" class=\"data row3 col18\" >nan</td>\n",
       "      <td id=\"T_2f6de_row3_col19\" class=\"data row3 col19\" >nan</td>\n",
       "      <td id=\"T_2f6de_row3_col20\" class=\"data row3 col20\" >nan</td>\n",
       "      <td id=\"T_2f6de_row3_col21\" class=\"data row3 col21\" >nan</td>\n",
       "      <td id=\"T_2f6de_row3_col22\" class=\"data row3 col22\" >nan</td>\n",
       "      <td id=\"T_2f6de_row3_col23\" class=\"data row3 col23\" >nan</td>\n",
       "      <td id=\"T_2f6de_row3_col24\" class=\"data row3 col24\" >nan</td>\n",
       "      <td id=\"T_2f6de_row3_col25\" class=\"data row3 col25\" >nan</td>\n",
       "      <td id=\"T_2f6de_row3_col26\" class=\"data row3 col26\" >nan</td>\n",
       "      <td id=\"T_2f6de_row3_col27\" class=\"data row3 col27\" >nan</td>\n",
       "    </tr>\n",
       "    <tr>\n",
       "      <th id=\"T_2f6de_level0_row4\" class=\"row_heading level0 row4\" >email</th>\n",
       "      <td id=\"T_2f6de_row4_col0\" class=\"data row4 col0\" >nan</td>\n",
       "      <td id=\"T_2f6de_row4_col1\" class=\"data row4 col1\" >nan</td>\n",
       "      <td id=\"T_2f6de_row4_col2\" class=\"data row4 col2\" >nan</td>\n",
       "      <td id=\"T_2f6de_row4_col3\" class=\"data row4 col3\" >nan</td>\n",
       "      <td id=\"T_2f6de_row4_col4\" class=\"data row4 col4\" >nan</td>\n",
       "      <td id=\"T_2f6de_row4_col5\" class=\"data row4 col5\" >nan</td>\n",
       "      <td id=\"T_2f6de_row4_col6\" class=\"data row4 col6\" >nan</td>\n",
       "      <td id=\"T_2f6de_row4_col7\" class=\"data row4 col7\" >nan</td>\n",
       "      <td id=\"T_2f6de_row4_col8\" class=\"data row4 col8\" >nan</td>\n",
       "      <td id=\"T_2f6de_row4_col9\" class=\"data row4 col9\" >nan</td>\n",
       "      <td id=\"T_2f6de_row4_col10\" class=\"data row4 col10\" >nan</td>\n",
       "      <td id=\"T_2f6de_row4_col11\" class=\"data row4 col11\" >nan</td>\n",
       "      <td id=\"T_2f6de_row4_col12\" class=\"data row4 col12\" >nan</td>\n",
       "      <td id=\"T_2f6de_row4_col13\" class=\"data row4 col13\" >nan</td>\n",
       "      <td id=\"T_2f6de_row4_col14\" class=\"data row4 col14\" >nan</td>\n",
       "      <td id=\"T_2f6de_row4_col15\" class=\"data row4 col15\" >nan</td>\n",
       "      <td id=\"T_2f6de_row4_col16\" class=\"data row4 col16\" >nan</td>\n",
       "      <td id=\"T_2f6de_row4_col17\" class=\"data row4 col17\" >nan</td>\n",
       "      <td id=\"T_2f6de_row4_col18\" class=\"data row4 col18\" >nan</td>\n",
       "      <td id=\"T_2f6de_row4_col19\" class=\"data row4 col19\" >nan</td>\n",
       "      <td id=\"T_2f6de_row4_col20\" class=\"data row4 col20\" >nan</td>\n",
       "      <td id=\"T_2f6de_row4_col21\" class=\"data row4 col21\" >nan</td>\n",
       "      <td id=\"T_2f6de_row4_col22\" class=\"data row4 col22\" >nan</td>\n",
       "      <td id=\"T_2f6de_row4_col23\" class=\"data row4 col23\" >nan</td>\n",
       "      <td id=\"T_2f6de_row4_col24\" class=\"data row4 col24\" >nan</td>\n",
       "      <td id=\"T_2f6de_row4_col25\" class=\"data row4 col25\" >nan</td>\n",
       "      <td id=\"T_2f6de_row4_col26\" class=\"data row4 col26\" >nan</td>\n",
       "      <td id=\"T_2f6de_row4_col27\" class=\"data row4 col27\" >nan</td>\n",
       "    </tr>\n",
       "    <tr>\n",
       "      <th id=\"T_2f6de_level0_row5\" class=\"row_heading level0 row5\" >mobile</th>\n",
       "      <td id=\"T_2f6de_row5_col0\" class=\"data row5 col0\" >0.08</td>\n",
       "      <td id=\"T_2f6de_row5_col1\" class=\"data row5 col1\" >0.03</td>\n",
       "      <td id=\"T_2f6de_row5_col2\" class=\"data row5 col2\" >-0.88</td>\n",
       "      <td id=\"T_2f6de_row5_col3\" class=\"data row5 col3\" >-0.58</td>\n",
       "      <td id=\"T_2f6de_row5_col4\" class=\"data row5 col4\" >nan</td>\n",
       "      <td id=\"T_2f6de_row5_col5\" class=\"data row5 col5\" >nan</td>\n",
       "      <td id=\"T_2f6de_row5_col6\" class=\"data row5 col6\" >nan</td>\n",
       "      <td id=\"T_2f6de_row5_col7\" class=\"data row5 col7\" >nan</td>\n",
       "      <td id=\"T_2f6de_row5_col8\" class=\"data row5 col8\" >nan</td>\n",
       "      <td id=\"T_2f6de_row5_col9\" class=\"data row5 col9\" >nan</td>\n",
       "      <td id=\"T_2f6de_row5_col10\" class=\"data row5 col10\" >nan</td>\n",
       "      <td id=\"T_2f6de_row5_col11\" class=\"data row5 col11\" >nan</td>\n",
       "      <td id=\"T_2f6de_row5_col12\" class=\"data row5 col12\" >nan</td>\n",
       "      <td id=\"T_2f6de_row5_col13\" class=\"data row5 col13\" >nan</td>\n",
       "      <td id=\"T_2f6de_row5_col14\" class=\"data row5 col14\" >nan</td>\n",
       "      <td id=\"T_2f6de_row5_col15\" class=\"data row5 col15\" >nan</td>\n",
       "      <td id=\"T_2f6de_row5_col16\" class=\"data row5 col16\" >nan</td>\n",
       "      <td id=\"T_2f6de_row5_col17\" class=\"data row5 col17\" >nan</td>\n",
       "      <td id=\"T_2f6de_row5_col18\" class=\"data row5 col18\" >nan</td>\n",
       "      <td id=\"T_2f6de_row5_col19\" class=\"data row5 col19\" >nan</td>\n",
       "      <td id=\"T_2f6de_row5_col20\" class=\"data row5 col20\" >nan</td>\n",
       "      <td id=\"T_2f6de_row5_col21\" class=\"data row5 col21\" >nan</td>\n",
       "      <td id=\"T_2f6de_row5_col22\" class=\"data row5 col22\" >nan</td>\n",
       "      <td id=\"T_2f6de_row5_col23\" class=\"data row5 col23\" >nan</td>\n",
       "      <td id=\"T_2f6de_row5_col24\" class=\"data row5 col24\" >nan</td>\n",
       "      <td id=\"T_2f6de_row5_col25\" class=\"data row5 col25\" >nan</td>\n",
       "      <td id=\"T_2f6de_row5_col26\" class=\"data row5 col26\" >nan</td>\n",
       "      <td id=\"T_2f6de_row5_col27\" class=\"data row5 col27\" >nan</td>\n",
       "    </tr>\n",
       "    <tr>\n",
       "      <th id=\"T_2f6de_level0_row6\" class=\"row_heading level0 row6\" >social</th>\n",
       "      <td id=\"T_2f6de_row6_col0\" class=\"data row6 col0\" >0.05</td>\n",
       "      <td id=\"T_2f6de_row6_col1\" class=\"data row6 col1\" >0.32</td>\n",
       "      <td id=\"T_2f6de_row6_col2\" class=\"data row6 col2\" >-0.36</td>\n",
       "      <td id=\"T_2f6de_row6_col3\" class=\"data row6 col3\" >-0.33</td>\n",
       "      <td id=\"T_2f6de_row6_col4\" class=\"data row6 col4\" >nan</td>\n",
       "      <td id=\"T_2f6de_row6_col5\" class=\"data row6 col5\" >0.49</td>\n",
       "      <td id=\"T_2f6de_row6_col6\" class=\"data row6 col6\" >nan</td>\n",
       "      <td id=\"T_2f6de_row6_col7\" class=\"data row6 col7\" >nan</td>\n",
       "      <td id=\"T_2f6de_row6_col8\" class=\"data row6 col8\" >nan</td>\n",
       "      <td id=\"T_2f6de_row6_col9\" class=\"data row6 col9\" >nan</td>\n",
       "      <td id=\"T_2f6de_row6_col10\" class=\"data row6 col10\" >nan</td>\n",
       "      <td id=\"T_2f6de_row6_col11\" class=\"data row6 col11\" >nan</td>\n",
       "      <td id=\"T_2f6de_row6_col12\" class=\"data row6 col12\" >nan</td>\n",
       "      <td id=\"T_2f6de_row6_col13\" class=\"data row6 col13\" >nan</td>\n",
       "      <td id=\"T_2f6de_row6_col14\" class=\"data row6 col14\" >nan</td>\n",
       "      <td id=\"T_2f6de_row6_col15\" class=\"data row6 col15\" >nan</td>\n",
       "      <td id=\"T_2f6de_row6_col16\" class=\"data row6 col16\" >nan</td>\n",
       "      <td id=\"T_2f6de_row6_col17\" class=\"data row6 col17\" >nan</td>\n",
       "      <td id=\"T_2f6de_row6_col18\" class=\"data row6 col18\" >nan</td>\n",
       "      <td id=\"T_2f6de_row6_col19\" class=\"data row6 col19\" >nan</td>\n",
       "      <td id=\"T_2f6de_row6_col20\" class=\"data row6 col20\" >nan</td>\n",
       "      <td id=\"T_2f6de_row6_col21\" class=\"data row6 col21\" >nan</td>\n",
       "      <td id=\"T_2f6de_row6_col22\" class=\"data row6 col22\" >nan</td>\n",
       "      <td id=\"T_2f6de_row6_col23\" class=\"data row6 col23\" >nan</td>\n",
       "      <td id=\"T_2f6de_row6_col24\" class=\"data row6 col24\" >nan</td>\n",
       "      <td id=\"T_2f6de_row6_col25\" class=\"data row6 col25\" >nan</td>\n",
       "      <td id=\"T_2f6de_row6_col26\" class=\"data row6 col26\" >nan</td>\n",
       "      <td id=\"T_2f6de_row6_col27\" class=\"data row6 col27\" >nan</td>\n",
       "    </tr>\n",
       "    <tr>\n",
       "      <th id=\"T_2f6de_level0_row7\" class=\"row_heading level0 row7\" >web</th>\n",
       "      <td id=\"T_2f6de_row7_col0\" class=\"data row7 col0\" >0.06</td>\n",
       "      <td id=\"T_2f6de_row7_col1\" class=\"data row7 col1\" >-0.60</td>\n",
       "      <td id=\"T_2f6de_row7_col2\" class=\"data row7 col2\" >-0.03</td>\n",
       "      <td id=\"T_2f6de_row7_col3\" class=\"data row7 col3\" >0.05</td>\n",
       "      <td id=\"T_2f6de_row7_col4\" class=\"data row7 col4\" >nan</td>\n",
       "      <td id=\"T_2f6de_row7_col5\" class=\"data row7 col5\" >-0.14</td>\n",
       "      <td id=\"T_2f6de_row7_col6\" class=\"data row7 col6\" >-0.29</td>\n",
       "      <td id=\"T_2f6de_row7_col7\" class=\"data row7 col7\" >nan</td>\n",
       "      <td id=\"T_2f6de_row7_col8\" class=\"data row7 col8\" >nan</td>\n",
       "      <td id=\"T_2f6de_row7_col9\" class=\"data row7 col9\" >nan</td>\n",
       "      <td id=\"T_2f6de_row7_col10\" class=\"data row7 col10\" >nan</td>\n",
       "      <td id=\"T_2f6de_row7_col11\" class=\"data row7 col11\" >nan</td>\n",
       "      <td id=\"T_2f6de_row7_col12\" class=\"data row7 col12\" >nan</td>\n",
       "      <td id=\"T_2f6de_row7_col13\" class=\"data row7 col13\" >nan</td>\n",
       "      <td id=\"T_2f6de_row7_col14\" class=\"data row7 col14\" >nan</td>\n",
       "      <td id=\"T_2f6de_row7_col15\" class=\"data row7 col15\" >nan</td>\n",
       "      <td id=\"T_2f6de_row7_col16\" class=\"data row7 col16\" >nan</td>\n",
       "      <td id=\"T_2f6de_row7_col17\" class=\"data row7 col17\" >nan</td>\n",
       "      <td id=\"T_2f6de_row7_col18\" class=\"data row7 col18\" >nan</td>\n",
       "      <td id=\"T_2f6de_row7_col19\" class=\"data row7 col19\" >nan</td>\n",
       "      <td id=\"T_2f6de_row7_col20\" class=\"data row7 col20\" >nan</td>\n",
       "      <td id=\"T_2f6de_row7_col21\" class=\"data row7 col21\" >nan</td>\n",
       "      <td id=\"T_2f6de_row7_col22\" class=\"data row7 col22\" >nan</td>\n",
       "      <td id=\"T_2f6de_row7_col23\" class=\"data row7 col23\" >nan</td>\n",
       "      <td id=\"T_2f6de_row7_col24\" class=\"data row7 col24\" >nan</td>\n",
       "      <td id=\"T_2f6de_row7_col25\" class=\"data row7 col25\" >nan</td>\n",
       "      <td id=\"T_2f6de_row7_col26\" class=\"data row7 col26\" >nan</td>\n",
       "      <td id=\"T_2f6de_row7_col27\" class=\"data row7 col27\" >nan</td>\n",
       "    </tr>\n",
       "    <tr>\n",
       "      <th id=\"T_2f6de_level0_row8\" class=\"row_heading level0 row8\" >bogo</th>\n",
       "      <td id=\"T_2f6de_row8_col0\" class=\"data row8 col0\" >-0.07</td>\n",
       "      <td id=\"T_2f6de_row8_col1\" class=\"data row8 col1\" >0.75</td>\n",
       "      <td id=\"T_2f6de_row8_col2\" class=\"data row8 col2\" >-0.48</td>\n",
       "      <td id=\"T_2f6de_row8_col3\" class=\"data row8 col3\" >-0.70</td>\n",
       "      <td id=\"T_2f6de_row8_col4\" class=\"data row8 col4\" >nan</td>\n",
       "      <td id=\"T_2f6de_row8_col5\" class=\"data row8 col5\" >0.38</td>\n",
       "      <td id=\"T_2f6de_row8_col6\" class=\"data row8 col6\" >0.26</td>\n",
       "      <td id=\"T_2f6de_row8_col7\" class=\"data row8 col7\" >-0.38</td>\n",
       "      <td id=\"T_2f6de_row8_col8\" class=\"data row8 col8\" >nan</td>\n",
       "      <td id=\"T_2f6de_row8_col9\" class=\"data row8 col9\" >nan</td>\n",
       "      <td id=\"T_2f6de_row8_col10\" class=\"data row8 col10\" >nan</td>\n",
       "      <td id=\"T_2f6de_row8_col11\" class=\"data row8 col11\" >nan</td>\n",
       "      <td id=\"T_2f6de_row8_col12\" class=\"data row8 col12\" >nan</td>\n",
       "      <td id=\"T_2f6de_row8_col13\" class=\"data row8 col13\" >nan</td>\n",
       "      <td id=\"T_2f6de_row8_col14\" class=\"data row8 col14\" >nan</td>\n",
       "      <td id=\"T_2f6de_row8_col15\" class=\"data row8 col15\" >nan</td>\n",
       "      <td id=\"T_2f6de_row8_col16\" class=\"data row8 col16\" >nan</td>\n",
       "      <td id=\"T_2f6de_row8_col17\" class=\"data row8 col17\" >nan</td>\n",
       "      <td id=\"T_2f6de_row8_col18\" class=\"data row8 col18\" >nan</td>\n",
       "      <td id=\"T_2f6de_row8_col19\" class=\"data row8 col19\" >nan</td>\n",
       "      <td id=\"T_2f6de_row8_col20\" class=\"data row8 col20\" >nan</td>\n",
       "      <td id=\"T_2f6de_row8_col21\" class=\"data row8 col21\" >nan</td>\n",
       "      <td id=\"T_2f6de_row8_col22\" class=\"data row8 col22\" >nan</td>\n",
       "      <td id=\"T_2f6de_row8_col23\" class=\"data row8 col23\" >nan</td>\n",
       "      <td id=\"T_2f6de_row8_col24\" class=\"data row8 col24\" >nan</td>\n",
       "      <td id=\"T_2f6de_row8_col25\" class=\"data row8 col25\" >nan</td>\n",
       "      <td id=\"T_2f6de_row8_col26\" class=\"data row8 col26\" >nan</td>\n",
       "      <td id=\"T_2f6de_row8_col27\" class=\"data row8 col27\" >nan</td>\n",
       "    </tr>\n",
       "    <tr>\n",
       "      <th id=\"T_2f6de_level0_row9\" class=\"row_heading level0 row9\" >discount</th>\n",
       "      <td id=\"T_2f6de_row9_col0\" class=\"data row9 col0\" >0.07</td>\n",
       "      <td id=\"T_2f6de_row9_col1\" class=\"data row9 col1\" >-0.75</td>\n",
       "      <td id=\"T_2f6de_row9_col2\" class=\"data row9 col2\" >0.48</td>\n",
       "      <td id=\"T_2f6de_row9_col3\" class=\"data row9 col3\" >0.70</td>\n",
       "      <td id=\"T_2f6de_row9_col4\" class=\"data row9 col4\" >nan</td>\n",
       "      <td id=\"T_2f6de_row9_col5\" class=\"data row9 col5\" >-0.38</td>\n",
       "      <td id=\"T_2f6de_row9_col6\" class=\"data row9 col6\" >-0.26</td>\n",
       "      <td id=\"T_2f6de_row9_col7\" class=\"data row9 col7\" >0.38</td>\n",
       "      <td id=\"T_2f6de_row9_col8\" class=\"data row9 col8\" >-1.00</td>\n",
       "      <td id=\"T_2f6de_row9_col9\" class=\"data row9 col9\" >nan</td>\n",
       "      <td id=\"T_2f6de_row9_col10\" class=\"data row9 col10\" >nan</td>\n",
       "      <td id=\"T_2f6de_row9_col11\" class=\"data row9 col11\" >nan</td>\n",
       "      <td id=\"T_2f6de_row9_col12\" class=\"data row9 col12\" >nan</td>\n",
       "      <td id=\"T_2f6de_row9_col13\" class=\"data row9 col13\" >nan</td>\n",
       "      <td id=\"T_2f6de_row9_col14\" class=\"data row9 col14\" >nan</td>\n",
       "      <td id=\"T_2f6de_row9_col15\" class=\"data row9 col15\" >nan</td>\n",
       "      <td id=\"T_2f6de_row9_col16\" class=\"data row9 col16\" >nan</td>\n",
       "      <td id=\"T_2f6de_row9_col17\" class=\"data row9 col17\" >nan</td>\n",
       "      <td id=\"T_2f6de_row9_col18\" class=\"data row9 col18\" >nan</td>\n",
       "      <td id=\"T_2f6de_row9_col19\" class=\"data row9 col19\" >nan</td>\n",
       "      <td id=\"T_2f6de_row9_col20\" class=\"data row9 col20\" >nan</td>\n",
       "      <td id=\"T_2f6de_row9_col21\" class=\"data row9 col21\" >nan</td>\n",
       "      <td id=\"T_2f6de_row9_col22\" class=\"data row9 col22\" >nan</td>\n",
       "      <td id=\"T_2f6de_row9_col23\" class=\"data row9 col23\" >nan</td>\n",
       "      <td id=\"T_2f6de_row9_col24\" class=\"data row9 col24\" >nan</td>\n",
       "      <td id=\"T_2f6de_row9_col25\" class=\"data row9 col25\" >nan</td>\n",
       "      <td id=\"T_2f6de_row9_col26\" class=\"data row9 col26\" >nan</td>\n",
       "      <td id=\"T_2f6de_row9_col27\" class=\"data row9 col27\" >nan</td>\n",
       "    </tr>\n",
       "    <tr>\n",
       "      <th id=\"T_2f6de_level0_row10\" class=\"row_heading level0 row10\" >age</th>\n",
       "      <td id=\"T_2f6de_row10_col0\" class=\"data row10 col0\" >-0.19</td>\n",
       "      <td id=\"T_2f6de_row10_col1\" class=\"data row10 col1\" >0.00</td>\n",
       "      <td id=\"T_2f6de_row10_col2\" class=\"data row10 col2\" >-0.00</td>\n",
       "      <td id=\"T_2f6de_row10_col3\" class=\"data row10 col3\" >-0.00</td>\n",
       "      <td id=\"T_2f6de_row10_col4\" class=\"data row10 col4\" >nan</td>\n",
       "      <td id=\"T_2f6de_row10_col5\" class=\"data row10 col5\" >0.00</td>\n",
       "      <td id=\"T_2f6de_row10_col6\" class=\"data row10 col6\" >0.00</td>\n",
       "      <td id=\"T_2f6de_row10_col7\" class=\"data row10 col7\" >0.00</td>\n",
       "      <td id=\"T_2f6de_row10_col8\" class=\"data row10 col8\" >0.00</td>\n",
       "      <td id=\"T_2f6de_row10_col9\" class=\"data row10 col9\" >-0.00</td>\n",
       "      <td id=\"T_2f6de_row10_col10\" class=\"data row10 col10\" >nan</td>\n",
       "      <td id=\"T_2f6de_row10_col11\" class=\"data row10 col11\" >nan</td>\n",
       "      <td id=\"T_2f6de_row10_col12\" class=\"data row10 col12\" >nan</td>\n",
       "      <td id=\"T_2f6de_row10_col13\" class=\"data row10 col13\" >nan</td>\n",
       "      <td id=\"T_2f6de_row10_col14\" class=\"data row10 col14\" >nan</td>\n",
       "      <td id=\"T_2f6de_row10_col15\" class=\"data row10 col15\" >nan</td>\n",
       "      <td id=\"T_2f6de_row10_col16\" class=\"data row10 col16\" >nan</td>\n",
       "      <td id=\"T_2f6de_row10_col17\" class=\"data row10 col17\" >nan</td>\n",
       "      <td id=\"T_2f6de_row10_col18\" class=\"data row10 col18\" >nan</td>\n",
       "      <td id=\"T_2f6de_row10_col19\" class=\"data row10 col19\" >nan</td>\n",
       "      <td id=\"T_2f6de_row10_col20\" class=\"data row10 col20\" >nan</td>\n",
       "      <td id=\"T_2f6de_row10_col21\" class=\"data row10 col21\" >nan</td>\n",
       "      <td id=\"T_2f6de_row10_col22\" class=\"data row10 col22\" >nan</td>\n",
       "      <td id=\"T_2f6de_row10_col23\" class=\"data row10 col23\" >nan</td>\n",
       "      <td id=\"T_2f6de_row10_col24\" class=\"data row10 col24\" >nan</td>\n",
       "      <td id=\"T_2f6de_row10_col25\" class=\"data row10 col25\" >nan</td>\n",
       "      <td id=\"T_2f6de_row10_col26\" class=\"data row10 col26\" >nan</td>\n",
       "      <td id=\"T_2f6de_row10_col27\" class=\"data row10 col27\" >nan</td>\n",
       "    </tr>\n",
       "    <tr>\n",
       "      <th id=\"T_2f6de_level0_row11\" class=\"row_heading level0 row11\" >income</th>\n",
       "      <td id=\"T_2f6de_row11_col0\" class=\"data row11 col0\" >0.22</td>\n",
       "      <td id=\"T_2f6de_row11_col1\" class=\"data row11 col1\" >0.00</td>\n",
       "      <td id=\"T_2f6de_row11_col2\" class=\"data row11 col2\" >-0.00</td>\n",
       "      <td id=\"T_2f6de_row11_col3\" class=\"data row11 col3\" >-0.00</td>\n",
       "      <td id=\"T_2f6de_row11_col4\" class=\"data row11 col4\" >nan</td>\n",
       "      <td id=\"T_2f6de_row11_col5\" class=\"data row11 col5\" >0.00</td>\n",
       "      <td id=\"T_2f6de_row11_col6\" class=\"data row11 col6\" >0.00</td>\n",
       "      <td id=\"T_2f6de_row11_col7\" class=\"data row11 col7\" >-0.00</td>\n",
       "      <td id=\"T_2f6de_row11_col8\" class=\"data row11 col8\" >-0.00</td>\n",
       "      <td id=\"T_2f6de_row11_col9\" class=\"data row11 col9\" >0.00</td>\n",
       "      <td id=\"T_2f6de_row11_col10\" class=\"data row11 col10\" >0.19</td>\n",
       "      <td id=\"T_2f6de_row11_col11\" class=\"data row11 col11\" >nan</td>\n",
       "      <td id=\"T_2f6de_row11_col12\" class=\"data row11 col12\" >nan</td>\n",
       "      <td id=\"T_2f6de_row11_col13\" class=\"data row11 col13\" >nan</td>\n",
       "      <td id=\"T_2f6de_row11_col14\" class=\"data row11 col14\" >nan</td>\n",
       "      <td id=\"T_2f6de_row11_col15\" class=\"data row11 col15\" >nan</td>\n",
       "      <td id=\"T_2f6de_row11_col16\" class=\"data row11 col16\" >nan</td>\n",
       "      <td id=\"T_2f6de_row11_col17\" class=\"data row11 col17\" >nan</td>\n",
       "      <td id=\"T_2f6de_row11_col18\" class=\"data row11 col18\" >nan</td>\n",
       "      <td id=\"T_2f6de_row11_col19\" class=\"data row11 col19\" >nan</td>\n",
       "      <td id=\"T_2f6de_row11_col20\" class=\"data row11 col20\" >nan</td>\n",
       "      <td id=\"T_2f6de_row11_col21\" class=\"data row11 col21\" >nan</td>\n",
       "      <td id=\"T_2f6de_row11_col22\" class=\"data row11 col22\" >nan</td>\n",
       "      <td id=\"T_2f6de_row11_col23\" class=\"data row11 col23\" >nan</td>\n",
       "      <td id=\"T_2f6de_row11_col24\" class=\"data row11 col24\" >nan</td>\n",
       "      <td id=\"T_2f6de_row11_col25\" class=\"data row11 col25\" >nan</td>\n",
       "      <td id=\"T_2f6de_row11_col26\" class=\"data row11 col26\" >nan</td>\n",
       "      <td id=\"T_2f6de_row11_col27\" class=\"data row11 col27\" >nan</td>\n",
       "    </tr>\n",
       "    <tr>\n",
       "      <th id=\"T_2f6de_level0_row12\" class=\"row_heading level0 row12\" >Youth</th>\n",
       "      <td id=\"T_2f6de_row12_col0\" class=\"data row12 col0\" >-0.05</td>\n",
       "      <td id=\"T_2f6de_row12_col1\" class=\"data row12 col1\" >0.00</td>\n",
       "      <td id=\"T_2f6de_row12_col2\" class=\"data row12 col2\" >0.00</td>\n",
       "      <td id=\"T_2f6de_row12_col3\" class=\"data row12 col3\" >-0.00</td>\n",
       "      <td id=\"T_2f6de_row12_col4\" class=\"data row12 col4\" >nan</td>\n",
       "      <td id=\"T_2f6de_row12_col5\" class=\"data row12 col5\" >0.00</td>\n",
       "      <td id=\"T_2f6de_row12_col6\" class=\"data row12 col6\" >0.00</td>\n",
       "      <td id=\"T_2f6de_row12_col7\" class=\"data row12 col7\" >0.00</td>\n",
       "      <td id=\"T_2f6de_row12_col8\" class=\"data row12 col8\" >-0.00</td>\n",
       "      <td id=\"T_2f6de_row12_col9\" class=\"data row12 col9\" >0.00</td>\n",
       "      <td id=\"T_2f6de_row12_col10\" class=\"data row12 col10\" >-0.53</td>\n",
       "      <td id=\"T_2f6de_row12_col11\" class=\"data row12 col11\" >-0.29</td>\n",
       "      <td id=\"T_2f6de_row12_col12\" class=\"data row12 col12\" >nan</td>\n",
       "      <td id=\"T_2f6de_row12_col13\" class=\"data row12 col13\" >nan</td>\n",
       "      <td id=\"T_2f6de_row12_col14\" class=\"data row12 col14\" >nan</td>\n",
       "      <td id=\"T_2f6de_row12_col15\" class=\"data row12 col15\" >nan</td>\n",
       "      <td id=\"T_2f6de_row12_col16\" class=\"data row12 col16\" >nan</td>\n",
       "      <td id=\"T_2f6de_row12_col17\" class=\"data row12 col17\" >nan</td>\n",
       "      <td id=\"T_2f6de_row12_col18\" class=\"data row12 col18\" >nan</td>\n",
       "      <td id=\"T_2f6de_row12_col19\" class=\"data row12 col19\" >nan</td>\n",
       "      <td id=\"T_2f6de_row12_col20\" class=\"data row12 col20\" >nan</td>\n",
       "      <td id=\"T_2f6de_row12_col21\" class=\"data row12 col21\" >nan</td>\n",
       "      <td id=\"T_2f6de_row12_col22\" class=\"data row12 col22\" >nan</td>\n",
       "      <td id=\"T_2f6de_row12_col23\" class=\"data row12 col23\" >nan</td>\n",
       "      <td id=\"T_2f6de_row12_col24\" class=\"data row12 col24\" >nan</td>\n",
       "      <td id=\"T_2f6de_row12_col25\" class=\"data row12 col25\" >nan</td>\n",
       "      <td id=\"T_2f6de_row12_col26\" class=\"data row12 col26\" >nan</td>\n",
       "      <td id=\"T_2f6de_row12_col27\" class=\"data row12 col27\" >nan</td>\n",
       "    </tr>\n",
       "    <tr>\n",
       "      <th id=\"T_2f6de_level0_row13\" class=\"row_heading level0 row13\" >Adults</th>\n",
       "      <td id=\"T_2f6de_row13_col0\" class=\"data row13 col0\" >0.09</td>\n",
       "      <td id=\"T_2f6de_row13_col1\" class=\"data row13 col1\" >0.00</td>\n",
       "      <td id=\"T_2f6de_row13_col2\" class=\"data row13 col2\" >0.00</td>\n",
       "      <td id=\"T_2f6de_row13_col3\" class=\"data row13 col3\" >0.00</td>\n",
       "      <td id=\"T_2f6de_row13_col4\" class=\"data row13 col4\" >nan</td>\n",
       "      <td id=\"T_2f6de_row13_col5\" class=\"data row13 col5\" >-0.00</td>\n",
       "      <td id=\"T_2f6de_row13_col6\" class=\"data row13 col6\" >-0.01</td>\n",
       "      <td id=\"T_2f6de_row13_col7\" class=\"data row13 col7\" >-0.00</td>\n",
       "      <td id=\"T_2f6de_row13_col8\" class=\"data row13 col8\" >0.00</td>\n",
       "      <td id=\"T_2f6de_row13_col9\" class=\"data row13 col9\" >-0.00</td>\n",
       "      <td id=\"T_2f6de_row13_col10\" class=\"data row13 col10\" >-0.38</td>\n",
       "      <td id=\"T_2f6de_row13_col11\" class=\"data row13 col11\" >-0.02</td>\n",
       "      <td id=\"T_2f6de_row13_col12\" class=\"data row13 col12\" >-0.26</td>\n",
       "      <td id=\"T_2f6de_row13_col13\" class=\"data row13 col13\" >nan</td>\n",
       "      <td id=\"T_2f6de_row13_col14\" class=\"data row13 col14\" >nan</td>\n",
       "      <td id=\"T_2f6de_row13_col15\" class=\"data row13 col15\" >nan</td>\n",
       "      <td id=\"T_2f6de_row13_col16\" class=\"data row13 col16\" >nan</td>\n",
       "      <td id=\"T_2f6de_row13_col17\" class=\"data row13 col17\" >nan</td>\n",
       "      <td id=\"T_2f6de_row13_col18\" class=\"data row13 col18\" >nan</td>\n",
       "      <td id=\"T_2f6de_row13_col19\" class=\"data row13 col19\" >nan</td>\n",
       "      <td id=\"T_2f6de_row13_col20\" class=\"data row13 col20\" >nan</td>\n",
       "      <td id=\"T_2f6de_row13_col21\" class=\"data row13 col21\" >nan</td>\n",
       "      <td id=\"T_2f6de_row13_col22\" class=\"data row13 col22\" >nan</td>\n",
       "      <td id=\"T_2f6de_row13_col23\" class=\"data row13 col23\" >nan</td>\n",
       "      <td id=\"T_2f6de_row13_col24\" class=\"data row13 col24\" >nan</td>\n",
       "      <td id=\"T_2f6de_row13_col25\" class=\"data row13 col25\" >nan</td>\n",
       "      <td id=\"T_2f6de_row13_col26\" class=\"data row13 col26\" >nan</td>\n",
       "      <td id=\"T_2f6de_row13_col27\" class=\"data row13 col27\" >nan</td>\n",
       "    </tr>\n",
       "    <tr>\n",
       "      <th id=\"T_2f6de_level0_row14\" class=\"row_heading level0 row14\" >Seniors</th>\n",
       "      <td id=\"T_2f6de_row14_col0\" class=\"data row14 col0\" >0.09</td>\n",
       "      <td id=\"T_2f6de_row14_col1\" class=\"data row14 col1\" >-0.00</td>\n",
       "      <td id=\"T_2f6de_row14_col2\" class=\"data row14 col2\" >0.00</td>\n",
       "      <td id=\"T_2f6de_row14_col3\" class=\"data row14 col3\" >0.01</td>\n",
       "      <td id=\"T_2f6de_row14_col4\" class=\"data row14 col4\" >nan</td>\n",
       "      <td id=\"T_2f6de_row14_col5\" class=\"data row14 col5\" >-0.00</td>\n",
       "      <td id=\"T_2f6de_row14_col6\" class=\"data row14 col6\" >-0.00</td>\n",
       "      <td id=\"T_2f6de_row14_col7\" class=\"data row14 col7\" >-0.00</td>\n",
       "      <td id=\"T_2f6de_row14_col8\" class=\"data row14 col8\" >-0.00</td>\n",
       "      <td id=\"T_2f6de_row14_col9\" class=\"data row14 col9\" >0.00</td>\n",
       "      <td id=\"T_2f6de_row14_col10\" class=\"data row14 col10\" >-0.05</td>\n",
       "      <td id=\"T_2f6de_row14_col11\" class=\"data row14 col11\" >0.12</td>\n",
       "      <td id=\"T_2f6de_row14_col12\" class=\"data row14 col12\" >-0.19</td>\n",
       "      <td id=\"T_2f6de_row14_col13\" class=\"data row14 col13\" >-0.31</td>\n",
       "      <td id=\"T_2f6de_row14_col14\" class=\"data row14 col14\" >nan</td>\n",
       "      <td id=\"T_2f6de_row14_col15\" class=\"data row14 col15\" >nan</td>\n",
       "      <td id=\"T_2f6de_row14_col16\" class=\"data row14 col16\" >nan</td>\n",
       "      <td id=\"T_2f6de_row14_col17\" class=\"data row14 col17\" >nan</td>\n",
       "      <td id=\"T_2f6de_row14_col18\" class=\"data row14 col18\" >nan</td>\n",
       "      <td id=\"T_2f6de_row14_col19\" class=\"data row14 col19\" >nan</td>\n",
       "      <td id=\"T_2f6de_row14_col20\" class=\"data row14 col20\" >nan</td>\n",
       "      <td id=\"T_2f6de_row14_col21\" class=\"data row14 col21\" >nan</td>\n",
       "      <td id=\"T_2f6de_row14_col22\" class=\"data row14 col22\" >nan</td>\n",
       "      <td id=\"T_2f6de_row14_col23\" class=\"data row14 col23\" >nan</td>\n",
       "      <td id=\"T_2f6de_row14_col24\" class=\"data row14 col24\" >nan</td>\n",
       "      <td id=\"T_2f6de_row14_col25\" class=\"data row14 col25\" >nan</td>\n",
       "      <td id=\"T_2f6de_row14_col26\" class=\"data row14 col26\" >nan</td>\n",
       "      <td id=\"T_2f6de_row14_col27\" class=\"data row14 col27\" >nan</td>\n",
       "    </tr>\n",
       "    <tr>\n",
       "      <th id=\"T_2f6de_level0_row15\" class=\"row_heading level0 row15\" >Older</th>\n",
       "      <td id=\"T_2f6de_row15_col0\" class=\"data row15 col0\" >-0.11</td>\n",
       "      <td id=\"T_2f6de_row15_col1\" class=\"data row15 col1\" >-0.00</td>\n",
       "      <td id=\"T_2f6de_row15_col2\" class=\"data row15 col2\" >-0.00</td>\n",
       "      <td id=\"T_2f6de_row15_col3\" class=\"data row15 col3\" >-0.00</td>\n",
       "      <td id=\"T_2f6de_row15_col4\" class=\"data row15 col4\" >nan</td>\n",
       "      <td id=\"T_2f6de_row15_col5\" class=\"data row15 col5\" >0.00</td>\n",
       "      <td id=\"T_2f6de_row15_col6\" class=\"data row15 col6\" >0.00</td>\n",
       "      <td id=\"T_2f6de_row15_col7\" class=\"data row15 col7\" >0.00</td>\n",
       "      <td id=\"T_2f6de_row15_col8\" class=\"data row15 col8\" >0.00</td>\n",
       "      <td id=\"T_2f6de_row15_col9\" class=\"data row15 col9\" >-0.00</td>\n",
       "      <td id=\"T_2f6de_row15_col10\" class=\"data row15 col10\" >0.78</td>\n",
       "      <td id=\"T_2f6de_row15_col11\" class=\"data row15 col11\" >0.14</td>\n",
       "      <td id=\"T_2f6de_row15_col12\" class=\"data row15 col12\" >-0.31</td>\n",
       "      <td id=\"T_2f6de_row15_col13\" class=\"data row15 col13\" >-0.51</td>\n",
       "      <td id=\"T_2f6de_row15_col14\" class=\"data row15 col14\" >-0.37</td>\n",
       "      <td id=\"T_2f6de_row15_col15\" class=\"data row15 col15\" >nan</td>\n",
       "      <td id=\"T_2f6de_row15_col16\" class=\"data row15 col16\" >nan</td>\n",
       "      <td id=\"T_2f6de_row15_col17\" class=\"data row15 col17\" >nan</td>\n",
       "      <td id=\"T_2f6de_row15_col18\" class=\"data row15 col18\" >nan</td>\n",
       "      <td id=\"T_2f6de_row15_col19\" class=\"data row15 col19\" >nan</td>\n",
       "      <td id=\"T_2f6de_row15_col20\" class=\"data row15 col20\" >nan</td>\n",
       "      <td id=\"T_2f6de_row15_col21\" class=\"data row15 col21\" >nan</td>\n",
       "      <td id=\"T_2f6de_row15_col22\" class=\"data row15 col22\" >nan</td>\n",
       "      <td id=\"T_2f6de_row15_col23\" class=\"data row15 col23\" >nan</td>\n",
       "      <td id=\"T_2f6de_row15_col24\" class=\"data row15 col24\" >nan</td>\n",
       "      <td id=\"T_2f6de_row15_col25\" class=\"data row15 col25\" >nan</td>\n",
       "      <td id=\"T_2f6de_row15_col26\" class=\"data row15 col26\" >nan</td>\n",
       "      <td id=\"T_2f6de_row15_col27\" class=\"data row15 col27\" >nan</td>\n",
       "    </tr>\n",
       "    <tr>\n",
       "      <th id=\"T_2f6de_level0_row16\" class=\"row_heading level0 row16\" >Lower-income</th>\n",
       "      <td id=\"T_2f6de_row16_col0\" class=\"data row16 col0\" >-0.10</td>\n",
       "      <td id=\"T_2f6de_row16_col1\" class=\"data row16 col1\" >0.00</td>\n",
       "      <td id=\"T_2f6de_row16_col2\" class=\"data row16 col2\" >0.01</td>\n",
       "      <td id=\"T_2f6de_row16_col3\" class=\"data row16 col3\" >0.00</td>\n",
       "      <td id=\"T_2f6de_row16_col4\" class=\"data row16 col4\" >nan</td>\n",
       "      <td id=\"T_2f6de_row16_col5\" class=\"data row16 col5\" >-0.01</td>\n",
       "      <td id=\"T_2f6de_row16_col6\" class=\"data row16 col6\" >-0.01</td>\n",
       "      <td id=\"T_2f6de_row16_col7\" class=\"data row16 col7\" >0.00</td>\n",
       "      <td id=\"T_2f6de_row16_col8\" class=\"data row16 col8\" >0.00</td>\n",
       "      <td id=\"T_2f6de_row16_col9\" class=\"data row16 col9\" >-0.00</td>\n",
       "      <td id=\"T_2f6de_row16_col10\" class=\"data row16 col10\" >-0.31</td>\n",
       "      <td id=\"T_2f6de_row16_col11\" class=\"data row16 col11\" >-0.72</td>\n",
       "      <td id=\"T_2f6de_row16_col12\" class=\"data row16 col12\" >0.25</td>\n",
       "      <td id=\"T_2f6de_row16_col13\" class=\"data row16 col13\" >0.05</td>\n",
       "      <td id=\"T_2f6de_row16_col14\" class=\"data row16 col14\" >-0.04</td>\n",
       "      <td id=\"T_2f6de_row16_col15\" class=\"data row16 col15\" >-0.20</td>\n",
       "      <td id=\"T_2f6de_row16_col16\" class=\"data row16 col16\" >nan</td>\n",
       "      <td id=\"T_2f6de_row16_col17\" class=\"data row16 col17\" >nan</td>\n",
       "      <td id=\"T_2f6de_row16_col18\" class=\"data row16 col18\" >nan</td>\n",
       "      <td id=\"T_2f6de_row16_col19\" class=\"data row16 col19\" >nan</td>\n",
       "      <td id=\"T_2f6de_row16_col20\" class=\"data row16 col20\" >nan</td>\n",
       "      <td id=\"T_2f6de_row16_col21\" class=\"data row16 col21\" >nan</td>\n",
       "      <td id=\"T_2f6de_row16_col22\" class=\"data row16 col22\" >nan</td>\n",
       "      <td id=\"T_2f6de_row16_col23\" class=\"data row16 col23\" >nan</td>\n",
       "      <td id=\"T_2f6de_row16_col24\" class=\"data row16 col24\" >nan</td>\n",
       "      <td id=\"T_2f6de_row16_col25\" class=\"data row16 col25\" >nan</td>\n",
       "      <td id=\"T_2f6de_row16_col26\" class=\"data row16 col26\" >nan</td>\n",
       "      <td id=\"T_2f6de_row16_col27\" class=\"data row16 col27\" >nan</td>\n",
       "    </tr>\n",
       "    <tr>\n",
       "      <th id=\"T_2f6de_level0_row17\" class=\"row_heading level0 row17\" >Middle-income</th>\n",
       "      <td id=\"T_2f6de_row17_col0\" class=\"data row17 col0\" >0.16</td>\n",
       "      <td id=\"T_2f6de_row17_col1\" class=\"data row17 col1\" >-0.00</td>\n",
       "      <td id=\"T_2f6de_row17_col2\" class=\"data row17 col2\" >0.00</td>\n",
       "      <td id=\"T_2f6de_row17_col3\" class=\"data row17 col3\" >0.00</td>\n",
       "      <td id=\"T_2f6de_row17_col4\" class=\"data row17 col4\" >nan</td>\n",
       "      <td id=\"T_2f6de_row17_col5\" class=\"data row17 col5\" >-0.00</td>\n",
       "      <td id=\"T_2f6de_row17_col6\" class=\"data row17 col6\" >0.00</td>\n",
       "      <td id=\"T_2f6de_row17_col7\" class=\"data row17 col7\" >0.00</td>\n",
       "      <td id=\"T_2f6de_row17_col8\" class=\"data row17 col8\" >-0.00</td>\n",
       "      <td id=\"T_2f6de_row17_col9\" class=\"data row17 col9\" >0.00</td>\n",
       "      <td id=\"T_2f6de_row17_col10\" class=\"data row17 col10\" >-0.26</td>\n",
       "      <td id=\"T_2f6de_row17_col11\" class=\"data row17 col11\" >0.08</td>\n",
       "      <td id=\"T_2f6de_row17_col12\" class=\"data row17 col12\" >0.02</td>\n",
       "      <td id=\"T_2f6de_row17_col13\" class=\"data row17 col13\" >0.12</td>\n",
       "      <td id=\"T_2f6de_row17_col14\" class=\"data row17 col14\" >0.06</td>\n",
       "      <td id=\"T_2f6de_row17_col15\" class=\"data row17 col15\" >-0.17</td>\n",
       "      <td id=\"T_2f6de_row17_col16\" class=\"data row17 col16\" >-0.53</td>\n",
       "      <td id=\"T_2f6de_row17_col17\" class=\"data row17 col17\" >nan</td>\n",
       "      <td id=\"T_2f6de_row17_col18\" class=\"data row17 col18\" >nan</td>\n",
       "      <td id=\"T_2f6de_row17_col19\" class=\"data row17 col19\" >nan</td>\n",
       "      <td id=\"T_2f6de_row17_col20\" class=\"data row17 col20\" >nan</td>\n",
       "      <td id=\"T_2f6de_row17_col21\" class=\"data row17 col21\" >nan</td>\n",
       "      <td id=\"T_2f6de_row17_col22\" class=\"data row17 col22\" >nan</td>\n",
       "      <td id=\"T_2f6de_row17_col23\" class=\"data row17 col23\" >nan</td>\n",
       "      <td id=\"T_2f6de_row17_col24\" class=\"data row17 col24\" >nan</td>\n",
       "      <td id=\"T_2f6de_row17_col25\" class=\"data row17 col25\" >nan</td>\n",
       "      <td id=\"T_2f6de_row17_col26\" class=\"data row17 col26\" >nan</td>\n",
       "      <td id=\"T_2f6de_row17_col27\" class=\"data row17 col27\" >nan</td>\n",
       "    </tr>\n",
       "    <tr>\n",
       "      <th id=\"T_2f6de_level0_row18\" class=\"row_heading level0 row18\" >Upper-income</th>\n",
       "      <td id=\"T_2f6de_row18_col0\" class=\"data row18 col0\" >0.20</td>\n",
       "      <td id=\"T_2f6de_row18_col1\" class=\"data row18 col1\" >0.00</td>\n",
       "      <td id=\"T_2f6de_row18_col2\" class=\"data row18 col2\" >-0.00</td>\n",
       "      <td id=\"T_2f6de_row18_col3\" class=\"data row18 col3\" >-0.00</td>\n",
       "      <td id=\"T_2f6de_row18_col4\" class=\"data row18 col4\" >nan</td>\n",
       "      <td id=\"T_2f6de_row18_col5\" class=\"data row18 col5\" >0.00</td>\n",
       "      <td id=\"T_2f6de_row18_col6\" class=\"data row18 col6\" >0.00</td>\n",
       "      <td id=\"T_2f6de_row18_col7\" class=\"data row18 col7\" >-0.01</td>\n",
       "      <td id=\"T_2f6de_row18_col8\" class=\"data row18 col8\" >0.00</td>\n",
       "      <td id=\"T_2f6de_row18_col9\" class=\"data row18 col9\" >-0.00</td>\n",
       "      <td id=\"T_2f6de_row18_col10\" class=\"data row18 col10\" >0.01</td>\n",
       "      <td id=\"T_2f6de_row18_col11\" class=\"data row18 col11\" >0.75</td>\n",
       "      <td id=\"T_2f6de_row18_col12\" class=\"data row18 col12\" >-0.18</td>\n",
       "      <td id=\"T_2f6de_row18_col13\" class=\"data row18 col13\" >0.01</td>\n",
       "      <td id=\"T_2f6de_row18_col14\" class=\"data row18 col14\" >0.13</td>\n",
       "      <td id=\"T_2f6de_row18_col15\" class=\"data row18 col15\" >0.02</td>\n",
       "      <td id=\"T_2f6de_row18_col16\" class=\"data row18 col16\" >-0.27</td>\n",
       "      <td id=\"T_2f6de_row18_col17\" class=\"data row18 col17\" >-0.39</td>\n",
       "      <td id=\"T_2f6de_row18_col18\" class=\"data row18 col18\" >nan</td>\n",
       "      <td id=\"T_2f6de_row18_col19\" class=\"data row18 col19\" >nan</td>\n",
       "      <td id=\"T_2f6de_row18_col20\" class=\"data row18 col20\" >nan</td>\n",
       "      <td id=\"T_2f6de_row18_col21\" class=\"data row18 col21\" >nan</td>\n",
       "      <td id=\"T_2f6de_row18_col22\" class=\"data row18 col22\" >nan</td>\n",
       "      <td id=\"T_2f6de_row18_col23\" class=\"data row18 col23\" >nan</td>\n",
       "      <td id=\"T_2f6de_row18_col24\" class=\"data row18 col24\" >nan</td>\n",
       "      <td id=\"T_2f6de_row18_col25\" class=\"data row18 col25\" >nan</td>\n",
       "      <td id=\"T_2f6de_row18_col26\" class=\"data row18 col26\" >nan</td>\n",
       "      <td id=\"T_2f6de_row18_col27\" class=\"data row18 col27\" >nan</td>\n",
       "    </tr>\n",
       "    <tr>\n",
       "      <th id=\"T_2f6de_level0_row19\" class=\"row_heading level0 row19\" >2013</th>\n",
       "      <td id=\"T_2f6de_row19_col0\" class=\"data row19 col0\" >0.00</td>\n",
       "      <td id=\"T_2f6de_row19_col1\" class=\"data row19 col1\" >0.00</td>\n",
       "      <td id=\"T_2f6de_row19_col2\" class=\"data row19 col2\" >-0.00</td>\n",
       "      <td id=\"T_2f6de_row19_col3\" class=\"data row19 col3\" >-0.00</td>\n",
       "      <td id=\"T_2f6de_row19_col4\" class=\"data row19 col4\" >nan</td>\n",
       "      <td id=\"T_2f6de_row19_col5\" class=\"data row19 col5\" >0.00</td>\n",
       "      <td id=\"T_2f6de_row19_col6\" class=\"data row19 col6\" >0.00</td>\n",
       "      <td id=\"T_2f6de_row19_col7\" class=\"data row19 col7\" >-0.00</td>\n",
       "      <td id=\"T_2f6de_row19_col8\" class=\"data row19 col8\" >0.00</td>\n",
       "      <td id=\"T_2f6de_row19_col9\" class=\"data row19 col9\" >-0.00</td>\n",
       "      <td id=\"T_2f6de_row19_col10\" class=\"data row19 col10\" >-0.04</td>\n",
       "      <td id=\"T_2f6de_row19_col11\" class=\"data row19 col11\" >-0.05</td>\n",
       "      <td id=\"T_2f6de_row19_col12\" class=\"data row19 col12\" >0.02</td>\n",
       "      <td id=\"T_2f6de_row19_col13\" class=\"data row19 col13\" >0.01</td>\n",
       "      <td id=\"T_2f6de_row19_col14\" class=\"data row19 col14\" >-0.01</td>\n",
       "      <td id=\"T_2f6de_row19_col15\" class=\"data row19 col15\" >-0.02</td>\n",
       "      <td id=\"T_2f6de_row19_col16\" class=\"data row19 col16\" >0.04</td>\n",
       "      <td id=\"T_2f6de_row19_col17\" class=\"data row19 col17\" >0.01</td>\n",
       "      <td id=\"T_2f6de_row19_col18\" class=\"data row19 col18\" >-0.03</td>\n",
       "      <td id=\"T_2f6de_row19_col19\" class=\"data row19 col19\" >nan</td>\n",
       "      <td id=\"T_2f6de_row19_col20\" class=\"data row19 col20\" >nan</td>\n",
       "      <td id=\"T_2f6de_row19_col21\" class=\"data row19 col21\" >nan</td>\n",
       "      <td id=\"T_2f6de_row19_col22\" class=\"data row19 col22\" >nan</td>\n",
       "      <td id=\"T_2f6de_row19_col23\" class=\"data row19 col23\" >nan</td>\n",
       "      <td id=\"T_2f6de_row19_col24\" class=\"data row19 col24\" >nan</td>\n",
       "      <td id=\"T_2f6de_row19_col25\" class=\"data row19 col25\" >nan</td>\n",
       "      <td id=\"T_2f6de_row19_col26\" class=\"data row19 col26\" >nan</td>\n",
       "      <td id=\"T_2f6de_row19_col27\" class=\"data row19 col27\" >nan</td>\n",
       "    </tr>\n",
       "    <tr>\n",
       "      <th id=\"T_2f6de_level0_row20\" class=\"row_heading level0 row20\" >2014</th>\n",
       "      <td id=\"T_2f6de_row20_col0\" class=\"data row20 col0\" >-0.00</td>\n",
       "      <td id=\"T_2f6de_row20_col1\" class=\"data row20 col1\" >-0.00</td>\n",
       "      <td id=\"T_2f6de_row20_col2\" class=\"data row20 col2\" >0.00</td>\n",
       "      <td id=\"T_2f6de_row20_col3\" class=\"data row20 col3\" >0.01</td>\n",
       "      <td id=\"T_2f6de_row20_col4\" class=\"data row20 col4\" >nan</td>\n",
       "      <td id=\"T_2f6de_row20_col5\" class=\"data row20 col5\" >-0.00</td>\n",
       "      <td id=\"T_2f6de_row20_col6\" class=\"data row20 col6\" >0.00</td>\n",
       "      <td id=\"T_2f6de_row20_col7\" class=\"data row20 col7\" >0.00</td>\n",
       "      <td id=\"T_2f6de_row20_col8\" class=\"data row20 col8\" >-0.01</td>\n",
       "      <td id=\"T_2f6de_row20_col9\" class=\"data row20 col9\" >0.01</td>\n",
       "      <td id=\"T_2f6de_row20_col10\" class=\"data row20 col10\" >-0.07</td>\n",
       "      <td id=\"T_2f6de_row20_col11\" class=\"data row20 col11\" >-0.07</td>\n",
       "      <td id=\"T_2f6de_row20_col12\" class=\"data row20 col12\" >0.04</td>\n",
       "      <td id=\"T_2f6de_row20_col13\" class=\"data row20 col13\" >0.01</td>\n",
       "      <td id=\"T_2f6de_row20_col14\" class=\"data row20 col14\" >0.01</td>\n",
       "      <td id=\"T_2f6de_row20_col15\" class=\"data row20 col15\" >-0.05</td>\n",
       "      <td id=\"T_2f6de_row20_col16\" class=\"data row20 col16\" >0.04</td>\n",
       "      <td id=\"T_2f6de_row20_col17\" class=\"data row20 col17\" >0.03</td>\n",
       "      <td id=\"T_2f6de_row20_col18\" class=\"data row20 col18\" >-0.05</td>\n",
       "      <td id=\"T_2f6de_row20_col19\" class=\"data row20 col19\" >-0.03</td>\n",
       "      <td id=\"T_2f6de_row20_col20\" class=\"data row20 col20\" >nan</td>\n",
       "      <td id=\"T_2f6de_row20_col21\" class=\"data row20 col21\" >nan</td>\n",
       "      <td id=\"T_2f6de_row20_col22\" class=\"data row20 col22\" >nan</td>\n",
       "      <td id=\"T_2f6de_row20_col23\" class=\"data row20 col23\" >nan</td>\n",
       "      <td id=\"T_2f6de_row20_col24\" class=\"data row20 col24\" >nan</td>\n",
       "      <td id=\"T_2f6de_row20_col25\" class=\"data row20 col25\" >nan</td>\n",
       "      <td id=\"T_2f6de_row20_col26\" class=\"data row20 col26\" >nan</td>\n",
       "      <td id=\"T_2f6de_row20_col27\" class=\"data row20 col27\" >nan</td>\n",
       "    </tr>\n",
       "    <tr>\n",
       "      <th id=\"T_2f6de_level0_row21\" class=\"row_heading level0 row21\" >2015</th>\n",
       "      <td id=\"T_2f6de_row21_col0\" class=\"data row21 col0\" >0.09</td>\n",
       "      <td id=\"T_2f6de_row21_col1\" class=\"data row21 col1\" >0.00</td>\n",
       "      <td id=\"T_2f6de_row21_col2\" class=\"data row21 col2\" >0.00</td>\n",
       "      <td id=\"T_2f6de_row21_col3\" class=\"data row21 col3\" >0.00</td>\n",
       "      <td id=\"T_2f6de_row21_col4\" class=\"data row21 col4\" >nan</td>\n",
       "      <td id=\"T_2f6de_row21_col5\" class=\"data row21 col5\" >-0.00</td>\n",
       "      <td id=\"T_2f6de_row21_col6\" class=\"data row21 col6\" >-0.01</td>\n",
       "      <td id=\"T_2f6de_row21_col7\" class=\"data row21 col7\" >-0.00</td>\n",
       "      <td id=\"T_2f6de_row21_col8\" class=\"data row21 col8\" >0.00</td>\n",
       "      <td id=\"T_2f6de_row21_col9\" class=\"data row21 col9\" >-0.00</td>\n",
       "      <td id=\"T_2f6de_row21_col10\" class=\"data row21 col10\" >0.00</td>\n",
       "      <td id=\"T_2f6de_row21_col11\" class=\"data row21 col11\" >0.02</td>\n",
       "      <td id=\"T_2f6de_row21_col12\" class=\"data row21 col12\" >-0.01</td>\n",
       "      <td id=\"T_2f6de_row21_col13\" class=\"data row21 col13\" >0.01</td>\n",
       "      <td id=\"T_2f6de_row21_col14\" class=\"data row21 col14\" >-0.01</td>\n",
       "      <td id=\"T_2f6de_row21_col15\" class=\"data row21 col15\" >0.00</td>\n",
       "      <td id=\"T_2f6de_row21_col16\" class=\"data row21 col16\" >-0.03</td>\n",
       "      <td id=\"T_2f6de_row21_col17\" class=\"data row21 col17\" >0.02</td>\n",
       "      <td id=\"T_2f6de_row21_col18\" class=\"data row21 col18\" >0.01</td>\n",
       "      <td id=\"T_2f6de_row21_col19\" class=\"data row21 col19\" >-0.05</td>\n",
       "      <td id=\"T_2f6de_row21_col20\" class=\"data row21 col20\" >-0.07</td>\n",
       "      <td id=\"T_2f6de_row21_col21\" class=\"data row21 col21\" >nan</td>\n",
       "      <td id=\"T_2f6de_row21_col22\" class=\"data row21 col22\" >nan</td>\n",
       "      <td id=\"T_2f6de_row21_col23\" class=\"data row21 col23\" >nan</td>\n",
       "      <td id=\"T_2f6de_row21_col24\" class=\"data row21 col24\" >nan</td>\n",
       "      <td id=\"T_2f6de_row21_col25\" class=\"data row21 col25\" >nan</td>\n",
       "      <td id=\"T_2f6de_row21_col26\" class=\"data row21 col26\" >nan</td>\n",
       "      <td id=\"T_2f6de_row21_col27\" class=\"data row21 col27\" >nan</td>\n",
       "    </tr>\n",
       "    <tr>\n",
       "      <th id=\"T_2f6de_level0_row22\" class=\"row_heading level0 row22\" >2016</th>\n",
       "      <td id=\"T_2f6de_row22_col0\" class=\"data row22 col0\" >0.19</td>\n",
       "      <td id=\"T_2f6de_row22_col1\" class=\"data row22 col1\" >0.00</td>\n",
       "      <td id=\"T_2f6de_row22_col2\" class=\"data row22 col2\" >0.00</td>\n",
       "      <td id=\"T_2f6de_row22_col3\" class=\"data row22 col3\" >0.00</td>\n",
       "      <td id=\"T_2f6de_row22_col4\" class=\"data row22 col4\" >nan</td>\n",
       "      <td id=\"T_2f6de_row22_col5\" class=\"data row22 col5\" >-0.00</td>\n",
       "      <td id=\"T_2f6de_row22_col6\" class=\"data row22 col6\" >0.00</td>\n",
       "      <td id=\"T_2f6de_row22_col7\" class=\"data row22 col7\" >-0.00</td>\n",
       "      <td id=\"T_2f6de_row22_col8\" class=\"data row22 col8\" >0.00</td>\n",
       "      <td id=\"T_2f6de_row22_col9\" class=\"data row22 col9\" >-0.00</td>\n",
       "      <td id=\"T_2f6de_row22_col10\" class=\"data row22 col10\" >0.05</td>\n",
       "      <td id=\"T_2f6de_row22_col11\" class=\"data row22 col11\" >0.11</td>\n",
       "      <td id=\"T_2f6de_row22_col12\" class=\"data row22 col12\" >-0.06</td>\n",
       "      <td id=\"T_2f6de_row22_col13\" class=\"data row22 col13\" >-0.01</td>\n",
       "      <td id=\"T_2f6de_row22_col14\" class=\"data row22 col14\" >0.03</td>\n",
       "      <td id=\"T_2f6de_row22_col15\" class=\"data row22 col15\" >0.04</td>\n",
       "      <td id=\"T_2f6de_row22_col16\" class=\"data row22 col16\" >-0.08</td>\n",
       "      <td id=\"T_2f6de_row22_col17\" class=\"data row22 col17\" >-0.01</td>\n",
       "      <td id=\"T_2f6de_row22_col18\" class=\"data row22 col18\" >0.08</td>\n",
       "      <td id=\"T_2f6de_row22_col19\" class=\"data row22 col19\" >-0.07</td>\n",
       "      <td id=\"T_2f6de_row22_col20\" class=\"data row22 col20\" >-0.10</td>\n",
       "      <td id=\"T_2f6de_row22_col21\" class=\"data row22 col21\" >-0.18</td>\n",
       "      <td id=\"T_2f6de_row22_col22\" class=\"data row22 col22\" >nan</td>\n",
       "      <td id=\"T_2f6de_row22_col23\" class=\"data row22 col23\" >nan</td>\n",
       "      <td id=\"T_2f6de_row22_col24\" class=\"data row22 col24\" >nan</td>\n",
       "      <td id=\"T_2f6de_row22_col25\" class=\"data row22 col25\" >nan</td>\n",
       "      <td id=\"T_2f6de_row22_col26\" class=\"data row22 col26\" >nan</td>\n",
       "      <td id=\"T_2f6de_row22_col27\" class=\"data row22 col27\" >nan</td>\n",
       "    </tr>\n",
       "    <tr>\n",
       "      <th id=\"T_2f6de_level0_row23\" class=\"row_heading level0 row23\" >2017</th>\n",
       "      <td id=\"T_2f6de_row23_col0\" class=\"data row23 col0\" >-0.01</td>\n",
       "      <td id=\"T_2f6de_row23_col1\" class=\"data row23 col1\" >0.00</td>\n",
       "      <td id=\"T_2f6de_row23_col2\" class=\"data row23 col2\" >-0.01</td>\n",
       "      <td id=\"T_2f6de_row23_col3\" class=\"data row23 col3\" >-0.01</td>\n",
       "      <td id=\"T_2f6de_row23_col4\" class=\"data row23 col4\" >nan</td>\n",
       "      <td id=\"T_2f6de_row23_col5\" class=\"data row23 col5\" >0.00</td>\n",
       "      <td id=\"T_2f6de_row23_col6\" class=\"data row23 col6\" >0.00</td>\n",
       "      <td id=\"T_2f6de_row23_col7\" class=\"data row23 col7\" >0.00</td>\n",
       "      <td id=\"T_2f6de_row23_col8\" class=\"data row23 col8\" >0.00</td>\n",
       "      <td id=\"T_2f6de_row23_col9\" class=\"data row23 col9\" >-0.00</td>\n",
       "      <td id=\"T_2f6de_row23_col10\" class=\"data row23 col10\" >0.01</td>\n",
       "      <td id=\"T_2f6de_row23_col11\" class=\"data row23 col11\" >0.01</td>\n",
       "      <td id=\"T_2f6de_row23_col12\" class=\"data row23 col12\" >0.00</td>\n",
       "      <td id=\"T_2f6de_row23_col13\" class=\"data row23 col13\" >0.00</td>\n",
       "      <td id=\"T_2f6de_row23_col14\" class=\"data row23 col14\" >-0.02</td>\n",
       "      <td id=\"T_2f6de_row23_col15\" class=\"data row23 col15\" >0.01</td>\n",
       "      <td id=\"T_2f6de_row23_col16\" class=\"data row23 col16\" >-0.00</td>\n",
       "      <td id=\"T_2f6de_row23_col17\" class=\"data row23 col17\" >-0.02</td>\n",
       "      <td id=\"T_2f6de_row23_col18\" class=\"data row23 col18\" >0.01</td>\n",
       "      <td id=\"T_2f6de_row23_col19\" class=\"data row23 col19\" >-0.10</td>\n",
       "      <td id=\"T_2f6de_row23_col20\" class=\"data row23 col20\" >-0.16</td>\n",
       "      <td id=\"T_2f6de_row23_col21\" class=\"data row23 col21\" >-0.27</td>\n",
       "      <td id=\"T_2f6de_row23_col22\" class=\"data row23 col22\" >-0.40</td>\n",
       "      <td id=\"T_2f6de_row23_col23\" class=\"data row23 col23\" >nan</td>\n",
       "      <td id=\"T_2f6de_row23_col24\" class=\"data row23 col24\" >nan</td>\n",
       "      <td id=\"T_2f6de_row23_col25\" class=\"data row23 col25\" >nan</td>\n",
       "      <td id=\"T_2f6de_row23_col26\" class=\"data row23 col26\" >nan</td>\n",
       "      <td id=\"T_2f6de_row23_col27\" class=\"data row23 col27\" >nan</td>\n",
       "    </tr>\n",
       "    <tr>\n",
       "      <th id=\"T_2f6de_level0_row24\" class=\"row_heading level0 row24\" >2018</th>\n",
       "      <td id=\"T_2f6de_row24_col0\" class=\"data row24 col0\" >-0.23</td>\n",
       "      <td id=\"T_2f6de_row24_col1\" class=\"data row24 col1\" >-0.01</td>\n",
       "      <td id=\"T_2f6de_row24_col2\" class=\"data row24 col2\" >-0.00</td>\n",
       "      <td id=\"T_2f6de_row24_col3\" class=\"data row24 col3\" >0.01</td>\n",
       "      <td id=\"T_2f6de_row24_col4\" class=\"data row24 col4\" >nan</td>\n",
       "      <td id=\"T_2f6de_row24_col5\" class=\"data row24 col5\" >-0.00</td>\n",
       "      <td id=\"T_2f6de_row24_col6\" class=\"data row24 col6\" >0.00</td>\n",
       "      <td id=\"T_2f6de_row24_col7\" class=\"data row24 col7\" >0.00</td>\n",
       "      <td id=\"T_2f6de_row24_col8\" class=\"data row24 col8\" >-0.01</td>\n",
       "      <td id=\"T_2f6de_row24_col9\" class=\"data row24 col9\" >0.01</td>\n",
       "      <td id=\"T_2f6de_row24_col10\" class=\"data row24 col10\" >-0.03</td>\n",
       "      <td id=\"T_2f6de_row24_col11\" class=\"data row24 col11\" >-0.08</td>\n",
       "      <td id=\"T_2f6de_row24_col12\" class=\"data row24 col12\" >0.04</td>\n",
       "      <td id=\"T_2f6de_row24_col13\" class=\"data row24 col13\" >-0.01</td>\n",
       "      <td id=\"T_2f6de_row24_col14\" class=\"data row24 col14\" >-0.00</td>\n",
       "      <td id=\"T_2f6de_row24_col15\" class=\"data row24 col15\" >-0.02</td>\n",
       "      <td id=\"T_2f6de_row24_col16\" class=\"data row24 col16\" >0.06</td>\n",
       "      <td id=\"T_2f6de_row24_col17\" class=\"data row24 col17\" >-0.01</td>\n",
       "      <td id=\"T_2f6de_row24_col18\" class=\"data row24 col18\" >-0.06</td>\n",
       "      <td id=\"T_2f6de_row24_col19\" class=\"data row24 col19\" >-0.08</td>\n",
       "      <td id=\"T_2f6de_row24_col20\" class=\"data row24 col20\" >-0.12</td>\n",
       "      <td id=\"T_2f6de_row24_col21\" class=\"data row24 col21\" >-0.20</td>\n",
       "      <td id=\"T_2f6de_row24_col22\" class=\"data row24 col22\" >-0.29</td>\n",
       "      <td id=\"T_2f6de_row24_col23\" class=\"data row24 col23\" >-0.45</td>\n",
       "      <td id=\"T_2f6de_row24_col24\" class=\"data row24 col24\" >nan</td>\n",
       "      <td id=\"T_2f6de_row24_col25\" class=\"data row24 col25\" >nan</td>\n",
       "      <td id=\"T_2f6de_row24_col26\" class=\"data row24 col26\" >nan</td>\n",
       "      <td id=\"T_2f6de_row24_col27\" class=\"data row24 col27\" >nan</td>\n",
       "    </tr>\n",
       "    <tr>\n",
       "      <th id=\"T_2f6de_level0_row25\" class=\"row_heading level0 row25\" >F</th>\n",
       "      <td id=\"T_2f6de_row25_col0\" class=\"data row25 col0\" >0.24</td>\n",
       "      <td id=\"T_2f6de_row25_col1\" class=\"data row25 col1\" >0.00</td>\n",
       "      <td id=\"T_2f6de_row25_col2\" class=\"data row25 col2\" >0.00</td>\n",
       "      <td id=\"T_2f6de_row25_col3\" class=\"data row25 col3\" >0.00</td>\n",
       "      <td id=\"T_2f6de_row25_col4\" class=\"data row25 col4\" >nan</td>\n",
       "      <td id=\"T_2f6de_row25_col5\" class=\"data row25 col5\" >-0.00</td>\n",
       "      <td id=\"T_2f6de_row25_col6\" class=\"data row25 col6\" >-0.00</td>\n",
       "      <td id=\"T_2f6de_row25_col7\" class=\"data row25 col7\" >0.00</td>\n",
       "      <td id=\"T_2f6de_row25_col8\" class=\"data row25 col8\" >-0.00</td>\n",
       "      <td id=\"T_2f6de_row25_col9\" class=\"data row25 col9\" >0.00</td>\n",
       "      <td id=\"T_2f6de_row25_col10\" class=\"data row25 col10\" >-0.14</td>\n",
       "      <td id=\"T_2f6de_row25_col11\" class=\"data row25 col11\" >0.22</td>\n",
       "      <td id=\"T_2f6de_row25_col12\" class=\"data row25 col12\" >-0.06</td>\n",
       "      <td id=\"T_2f6de_row25_col13\" class=\"data row25 col13\" >0.04</td>\n",
       "      <td id=\"T_2f6de_row25_col14\" class=\"data row25 col14\" >0.09</td>\n",
       "      <td id=\"T_2f6de_row25_col15\" class=\"data row25 col15\" >-0.06</td>\n",
       "      <td id=\"T_2f6de_row25_col16\" class=\"data row25 col16\" >-0.08</td>\n",
       "      <td id=\"T_2f6de_row25_col17\" class=\"data row25 col17\" >0.11</td>\n",
       "      <td id=\"T_2f6de_row25_col18\" class=\"data row25 col18\" >0.21</td>\n",
       "      <td id=\"T_2f6de_row25_col19\" class=\"data row25 col19\" >-0.02</td>\n",
       "      <td id=\"T_2f6de_row25_col20\" class=\"data row25 col20\" >-0.07</td>\n",
       "      <td id=\"T_2f6de_row25_col21\" class=\"data row25 col21\" >0.01</td>\n",
       "      <td id=\"T_2f6de_row25_col22\" class=\"data row25 col22\" >0.07</td>\n",
       "      <td id=\"T_2f6de_row25_col23\" class=\"data row25 col23\" >0.03</td>\n",
       "      <td id=\"T_2f6de_row25_col24\" class=\"data row25 col24\" >-0.06</td>\n",
       "      <td id=\"T_2f6de_row25_col25\" class=\"data row25 col25\" >nan</td>\n",
       "      <td id=\"T_2f6de_row25_col26\" class=\"data row25 col26\" >nan</td>\n",
       "      <td id=\"T_2f6de_row25_col27\" class=\"data row25 col27\" >nan</td>\n",
       "    </tr>\n",
       "    <tr>\n",
       "      <th id=\"T_2f6de_level0_row26\" class=\"row_heading level0 row26\" >M</th>\n",
       "      <td id=\"T_2f6de_row26_col0\" class=\"data row26 col0\" >-0.02</td>\n",
       "      <td id=\"T_2f6de_row26_col1\" class=\"data row26 col1\" >-0.00</td>\n",
       "      <td id=\"T_2f6de_row26_col2\" class=\"data row26 col2\" >0.00</td>\n",
       "      <td id=\"T_2f6de_row26_col3\" class=\"data row26 col3\" >0.00</td>\n",
       "      <td id=\"T_2f6de_row26_col4\" class=\"data row26 col4\" >nan</td>\n",
       "      <td id=\"T_2f6de_row26_col5\" class=\"data row26 col5\" >0.00</td>\n",
       "      <td id=\"T_2f6de_row26_col6\" class=\"data row26 col6\" >0.00</td>\n",
       "      <td id=\"T_2f6de_row26_col7\" class=\"data row26 col7\" >-0.00</td>\n",
       "      <td id=\"T_2f6de_row26_col8\" class=\"data row26 col8\" >-0.00</td>\n",
       "      <td id=\"T_2f6de_row26_col9\" class=\"data row26 col9\" >0.00</td>\n",
       "      <td id=\"T_2f6de_row26_col10\" class=\"data row26 col10\" >-0.39</td>\n",
       "      <td id=\"T_2f6de_row26_col11\" class=\"data row26 col11\" >-0.20</td>\n",
       "      <td id=\"T_2f6de_row26_col12\" class=\"data row26 col12\" >0.16</td>\n",
       "      <td id=\"T_2f6de_row26_col13\" class=\"data row26 col13\" >0.13</td>\n",
       "      <td id=\"T_2f6de_row26_col14\" class=\"data row26 col14\" >0.03</td>\n",
       "      <td id=\"T_2f6de_row26_col15\" class=\"data row26 col15\" >-0.26</td>\n",
       "      <td id=\"T_2f6de_row26_col16\" class=\"data row26 col16\" >0.23</td>\n",
       "      <td id=\"T_2f6de_row26_col17\" class=\"data row26 col17\" >0.12</td>\n",
       "      <td id=\"T_2f6de_row26_col18\" class=\"data row26 col18\" >-0.09</td>\n",
       "      <td id=\"T_2f6de_row26_col19\" class=\"data row26 col19\" >0.05</td>\n",
       "      <td id=\"T_2f6de_row26_col20\" class=\"data row26 col20\" >0.11</td>\n",
       "      <td id=\"T_2f6de_row26_col21\" class=\"data row26 col21\" >-0.01</td>\n",
       "      <td id=\"T_2f6de_row26_col22\" class=\"data row26 col22\" >-0.08</td>\n",
       "      <td id=\"T_2f6de_row26_col23\" class=\"data row26 col23\" >-0.04</td>\n",
       "      <td id=\"T_2f6de_row26_col24\" class=\"data row26 col24\" >0.06</td>\n",
       "      <td id=\"T_2f6de_row26_col25\" class=\"data row26 col25\" >-0.75</td>\n",
       "      <td id=\"T_2f6de_row26_col26\" class=\"data row26 col26\" >nan</td>\n",
       "      <td id=\"T_2f6de_row26_col27\" class=\"data row26 col27\" >nan</td>\n",
       "    </tr>\n",
       "    <tr>\n",
       "      <th id=\"T_2f6de_level0_row27\" class=\"row_heading level0 row27\" >O</th>\n",
       "      <td id=\"T_2f6de_row27_col0\" class=\"data row27 col0\" >-0.30</td>\n",
       "      <td id=\"T_2f6de_row27_col1\" class=\"data row27 col1\" >0.00</td>\n",
       "      <td id=\"T_2f6de_row27_col2\" class=\"data row27 col2\" >-0.01</td>\n",
       "      <td id=\"T_2f6de_row27_col3\" class=\"data row27 col3\" >-0.01</td>\n",
       "      <td id=\"T_2f6de_row27_col4\" class=\"data row27 col4\" >nan</td>\n",
       "      <td id=\"T_2f6de_row27_col5\" class=\"data row27 col5\" >0.00</td>\n",
       "      <td id=\"T_2f6de_row27_col6\" class=\"data row27 col6\" >0.00</td>\n",
       "      <td id=\"T_2f6de_row27_col7\" class=\"data row27 col7\" >0.00</td>\n",
       "      <td id=\"T_2f6de_row27_col8\" class=\"data row27 col8\" >0.00</td>\n",
       "      <td id=\"T_2f6de_row27_col9\" class=\"data row27 col9\" >-0.00</td>\n",
       "      <td id=\"T_2f6de_row27_col10\" class=\"data row27 col10\" >0.76</td>\n",
       "      <td id=\"T_2f6de_row27_col11\" class=\"data row27 col11\" >-0.00</td>\n",
       "      <td id=\"T_2f6de_row27_col12\" class=\"data row27 col12\" >-0.15</td>\n",
       "      <td id=\"T_2f6de_row27_col13\" class=\"data row27 col13\" >-0.23</td>\n",
       "      <td id=\"T_2f6de_row27_col14\" class=\"data row27 col14\" >-0.17</td>\n",
       "      <td id=\"T_2f6de_row27_col15\" class=\"data row27 col15\" >0.47</td>\n",
       "      <td id=\"T_2f6de_row27_col16\" class=\"data row27 col16\" >-0.22</td>\n",
       "      <td id=\"T_2f6de_row27_col17\" class=\"data row27 col17\" >-0.31</td>\n",
       "      <td id=\"T_2f6de_row27_col18\" class=\"data row27 col18\" >-0.17</td>\n",
       "      <td id=\"T_2f6de_row27_col19\" class=\"data row27 col19\" >-0.03</td>\n",
       "      <td id=\"T_2f6de_row27_col20\" class=\"data row27 col20\" >-0.06</td>\n",
       "      <td id=\"T_2f6de_row27_col21\" class=\"data row27 col21\" >0.00</td>\n",
       "      <td id=\"T_2f6de_row27_col22\" class=\"data row27 col22\" >0.02</td>\n",
       "      <td id=\"T_2f6de_row27_col23\" class=\"data row27 col23\" >0.02</td>\n",
       "      <td id=\"T_2f6de_row27_col24\" class=\"data row27 col24\" >-0.00</td>\n",
       "      <td id=\"T_2f6de_row27_col25\" class=\"data row27 col25\" >-0.30</td>\n",
       "      <td id=\"T_2f6de_row27_col26\" class=\"data row27 col26\" >-0.40</td>\n",
       "      <td id=\"T_2f6de_row27_col27\" class=\"data row27 col27\" >nan</td>\n",
       "    </tr>\n",
       "  </tbody>\n",
       "</table>\n"
      ],
      "text/plain": [
       "<pandas.io.formats.style.Styler at 0x7fc9910d12b0>"
      ]
     },
     "execution_count": 95,
     "metadata": {},
     "output_type": "execute_result"
    }
   ],
   "source": [
    "corr = input_df.corr()\n",
    "mask = np.zeros_like(corr, dtype=bool)\n",
    "mask[np.triu_indices_from(mask)] = True\n",
    "corr[mask] = np.nan\n",
    "(corr\n",
    " .style\n",
    " .background_gradient(cmap='coolwarm', axis=None, vmin=-1, vmax=1)\n",
    " .highlight_null(null_color='#f1f1f1')  # Color NaNs grey\n",
    " .set_precision(2))"
   ]
  },
  {
   "cell_type": "markdown",
   "metadata": {},
   "source": [
    "Multivariate Analysis"
   ]
  },
  {
   "cell_type": "markdown",
   "metadata": {},
   "source": [
    "<h3> 3.2. Model implement </h3>"
   ]
  },
  {
   "cell_type": "code",
   "execution_count": 96,
   "metadata": {},
   "outputs": [],
   "source": [
    "from sklearn.model_selection import train_test_split\n",
    "import warnings\n",
    "warnings.filterwarnings('ignore')"
   ]
  },
  {
   "cell_type": "code",
   "execution_count": 97,
   "metadata": {},
   "outputs": [],
   "source": [
    "inputs_train, inputs_test = train_test_split(input_df, test_size=0.3)"
   ]
  },
  {
   "cell_type": "code",
   "execution_count": 98,
   "metadata": {},
   "outputs": [
    {
     "data": {
      "text/html": [
       "<div>\n",
       "<style scoped>\n",
       "    .dataframe tbody tr th:only-of-type {\n",
       "        vertical-align: middle;\n",
       "    }\n",
       "\n",
       "    .dataframe tbody tr th {\n",
       "        vertical-align: top;\n",
       "    }\n",
       "\n",
       "    .dataframe thead th {\n",
       "        text-align: right;\n",
       "    }\n",
       "</style>\n",
       "<table border=\"1\" class=\"dataframe\">\n",
       "  <thead>\n",
       "    <tr style=\"text-align: right;\">\n",
       "      <th></th>\n",
       "      <th>user_id</th>\n",
       "      <th>offer_id</th>\n",
       "      <th>is_success</th>\n",
       "      <th>reward</th>\n",
       "      <th>difficulty</th>\n",
       "      <th>duration</th>\n",
       "      <th>email</th>\n",
       "      <th>mobile</th>\n",
       "      <th>social</th>\n",
       "      <th>web</th>\n",
       "      <th>...</th>\n",
       "      <th>Upper-income</th>\n",
       "      <th>2013</th>\n",
       "      <th>2014</th>\n",
       "      <th>2015</th>\n",
       "      <th>2016</th>\n",
       "      <th>2017</th>\n",
       "      <th>2018</th>\n",
       "      <th>F</th>\n",
       "      <th>M</th>\n",
       "      <th>O</th>\n",
       "    </tr>\n",
       "  </thead>\n",
       "  <tbody>\n",
       "    <tr>\n",
       "      <th>33515</th>\n",
       "      <td>a79cddbd5cbb42cc9d68ff804942ddda</td>\n",
       "      <td>9b98b8c7a33c4b65b9aebfe6a799e6d9</td>\n",
       "      <td>0</td>\n",
       "      <td>5</td>\n",
       "      <td>5</td>\n",
       "      <td>7</td>\n",
       "      <td>1.0</td>\n",
       "      <td>1.0</td>\n",
       "      <td>0.0</td>\n",
       "      <td>1.0</td>\n",
       "      <td>...</td>\n",
       "      <td>0</td>\n",
       "      <td>0</td>\n",
       "      <td>0</td>\n",
       "      <td>0</td>\n",
       "      <td>0</td>\n",
       "      <td>0</td>\n",
       "      <td>1</td>\n",
       "      <td>0</td>\n",
       "      <td>1</td>\n",
       "      <td>0</td>\n",
       "    </tr>\n",
       "    <tr>\n",
       "      <th>45408</th>\n",
       "      <td>e4d1de549dc141eeb3db5ded481a6d67</td>\n",
       "      <td>9b98b8c7a33c4b65b9aebfe6a799e6d9</td>\n",
       "      <td>1</td>\n",
       "      <td>5</td>\n",
       "      <td>5</td>\n",
       "      <td>7</td>\n",
       "      <td>1.0</td>\n",
       "      <td>1.0</td>\n",
       "      <td>0.0</td>\n",
       "      <td>1.0</td>\n",
       "      <td>...</td>\n",
       "      <td>1</td>\n",
       "      <td>0</td>\n",
       "      <td>0</td>\n",
       "      <td>0</td>\n",
       "      <td>0</td>\n",
       "      <td>1</td>\n",
       "      <td>0</td>\n",
       "      <td>0</td>\n",
       "      <td>1</td>\n",
       "      <td>0</td>\n",
       "    </tr>\n",
       "    <tr>\n",
       "      <th>31728</th>\n",
       "      <td>9ed7fceee29a4a83978b5c9caa06da35</td>\n",
       "      <td>0b1e1539f2cc45b7b9fa7c272da2e1d7</td>\n",
       "      <td>0</td>\n",
       "      <td>5</td>\n",
       "      <td>20</td>\n",
       "      <td>10</td>\n",
       "      <td>1.0</td>\n",
       "      <td>0.0</td>\n",
       "      <td>0.0</td>\n",
       "      <td>1.0</td>\n",
       "      <td>...</td>\n",
       "      <td>0</td>\n",
       "      <td>0</td>\n",
       "      <td>0</td>\n",
       "      <td>0</td>\n",
       "      <td>0</td>\n",
       "      <td>1</td>\n",
       "      <td>0</td>\n",
       "      <td>0</td>\n",
       "      <td>1</td>\n",
       "      <td>0</td>\n",
       "    </tr>\n",
       "    <tr>\n",
       "      <th>22683</th>\n",
       "      <td>729edf023aa244919d6bb973901614cc</td>\n",
       "      <td>fafdcd668e3743c1bb461111dcafc2a4</td>\n",
       "      <td>1</td>\n",
       "      <td>2</td>\n",
       "      <td>10</td>\n",
       "      <td>10</td>\n",
       "      <td>1.0</td>\n",
       "      <td>1.0</td>\n",
       "      <td>1.0</td>\n",
       "      <td>1.0</td>\n",
       "      <td>...</td>\n",
       "      <td>0</td>\n",
       "      <td>0</td>\n",
       "      <td>0</td>\n",
       "      <td>0</td>\n",
       "      <td>0</td>\n",
       "      <td>1</td>\n",
       "      <td>0</td>\n",
       "      <td>0</td>\n",
       "      <td>1</td>\n",
       "      <td>0</td>\n",
       "    </tr>\n",
       "    <tr>\n",
       "      <th>2906</th>\n",
       "      <td>0f14c97e012049359320876b8dffef58</td>\n",
       "      <td>2906b810c7d4411798c6938adc9daaa5</td>\n",
       "      <td>0</td>\n",
       "      <td>2</td>\n",
       "      <td>10</td>\n",
       "      <td>7</td>\n",
       "      <td>1.0</td>\n",
       "      <td>1.0</td>\n",
       "      <td>0.0</td>\n",
       "      <td>1.0</td>\n",
       "      <td>...</td>\n",
       "      <td>1</td>\n",
       "      <td>0</td>\n",
       "      <td>0</td>\n",
       "      <td>0</td>\n",
       "      <td>0</td>\n",
       "      <td>1</td>\n",
       "      <td>0</td>\n",
       "      <td>1</td>\n",
       "      <td>0</td>\n",
       "      <td>0</td>\n",
       "    </tr>\n",
       "  </tbody>\n",
       "</table>\n",
       "<p>5 rows × 30 columns</p>\n",
       "</div>"
      ],
      "text/plain": [
       "                                user_id                          offer_id  \\\n",
       "33515  a79cddbd5cbb42cc9d68ff804942ddda  9b98b8c7a33c4b65b9aebfe6a799e6d9   \n",
       "45408  e4d1de549dc141eeb3db5ded481a6d67  9b98b8c7a33c4b65b9aebfe6a799e6d9   \n",
       "31728  9ed7fceee29a4a83978b5c9caa06da35  0b1e1539f2cc45b7b9fa7c272da2e1d7   \n",
       "22683  729edf023aa244919d6bb973901614cc  fafdcd668e3743c1bb461111dcafc2a4   \n",
       "2906   0f14c97e012049359320876b8dffef58  2906b810c7d4411798c6938adc9daaa5   \n",
       "\n",
       "       is_success  reward  difficulty  duration  email  mobile  social  web  \\\n",
       "33515           0       5           5         7    1.0     1.0     0.0  1.0   \n",
       "45408           1       5           5         7    1.0     1.0     0.0  1.0   \n",
       "31728           0       5          20        10    1.0     0.0     0.0  1.0   \n",
       "22683           1       2          10        10    1.0     1.0     1.0  1.0   \n",
       "2906            0       2          10         7    1.0     1.0     0.0  1.0   \n",
       "\n",
       "       ...  Upper-income  2013  2014  2015  2016  2017  2018  F  M  O  \n",
       "33515  ...             0     0     0     0     0     0     1  0  1  0  \n",
       "45408  ...             1     0     0     0     0     1     0  0  1  0  \n",
       "31728  ...             0     0     0     0     0     1     0  0  1  0  \n",
       "22683  ...             0     0     0     0     0     1     0  0  1  0  \n",
       "2906   ...             1     0     0     0     0     1     0  1  0  0  \n",
       "\n",
       "[5 rows x 30 columns]"
      ]
     },
     "execution_count": 98,
     "metadata": {},
     "output_type": "execute_result"
    }
   ],
   "source": [
    "inputs_train.head()"
   ]
  },
  {
   "cell_type": "code",
   "execution_count": 99,
   "metadata": {},
   "outputs": [],
   "source": [
    "feature_cols = ['reward', 'difficulty', 'duration', 'email', 'mobile',\n",
    "                'social', 'web', 'bogo', 'discount', 'age', 'income', 'Youth',\n",
    "                'Adults', 'Seniors', 'Older', 'Lower-income', 'Middle-income',  'Upper-income',\n",
    "                2013, 2014, 2015, 2016, 2017, 2018, 'F', 'M', 'O']\n",
    "label_col = \"is_success\""
   ]
  },
  {
   "cell_type": "code",
   "execution_count": 100,
   "metadata": {},
   "outputs": [],
   "source": [
    "X_train, y_train, X_test, y_test = inputs_train[feature_cols], inputs_train[label_col], inputs_test[feature_cols], inputs_test[label_col]"
   ]
  },
  {
   "cell_type": "code",
   "execution_count": 101,
   "metadata": {},
   "outputs": [],
   "source": [
    "from sklearn.metrics import classification_report\n",
    "from sklearn.linear_model import LogisticRegression\n",
    "from sklearn.neighbors import KNeighborsClassifier\n",
    "from sklearn.tree import DecisionTreeClassifier\n",
    "from sklearn.svm import SVC\n",
    "from sklearn.ensemble import RandomForestClassifier\n",
    "from sklearn.naive_bayes import GaussianNB "
   ]
  },
  {
   "cell_type": "code",
   "execution_count": 102,
   "metadata": {},
   "outputs": [
    {
     "name": "stdout",
     "output_type": "stream",
     "text": [
      "              precision    recall  f1-score   support\n",
      "\n",
      "           0       0.64      0.44      0.52      6403\n",
      "           1       0.67      0.82      0.73      8789\n",
      "\n",
      "    accuracy                           0.66     15192\n",
      "   macro avg       0.65      0.63      0.63     15192\n",
      "weighted avg       0.65      0.66      0.64     15192\n",
      "\n"
     ]
    }
   ],
   "source": [
    "lr_model = LogisticRegression()\n",
    "lr_model.fit(X_train, y_train)\n",
    "y_pred = lr_model.predict(X_test)\n",
    "print(classification_report(y_test, y_pred))"
   ]
  },
  {
   "cell_type": "code",
   "execution_count": 103,
   "metadata": {},
   "outputs": [
    {
     "name": "stdout",
     "output_type": "stream",
     "text": [
      "              precision    recall  f1-score   support\n",
      "\n",
      "           0       0.61      0.55      0.58      6403\n",
      "           1       0.69      0.74      0.72      8789\n",
      "\n",
      "    accuracy                           0.66     15192\n",
      "   macro avg       0.65      0.64      0.65     15192\n",
      "weighted avg       0.66      0.66      0.66     15192\n",
      "\n"
     ]
    }
   ],
   "source": [
    "kn_model = KNeighborsClassifier()\n",
    "kn_model.fit(X_train, y_train)\n",
    "y_pred = kn_model.predict(X_test)\n",
    "print(classification_report(y_test, y_pred))"
   ]
  },
  {
   "cell_type": "code",
   "execution_count": 104,
   "metadata": {},
   "outputs": [
    {
     "name": "stdout",
     "output_type": "stream",
     "text": [
      "              precision    recall  f1-score   support\n",
      "\n",
      "           0       0.60      0.66      0.63      6403\n",
      "           1       0.73      0.68      0.70      8789\n",
      "\n",
      "    accuracy                           0.67     15192\n",
      "   macro avg       0.66      0.67      0.66     15192\n",
      "weighted avg       0.67      0.67      0.67     15192\n",
      "\n"
     ]
    }
   ],
   "source": [
    "dt_model = DecisionTreeClassifier()\n",
    "dt_model.fit(X_train, y_train)\n",
    "y_pred = dt_model.predict(X_test)\n",
    "print(classification_report(y_test, y_pred))"
   ]
  },
  {
   "cell_type": "code",
   "execution_count": 105,
   "metadata": {},
   "outputs": [
    {
     "name": "stdout",
     "output_type": "stream",
     "text": [
      "              precision    recall  f1-score   support\n",
      "\n",
      "           0       0.54      0.20      0.29      6403\n",
      "           1       0.60      0.87      0.71      8789\n",
      "\n",
      "    accuracy                           0.59     15192\n",
      "   macro avg       0.57      0.54      0.50     15192\n",
      "weighted avg       0.57      0.59      0.54     15192\n",
      "\n"
     ]
    }
   ],
   "source": [
    "svc_model = SVC()\n",
    "svc_model.fit(X_train, y_train)\n",
    "y_pred = svc_model.predict(X_test)\n",
    "print(classification_report(y_test, y_pred))"
   ]
  },
  {
   "cell_type": "code",
   "execution_count": 106,
   "metadata": {},
   "outputs": [
    {
     "name": "stdout",
     "output_type": "stream",
     "text": [
      "              precision    recall  f1-score   support\n",
      "\n",
      "           0       0.63      0.63      0.63      6403\n",
      "           1       0.73      0.73      0.73      8789\n",
      "\n",
      "    accuracy                           0.69     15192\n",
      "   macro avg       0.68      0.68      0.68     15192\n",
      "weighted avg       0.69      0.69      0.69     15192\n",
      "\n"
     ]
    }
   ],
   "source": [
    "rf_model = RandomForestClassifier()\n",
    "rf_model.fit(X_train, y_train)\n",
    "y_pred = rf_model.predict(X_test)\n",
    "print(classification_report(y_test, y_pred))"
   ]
  },
  {
   "cell_type": "code",
   "execution_count": 107,
   "metadata": {},
   "outputs": [
    {
     "name": "stdout",
     "output_type": "stream",
     "text": [
      "              precision    recall  f1-score   support\n",
      "\n",
      "           0       0.69      0.57      0.62      6403\n",
      "           1       0.72      0.81      0.76      8789\n",
      "\n",
      "    accuracy                           0.71     15192\n",
      "   macro avg       0.70      0.69      0.69     15192\n",
      "weighted avg       0.71      0.71      0.70     15192\n",
      "\n"
     ]
    }
   ],
   "source": [
    "gnb_model = GaussianNB()\n",
    "gnb_model.fit(X_train, y_train)\n",
    "y_pred = gnb_model.predict(X_test)\n",
    "print(classification_report(y_test, y_pred))"
   ]
  },
  {
   "cell_type": "markdown",
   "metadata": {},
   "source": [
    "<h3> 3.3 Model Improvement </h3>"
   ]
  },
  {
   "cell_type": "code",
   "execution_count": 108,
   "metadata": {},
   "outputs": [],
   "source": [
    "from sklearn.model_selection import GridSearchCV"
   ]
  },
  {
   "cell_type": "code",
   "execution_count": 109,
   "metadata": {},
   "outputs": [],
   "source": [
    "param_grid = { \n",
    "    'n_estimators': [200, 300, 400, 500],\n",
    "    'max_features': ['auto', 'sqrt', 'log2'],\n",
    "    'max_depth' : [4, 5, 6],\n",
    "    'criterion' :['gini', 'entropy']\n",
    "}"
   ]
  },
  {
   "cell_type": "code",
   "execution_count": 110,
   "metadata": {},
   "outputs": [
    {
     "data": {
      "text/plain": [
       "GridSearchCV(cv=5, estimator=RandomForestClassifier(random_state=42),\n",
       "             param_grid={'criterion': ['gini', 'entropy'],\n",
       "                         'max_depth': [4, 5, 6],\n",
       "                         'max_features': ['auto', 'sqrt', 'log2'],\n",
       "                         'n_estimators': [200, 300, 400, 500]})"
      ]
     },
     "execution_count": 110,
     "metadata": {},
     "output_type": "execute_result"
    }
   ],
   "source": [
    "rf_gs = GridSearchCV(estimator=RandomForestClassifier(random_state=42), param_grid=param_grid, cv= 5)\n",
    "rf_gs.fit(X_train, y_train)"
   ]
  },
  {
   "cell_type": "code",
   "execution_count": 111,
   "metadata": {},
   "outputs": [
    {
     "data": {
      "text/plain": [
       "{'criterion': 'gini',\n",
       " 'max_depth': 6,\n",
       " 'max_features': 'auto',\n",
       " 'n_estimators': 500}"
      ]
     },
     "execution_count": 111,
     "metadata": {},
     "output_type": "execute_result"
    }
   ],
   "source": [
    "rf_gs.best_params_"
   ]
  },
  {
   "cell_type": "code",
   "execution_count": 112,
   "metadata": {},
   "outputs": [
    {
     "name": "stdout",
     "output_type": "stream",
     "text": [
      "              precision    recall  f1-score   support\n",
      "\n",
      "           0       0.74      0.55      0.63      6403\n",
      "           1       0.72      0.86      0.79      8789\n",
      "\n",
      "    accuracy                           0.73     15192\n",
      "   macro avg       0.73      0.70      0.71     15192\n",
      "weighted avg       0.73      0.73      0.72     15192\n",
      "\n"
     ]
    }
   ],
   "source": [
    "rf_model = RandomForestClassifier(random_state=42, criterion='gini', max_depth=6, max_features='log2', n_estimators=200)\n",
    "rf_model.fit(X_train, y_train)\n",
    "y_pred = rf_model.predict(X_test)\n",
    "print(classification_report(y_test, y_pred))"
   ]
  },
  {
   "cell_type": "markdown",
   "metadata": {},
   "source": [
    "<p>\n",
    "    <h3> Conclusion </h3>\n",
    "    <p>\n",
    "        The main purpose of this project is to predict the chance the offer completed using Starbucks data included offers, porfolior, profile data. The project consists of 2 major steps:\n",
    "    <ul>\n",
    "            <li>1. Data Understanding: exploration analysis after data data preparation and data wrangling step</li>\n",
    "            <li>2. Modelling: Using multiple kind of models to train on data and tunning models</li>\n",
    "    </ul>\n",
    "    Finally, the model achieves 72 % accuracy using Random forest classifiers\n",
    "    </p>\n",
    "    <h3>Further work</h3>\n",
    "    <p>\n",
    "    <ul>\n",
    "        <li>1. The data labels is imbalanced. In further work, the training data need to be balanced before training</li>\n",
    "        <li>2. In order to improve the model performance, The old model have to be analyzed and optimized. There are some approaches to do such as analysing the results on test set, enrich data from transaction data, ...</li>\n",
    "    </p>\n",
    "</p>"
   ]
  },
  {
   "cell_type": "code",
   "execution_count": null,
   "metadata": {},
   "outputs": [],
   "source": []
  },
  {
   "cell_type": "code",
   "execution_count": null,
   "metadata": {},
   "outputs": [],
   "source": []
  }
 ],
 "metadata": {
  "kernelspec": {
   "display_name": "Python 3 (ipykernel)",
   "language": "python",
   "name": "python3"
  },
  "language_info": {
   "codemirror_mode": {
    "name": "ipython",
    "version": 3
   },
   "file_extension": ".py",
   "mimetype": "text/x-python",
   "name": "python",
   "nbconvert_exporter": "python",
   "pygments_lexer": "ipython3",
   "version": "3.8.5"
  }
 },
 "nbformat": 4,
 "nbformat_minor": 2
}
